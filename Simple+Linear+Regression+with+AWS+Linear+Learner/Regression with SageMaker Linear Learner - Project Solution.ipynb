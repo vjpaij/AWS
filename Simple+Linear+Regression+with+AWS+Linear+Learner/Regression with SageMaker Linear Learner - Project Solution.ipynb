{
 "cells": [
  {
   "cell_type": "markdown",
   "metadata": {},
   "source": [
    "# PROJECT SOLUTION"
   ]
  },
  {
   "cell_type": "markdown",
   "metadata": {
    "colab_type": "text",
    "id": "zKmFmyaGunc7"
   },
   "source": [
    "# TASK #1: IMPORT KEY LIBRARIES/DATASETS AND PREPARE THE DATA FOR TRAINING"
   ]
  },
  {
   "cell_type": "code",
   "execution_count": 1,
   "metadata": {},
   "outputs": [
    {
     "name": "stdout",
     "output_type": "stream",
     "text": [
      "/opt/conda/lib/python3.7/site-packages/secretstorage/dhcrypto.py:16: CryptographyDeprecationWarning: int_from_bytes is deprecated, use int.from_bytes instead\n",
      "  from cryptography.utils import int_from_bytes\n",
      "/opt/conda/lib/python3.7/site-packages/secretstorage/util.py:25: CryptographyDeprecationWarning: int_from_bytes is deprecated, use int.from_bytes instead\n",
      "  from cryptography.utils import int_from_bytes\n",
      "Package                              Version\n",
      "------------------------------------ -----------------\n",
      "aiobotocore                          2.0.1\n",
      "aiohttp                              3.8.1\n",
      "aioitertools                         0.8.0\n",
      "aiosignal                            1.2.0\n",
      "alabaster                            0.7.12\n",
      "anaconda-client                      1.7.2\n",
      "anaconda-project                     0.8.3\n",
      "argh                                 0.26.2\n",
      "argon2-cffi                          21.3.0\n",
      "argon2-cffi-bindings                 21.2.0\n",
      "asn1crypto                           1.3.0\n",
      "astroid                              2.9.0\n",
      "astropy                              4.0\n",
      "async-timeout                        4.0.1\n",
      "asynctest                            0.13.0\n",
      "atomicwrites                         1.3.0\n",
      "attrs                                19.3.0\n",
      "autopep8                             1.4.4\n",
      "autovizwidget                        0.19.1\n",
      "awscli                               1.22.23\n",
      "Babel                                2.9.1\n",
      "backcall                             0.1.0\n",
      "backports.shutil-get-terminal-size   1.0.0\n",
      "beautifulsoup4                       4.8.2\n",
      "bitarray                             1.2.1\n",
      "bkcharts                             0.2\n",
      "bleach                               4.1.0\n",
      "bokeh                                1.4.0\n",
      "boto                                 2.49.0\n",
      "boto3                                1.20.23\n",
      "botocore                             1.23.23\n",
      "Bottleneck                           1.3.2\n",
      "brotlipy                             0.7.0\n",
      "cached-property                      1.5.2\n",
      "certifi                              2021.10.8\n",
      "cffi                                 1.14.6\n",
      "chardet                              3.0.4\n",
      "charset-normalizer                   2.0.4\n",
      "Click                                7.0\n",
      "cloudpickle                          2.0.0\n",
      "clyent                               1.2.2\n",
      "colorama                             0.4.3\n",
      "conda                                4.11.0\n",
      "conda-package-handling               1.7.3\n",
      "contextlib2                          0.6.0.post1\n",
      "cryptography                         36.0.0\n",
      "cycler                               0.10.0\n",
      "Cython                               0.29.15\n",
      "cytoolz                              0.10.1\n",
      "dask                                 2021.12.0\n",
      "decorator                            4.4.1\n",
      "defusedxml                           0.6.0\n",
      "diff-match-patch                     20181111\n",
      "dill                                 0.3.4\n",
      "distributed                          2021.12.0\n",
      "distro                               1.6.0\n",
      "docker                               5.0.0\n",
      "docker-compose                       1.29.2\n",
      "dockerpty                            0.4.1\n",
      "docopt                               0.6.2\n",
      "docutils                             0.15.2\n",
      "dparse                               0.5.1\n",
      "entrypoints                          0.3\n",
      "et-xmlfile                           1.0.1\n",
      "fastcache                            1.1.0\n",
      "filelock                             3.0.12\n",
      "flake8                               3.7.9\n",
      "Flask                                1.1.1\n",
      "frozenlist                           1.2.0\n",
      "fsspec                               2021.11.1\n",
      "future                               0.18.2\n",
      "gevent                               1.4.0\n",
      "glob2                                0.7\n",
      "gmpy2                                2.0.8\n",
      "google-pasta                         0.2.0\n",
      "greenlet                             0.4.15\n",
      "h5py                                 2.10.0\n",
      "hdijupyterutils                      0.19.1\n",
      "HeapDict                             1.0.1\n",
      "html5lib                             1.0.1\n",
      "hypothesis                           5.5.4\n",
      "idna                                 2.8\n",
      "imageio                              2.6.1\n",
      "imagesize                            1.2.0\n",
      "importlib-metadata                   1.5.0\n",
      "intervaltree                         3.0.2\n",
      "ipykernel                            5.1.4\n",
      "ipython                              7.12.0\n",
      "ipython_genutils                     0.2.0\n",
      "ipywidgets                           7.5.1\n",
      "isort                                4.3.21\n",
      "itsdangerous                         1.1.0\n",
      "jdcal                                1.4.1\n",
      "jedi                                 0.14.1\n",
      "jeepney                              0.4.2\n",
      "Jinja2                               3.0.3\n",
      "jmespath                             0.10.0\n",
      "joblib                               0.14.1\n",
      "json5                                0.9.1\n",
      "jsonschema                           3.2.0\n",
      "jupyter                              1.0.0\n",
      "jupyter-client                       5.3.4\n",
      "jupyter-console                      6.1.0\n",
      "jupyter-core                         4.6.1\n",
      "jupyterlab                           1.2.21\n",
      "jupyterlab-server                    1.0.6\n",
      "keyring                              21.1.0\n",
      "kiwisolver                           1.1.0\n",
      "lazy-object-proxy                    1.4.3\n",
      "libarchive-c                         2.8\n",
      "lief                                 0.9.0\n",
      "llvmlite                             0.37.0\n",
      "locket                               0.2.0\n",
      "lxml                                 4.6.4\n",
      "MarkupSafe                           2.0.1\n",
      "matplotlib                           3.1.3\n",
      "mccabe                               0.6.1\n",
      "mistune                              0.8.4\n",
      "mkl-fft                              1.0.15\n",
      "mkl-random                           1.1.0\n",
      "mkl-service                          2.3.0\n",
      "mock                                 4.0.1\n",
      "more-itertools                       8.2.0\n",
      "mpmath                               1.1.0\n",
      "msgpack                              0.6.1\n",
      "multidict                            5.2.0\n",
      "multipledispatch                     0.6.0\n",
      "multiprocess                         0.70.12.2\n",
      "nbconvert                            5.6.1\n",
      "nbformat                             5.0.4\n",
      "nest-asyncio                         1.5.4\n",
      "networkx                             2.4\n",
      "nltk                                 3.4.5\n",
      "nose                                 1.3.7\n",
      "notebook                             6.4.6\n",
      "numba                                0.54.1\n",
      "numexpr                              2.7.1\n",
      "numpy                                1.20.3\n",
      "numpydoc                             0.9.2\n",
      "olefile                              0.46\n",
      "openpyxl                             3.0.3\n",
      "packaging                            20.1\n",
      "pandas                               1.3.5\n",
      "pandocfilters                        1.4.2\n",
      "parso                                0.5.2\n",
      "partd                                1.1.0\n",
      "path                                 13.1.0\n",
      "pathlib2                             2.3.5\n",
      "pathos                               0.2.8\n",
      "pathtools                            0.1.2\n",
      "patsy                                0.5.1\n",
      "pep8                                 1.7.1\n",
      "pexpect                              4.8.0\n",
      "pickleshare                          0.7.5\n",
      "Pillow                               8.4.0\n",
      "pip                                  21.3.1\n",
      "pkginfo                              1.5.0.1\n",
      "platformdirs                         2.4.0\n",
      "plotly                               5.4.0\n",
      "pluggy                               0.13.1\n",
      "ply                                  3.11\n",
      "pox                                  0.3.0\n",
      "ppft                                 1.6.6.4\n",
      "prometheus-client                    0.7.1\n",
      "prompt-toolkit                       3.0.3\n",
      "protobuf                             3.19.1\n",
      "protobuf3-to-dict                    0.1.5\n",
      "psutil                               5.6.7\n",
      "ptyprocess                           0.6.0\n",
      "pure-sasl                            0.6.2\n",
      "py                                   1.11.0\n",
      "pyarrow                              6.0.1\n",
      "pyasn1                               0.4.8\n",
      "pycodestyle                          2.5.0\n",
      "pycosat                              0.6.3\n",
      "pycparser                            2.19\n",
      "pycrypto                             2.6.1\n",
      "pycurl                               7.43.0.5\n",
      "pydocstyle                           4.0.1\n",
      "pyflakes                             2.1.1\n",
      "pyfunctional                         1.4.3\n",
      "Pygments                             2.5.2\n",
      "PyHive                               0.6.4\n",
      "pykerberos                           1.2.1\n",
      "pylint                               2.12.2\n",
      "pyodbc                               4.0.0-unsupported\n",
      "pyOpenSSL                            19.1.0\n",
      "pyparsing                            2.4.6\n",
      "pyrsistent                           0.15.7\n",
      "PySocks                              1.7.1\n",
      "pytest                               5.3.5\n",
      "pytest-arraydiff                     0.3\n",
      "pytest-astropy                       0.8.0\n",
      "pytest-astropy-header                0.1.2\n",
      "pytest-doctestplus                   0.5.0\n",
      "pytest-openfiles                     0.4.0\n",
      "pytest-remotedata                    0.3.2\n",
      "python-dateutil                      2.8.1\n",
      "python-dotenv                        0.19.2\n",
      "python-jsonrpc-server                0.3.4\n",
      "python-language-server               0.31.7\n",
      "pytz                                 2019.3\n",
      "PyWavelets                           1.1.1\n",
      "pyxdg                                0.26\n",
      "PyYAML                               6.0\n",
      "pyzmq                                18.1.1\n",
      "QDarkStyle                           2.8\n",
      "QtAwesome                            0.6.1\n",
      "qtconsole                            4.6.0\n",
      "QtPy                                 1.9.0\n",
      "requests                             2.26.0\n",
      "requests-kerberos                    0.12.0\n",
      "rope                                 0.16.0\n",
      "rsa                                  4.8\n",
      "Rtree                                0.9.3\n",
      "ruamel_yaml                          0.15.87\n",
      "s3fs                                 2021.11.1\n",
      "s3transfer                           0.5.0\n",
      "sagemaker                            2.70.0\n",
      "sagemaker-studio-analytics-extension 0.0.4\n",
      "sagemaker-studio-sparkmagic-lib      0.1.3\n",
      "sasl                                 0.2.1\n",
      "scikit-image                         0.16.2\n",
      "scikit-learn                         0.22.1\n",
      "scipy                                1.4.1\n",
      "seaborn                              0.11.2\n",
      "SecretStorage                        3.1.2\n",
      "Send2Trash                           1.8.0\n",
      "setuptools                           59.5.0\n",
      "simplegeneric                        0.8.1\n",
      "singledispatch                       3.4.0.3\n",
      "six                                  1.14.0\n",
      "sklearn                              0.0\n",
      "smclarify                            0.2\n",
      "smdebug-rulesconfig                  1.0.1\n",
      "snowballstemmer                      2.0.0\n",
      "sortedcollections                    1.1.2\n",
      "sortedcontainers                     2.1.0\n",
      "soupsieve                            1.9.5\n",
      "sparkmagic                           0.19.1\n",
      "Sphinx                               2.4.0\n",
      "sphinxcontrib-applehelp              1.0.1\n",
      "sphinxcontrib-devhelp                1.0.1\n",
      "sphinxcontrib-htmlhelp               1.0.2\n",
      "sphinxcontrib-jsmath                 1.0.1\n",
      "sphinxcontrib-qthelp                 1.0.2\n",
      "sphinxcontrib-serializinghtml        1.1.3\n",
      "sphinxcontrib-websupport             1.2.0\n",
      "spyder                               4.0.1\n",
      "spyder-kernels                       1.8.1\n",
      "SQLAlchemy                           1.3.13\n",
      "statsmodels                          0.11.0\n",
      "sympy                                1.5.1\n",
      "tables                               3.6.1\n",
      "tabulate                             0.8.9\n",
      "tblib                                1.6.0\n",
      "tenacity                             8.0.1\n",
      "terminado                            0.8.3\n",
      "testpath                             0.4.4\n",
      "texttable                            1.6.4\n",
      "thrift                               0.13.0\n",
      "thrift-sasl                          0.4.3\n",
      "toml                                 0.10.2\n",
      "toolz                                0.10.0\n",
      "tornado                              6.1\n",
      "tqdm                                 4.42.1\n",
      "traitlets                            4.3.3\n",
      "typed-ast                            1.5.1\n",
      "typing_extensions                    4.0.1\n",
      "ujson                                1.35\n",
      "unicodecsv                           0.14.1\n",
      "urllib3                              1.26.7\n",
      "watchdog                             0.10.2\n",
      "wcwidth                              0.1.8\n",
      "webencodings                         0.5.1\n",
      "websocket-client                     0.59.0\n",
      "Werkzeug                             1.0.0\n",
      "wheel                                0.34.2\n",
      "widgetsnbextension                   3.5.1\n",
      "wrapt                                1.11.2\n",
      "wurlitzer                            2.0.0\n",
      "xlrd                                 1.2.0\n",
      "XlsxWriter                           1.2.7\n",
      "xlwt                                 1.3.0\n",
      "yapf                                 0.28.0\n",
      "yarl                                 1.7.2\n",
      "zict                                 1.0.0\n",
      "zipp                                 2.2.0\n",
      "\u001b[33mWARNING: You are using pip version 21.3.1; however, version 22.0.4 is available.\n",
      "You should consider upgrading via the '/opt/conda/bin/python -m pip install --upgrade pip' command.\u001b[0m\n"
     ]
    }
   ],
   "source": [
    "# Note that we are using AWS SageMaker 2.72.1\n",
    "# We will be using the new SageMaker 2.x SDK \n",
    "!pip list"
   ]
  },
  {
   "cell_type": "code",
   "execution_count": 2,
   "metadata": {},
   "outputs": [
    {
     "name": "stdout",
     "output_type": "stream",
     "text": [
      "/opt/conda/lib/python3.7/site-packages/secretstorage/dhcrypto.py:16: CryptographyDeprecationWarning: int_from_bytes is deprecated, use int.from_bytes instead\n",
      "  from cryptography.utils import int_from_bytes\n",
      "/opt/conda/lib/python3.7/site-packages/secretstorage/util.py:25: CryptographyDeprecationWarning: int_from_bytes is deprecated, use int.from_bytes instead\n",
      "  from cryptography.utils import int_from_bytes\n",
      "Requirement already satisfied: Seaborn in /opt/conda/lib/python3.7/site-packages (0.11.2)\n",
      "Requirement already satisfied: matplotlib>=2.2 in /opt/conda/lib/python3.7/site-packages (from Seaborn) (3.1.3)\n",
      "Requirement already satisfied: numpy>=1.15 in /opt/conda/lib/python3.7/site-packages (from Seaborn) (1.20.3)\n",
      "Requirement already satisfied: scipy>=1.0 in /opt/conda/lib/python3.7/site-packages (from Seaborn) (1.4.1)\n",
      "Requirement already satisfied: pandas>=0.23 in /opt/conda/lib/python3.7/site-packages (from Seaborn) (1.3.5)\n",
      "Requirement already satisfied: pyparsing!=2.0.4,!=2.1.2,!=2.1.6,>=2.0.1 in /opt/conda/lib/python3.7/site-packages (from matplotlib>=2.2->Seaborn) (2.4.6)\n",
      "Requirement already satisfied: kiwisolver>=1.0.1 in /opt/conda/lib/python3.7/site-packages (from matplotlib>=2.2->Seaborn) (1.1.0)\n",
      "Requirement already satisfied: cycler>=0.10 in /opt/conda/lib/python3.7/site-packages (from matplotlib>=2.2->Seaborn) (0.10.0)\n",
      "Requirement already satisfied: python-dateutil>=2.1 in /opt/conda/lib/python3.7/site-packages (from matplotlib>=2.2->Seaborn) (2.8.1)\n",
      "Requirement already satisfied: pytz>=2017.3 in /opt/conda/lib/python3.7/site-packages (from pandas>=0.23->Seaborn) (2019.3)\n",
      "Requirement already satisfied: six in /opt/conda/lib/python3.7/site-packages (from cycler>=0.10->matplotlib>=2.2->Seaborn) (1.14.0)\n",
      "Requirement already satisfied: setuptools in /opt/conda/lib/python3.7/site-packages (from kiwisolver>=1.0.1->matplotlib>=2.2->Seaborn) (59.5.0)\n",
      "\u001b[33mWARNING: Running pip as the 'root' user can result in broken permissions and conflicting behaviour with the system package manager. It is recommended to use a virtual environment instead: https://pip.pypa.io/warnings/venv\u001b[0m\n",
      "\u001b[33mWARNING: You are using pip version 21.3.1; however, version 22.0.4 is available.\n",
      "You should consider upgrading via the '/opt/conda/bin/python -m pip install --upgrade pip' command.\u001b[0m\n"
     ]
    }
   ],
   "source": [
    "# install seaborn library\n",
    "!pip install --upgrade Seaborn\n",
    "\n",
    "import pandas as pd\n",
    "import numpy as np\n",
    "import seaborn as sns\n",
    "import matplotlib.pyplot as plt\n"
   ]
  },
  {
   "cell_type": "code",
   "execution_count": 3,
   "metadata": {
    "colab": {},
    "colab_type": "code",
    "id": "tjIiJdM4u1IE"
   },
   "outputs": [],
   "source": [
    "# read the data using Pandas \n",
    "fuel_economy_df = pd.read_csv('FuelEconomy.csv')"
   ]
  },
  {
   "cell_type": "code",
   "execution_count": 4,
   "metadata": {
    "colab": {
     "base_uri": "https://localhost:8080/",
     "height": 204
    },
    "colab_type": "code",
    "id": "q4_wPDKCu5Uc",
    "outputId": "886d2aaf-0205-4f46-96a7-629d0f367d2f"
   },
   "outputs": [
    {
     "data": {
      "text/html": [
       "<div>\n",
       "<style scoped>\n",
       "    .dataframe tbody tr th:only-of-type {\n",
       "        vertical-align: middle;\n",
       "    }\n",
       "\n",
       "    .dataframe tbody tr th {\n",
       "        vertical-align: top;\n",
       "    }\n",
       "\n",
       "    .dataframe thead th {\n",
       "        text-align: right;\n",
       "    }\n",
       "</style>\n",
       "<table border=\"1\" class=\"dataframe\">\n",
       "  <thead>\n",
       "    <tr style=\"text-align: right;\">\n",
       "      <th></th>\n",
       "      <th>Horse Power</th>\n",
       "      <th>Fuel Economy (MPG)</th>\n",
       "    </tr>\n",
       "  </thead>\n",
       "  <tbody>\n",
       "    <tr>\n",
       "      <th>0</th>\n",
       "      <td>118.770799</td>\n",
       "      <td>29.344195</td>\n",
       "    </tr>\n",
       "    <tr>\n",
       "      <th>1</th>\n",
       "      <td>176.326567</td>\n",
       "      <td>24.695934</td>\n",
       "    </tr>\n",
       "    <tr>\n",
       "      <th>2</th>\n",
       "      <td>219.262465</td>\n",
       "      <td>23.952010</td>\n",
       "    </tr>\n",
       "    <tr>\n",
       "      <th>3</th>\n",
       "      <td>187.310009</td>\n",
       "      <td>23.384546</td>\n",
       "    </tr>\n",
       "    <tr>\n",
       "      <th>4</th>\n",
       "      <td>218.594340</td>\n",
       "      <td>23.426739</td>\n",
       "    </tr>\n",
       "    <tr>\n",
       "      <th>...</th>\n",
       "      <td>...</td>\n",
       "      <td>...</td>\n",
       "    </tr>\n",
       "    <tr>\n",
       "      <th>95</th>\n",
       "      <td>162.810542</td>\n",
       "      <td>27.418661</td>\n",
       "    </tr>\n",
       "    <tr>\n",
       "      <th>96</th>\n",
       "      <td>266.869640</td>\n",
       "      <td>15.989945</td>\n",
       "    </tr>\n",
       "    <tr>\n",
       "      <th>97</th>\n",
       "      <td>243.831211</td>\n",
       "      <td>19.253375</td>\n",
       "    </tr>\n",
       "    <tr>\n",
       "      <th>98</th>\n",
       "      <td>140.959803</td>\n",
       "      <td>29.515593</td>\n",
       "    </tr>\n",
       "    <tr>\n",
       "      <th>99</th>\n",
       "      <td>184.123053</td>\n",
       "      <td>25.196097</td>\n",
       "    </tr>\n",
       "  </tbody>\n",
       "</table>\n",
       "<p>100 rows × 2 columns</p>\n",
       "</div>"
      ],
      "text/plain": [
       "    Horse Power  Fuel Economy (MPG)\n",
       "0    118.770799           29.344195\n",
       "1    176.326567           24.695934\n",
       "2    219.262465           23.952010\n",
       "3    187.310009           23.384546\n",
       "4    218.594340           23.426739\n",
       "..          ...                 ...\n",
       "95   162.810542           27.418661\n",
       "96   266.869640           15.989945\n",
       "97   243.831211           19.253375\n",
       "98   140.959803           29.515593\n",
       "99   184.123053           25.196097\n",
       "\n",
       "[100 rows x 2 columns]"
      ]
     },
     "execution_count": 4,
     "metadata": {},
     "output_type": "execute_result"
    }
   ],
   "source": [
    "# View the DataFrame\n",
    "fuel_economy_df"
   ]
  },
  {
   "cell_type": "code",
   "execution_count": 5,
   "metadata": {},
   "outputs": [
    {
     "data": {
      "text/html": [
       "<div>\n",
       "<style scoped>\n",
       "    .dataframe tbody tr th:only-of-type {\n",
       "        vertical-align: middle;\n",
       "    }\n",
       "\n",
       "    .dataframe tbody tr th {\n",
       "        vertical-align: top;\n",
       "    }\n",
       "\n",
       "    .dataframe thead th {\n",
       "        text-align: right;\n",
       "    }\n",
       "</style>\n",
       "<table border=\"1\" class=\"dataframe\">\n",
       "  <thead>\n",
       "    <tr style=\"text-align: right;\">\n",
       "      <th></th>\n",
       "      <th>Horse Power</th>\n",
       "      <th>Fuel Economy (MPG)</th>\n",
       "    </tr>\n",
       "  </thead>\n",
       "  <tbody>\n",
       "    <tr>\n",
       "      <th>0</th>\n",
       "      <td>118.770799</td>\n",
       "      <td>29.344195</td>\n",
       "    </tr>\n",
       "    <tr>\n",
       "      <th>1</th>\n",
       "      <td>176.326567</td>\n",
       "      <td>24.695934</td>\n",
       "    </tr>\n",
       "    <tr>\n",
       "      <th>2</th>\n",
       "      <td>219.262465</td>\n",
       "      <td>23.952010</td>\n",
       "    </tr>\n",
       "    <tr>\n",
       "      <th>3</th>\n",
       "      <td>187.310009</td>\n",
       "      <td>23.384546</td>\n",
       "    </tr>\n",
       "    <tr>\n",
       "      <th>4</th>\n",
       "      <td>218.594340</td>\n",
       "      <td>23.426739</td>\n",
       "    </tr>\n",
       "  </tbody>\n",
       "</table>\n",
       "</div>"
      ],
      "text/plain": [
       "   Horse Power  Fuel Economy (MPG)\n",
       "0   118.770799           29.344195\n",
       "1   176.326567           24.695934\n",
       "2   219.262465           23.952010\n",
       "3   187.310009           23.384546\n",
       "4   218.594340           23.426739"
      ]
     },
     "execution_count": 5,
     "metadata": {},
     "output_type": "execute_result"
    }
   ],
   "source": [
    "fuel_economy_df.head()"
   ]
  },
  {
   "cell_type": "code",
   "execution_count": 6,
   "metadata": {},
   "outputs": [
    {
     "data": {
      "text/html": [
       "<div>\n",
       "<style scoped>\n",
       "    .dataframe tbody tr th:only-of-type {\n",
       "        vertical-align: middle;\n",
       "    }\n",
       "\n",
       "    .dataframe tbody tr th {\n",
       "        vertical-align: top;\n",
       "    }\n",
       "\n",
       "    .dataframe thead th {\n",
       "        text-align: right;\n",
       "    }\n",
       "</style>\n",
       "<table border=\"1\" class=\"dataframe\">\n",
       "  <thead>\n",
       "    <tr style=\"text-align: right;\">\n",
       "      <th></th>\n",
       "      <th>Horse Power</th>\n",
       "      <th>Fuel Economy (MPG)</th>\n",
       "    </tr>\n",
       "  </thead>\n",
       "  <tbody>\n",
       "    <tr>\n",
       "      <th>95</th>\n",
       "      <td>162.810542</td>\n",
       "      <td>27.418661</td>\n",
       "    </tr>\n",
       "    <tr>\n",
       "      <th>96</th>\n",
       "      <td>266.869640</td>\n",
       "      <td>15.989945</td>\n",
       "    </tr>\n",
       "    <tr>\n",
       "      <th>97</th>\n",
       "      <td>243.831211</td>\n",
       "      <td>19.253375</td>\n",
       "    </tr>\n",
       "    <tr>\n",
       "      <th>98</th>\n",
       "      <td>140.959803</td>\n",
       "      <td>29.515593</td>\n",
       "    </tr>\n",
       "    <tr>\n",
       "      <th>99</th>\n",
       "      <td>184.123053</td>\n",
       "      <td>25.196097</td>\n",
       "    </tr>\n",
       "  </tbody>\n",
       "</table>\n",
       "</div>"
      ],
      "text/plain": [
       "    Horse Power  Fuel Economy (MPG)\n",
       "95   162.810542           27.418661\n",
       "96   266.869640           15.989945\n",
       "97   243.831211           19.253375\n",
       "98   140.959803           29.515593\n",
       "99   184.123053           25.196097"
      ]
     },
     "execution_count": 6,
     "metadata": {},
     "output_type": "execute_result"
    }
   ],
   "source": [
    "fuel_economy_df.tail()"
   ]
  },
  {
   "cell_type": "code",
   "execution_count": 7,
   "metadata": {
    "colab": {},
    "colab_type": "code",
    "id": "4OXZB2F21e4H"
   },
   "outputs": [],
   "source": [
    "# Separate the data into input X and Output y\n",
    "X = fuel_economy_df[['Horse Power']]\n",
    "y = fuel_economy_df[['Fuel Economy (MPG)']]"
   ]
  },
  {
   "cell_type": "code",
   "execution_count": 8,
   "metadata": {
    "scrolled": true
   },
   "outputs": [
    {
     "data": {
      "text/html": [
       "<div>\n",
       "<style scoped>\n",
       "    .dataframe tbody tr th:only-of-type {\n",
       "        vertical-align: middle;\n",
       "    }\n",
       "\n",
       "    .dataframe tbody tr th {\n",
       "        vertical-align: top;\n",
       "    }\n",
       "\n",
       "    .dataframe thead th {\n",
       "        text-align: right;\n",
       "    }\n",
       "</style>\n",
       "<table border=\"1\" class=\"dataframe\">\n",
       "  <thead>\n",
       "    <tr style=\"text-align: right;\">\n",
       "      <th></th>\n",
       "      <th>Horse Power</th>\n",
       "    </tr>\n",
       "  </thead>\n",
       "  <tbody>\n",
       "    <tr>\n",
       "      <th>0</th>\n",
       "      <td>118.770799</td>\n",
       "    </tr>\n",
       "    <tr>\n",
       "      <th>1</th>\n",
       "      <td>176.326567</td>\n",
       "    </tr>\n",
       "    <tr>\n",
       "      <th>2</th>\n",
       "      <td>219.262465</td>\n",
       "    </tr>\n",
       "    <tr>\n",
       "      <th>3</th>\n",
       "      <td>187.310009</td>\n",
       "    </tr>\n",
       "    <tr>\n",
       "      <th>4</th>\n",
       "      <td>218.594340</td>\n",
       "    </tr>\n",
       "    <tr>\n",
       "      <th>...</th>\n",
       "      <td>...</td>\n",
       "    </tr>\n",
       "    <tr>\n",
       "      <th>95</th>\n",
       "      <td>162.810542</td>\n",
       "    </tr>\n",
       "    <tr>\n",
       "      <th>96</th>\n",
       "      <td>266.869640</td>\n",
       "    </tr>\n",
       "    <tr>\n",
       "      <th>97</th>\n",
       "      <td>243.831211</td>\n",
       "    </tr>\n",
       "    <tr>\n",
       "      <th>98</th>\n",
       "      <td>140.959803</td>\n",
       "    </tr>\n",
       "    <tr>\n",
       "      <th>99</th>\n",
       "      <td>184.123053</td>\n",
       "    </tr>\n",
       "  </tbody>\n",
       "</table>\n",
       "<p>100 rows × 1 columns</p>\n",
       "</div>"
      ],
      "text/plain": [
       "    Horse Power\n",
       "0    118.770799\n",
       "1    176.326567\n",
       "2    219.262465\n",
       "3    187.310009\n",
       "4    218.594340\n",
       "..          ...\n",
       "95   162.810542\n",
       "96   266.869640\n",
       "97   243.831211\n",
       "98   140.959803\n",
       "99   184.123053\n",
       "\n",
       "[100 rows x 1 columns]"
      ]
     },
     "execution_count": 8,
     "metadata": {},
     "output_type": "execute_result"
    }
   ],
   "source": [
    "X"
   ]
  },
  {
   "cell_type": "code",
   "execution_count": 9,
   "metadata": {},
   "outputs": [
    {
     "data": {
      "text/html": [
       "<div>\n",
       "<style scoped>\n",
       "    .dataframe tbody tr th:only-of-type {\n",
       "        vertical-align: middle;\n",
       "    }\n",
       "\n",
       "    .dataframe tbody tr th {\n",
       "        vertical-align: top;\n",
       "    }\n",
       "\n",
       "    .dataframe thead th {\n",
       "        text-align: right;\n",
       "    }\n",
       "</style>\n",
       "<table border=\"1\" class=\"dataframe\">\n",
       "  <thead>\n",
       "    <tr style=\"text-align: right;\">\n",
       "      <th></th>\n",
       "      <th>Fuel Economy (MPG)</th>\n",
       "    </tr>\n",
       "  </thead>\n",
       "  <tbody>\n",
       "    <tr>\n",
       "      <th>0</th>\n",
       "      <td>29.344195</td>\n",
       "    </tr>\n",
       "    <tr>\n",
       "      <th>1</th>\n",
       "      <td>24.695934</td>\n",
       "    </tr>\n",
       "    <tr>\n",
       "      <th>2</th>\n",
       "      <td>23.952010</td>\n",
       "    </tr>\n",
       "    <tr>\n",
       "      <th>3</th>\n",
       "      <td>23.384546</td>\n",
       "    </tr>\n",
       "    <tr>\n",
       "      <th>4</th>\n",
       "      <td>23.426739</td>\n",
       "    </tr>\n",
       "    <tr>\n",
       "      <th>...</th>\n",
       "      <td>...</td>\n",
       "    </tr>\n",
       "    <tr>\n",
       "      <th>95</th>\n",
       "      <td>27.418661</td>\n",
       "    </tr>\n",
       "    <tr>\n",
       "      <th>96</th>\n",
       "      <td>15.989945</td>\n",
       "    </tr>\n",
       "    <tr>\n",
       "      <th>97</th>\n",
       "      <td>19.253375</td>\n",
       "    </tr>\n",
       "    <tr>\n",
       "      <th>98</th>\n",
       "      <td>29.515593</td>\n",
       "    </tr>\n",
       "    <tr>\n",
       "      <th>99</th>\n",
       "      <td>25.196097</td>\n",
       "    </tr>\n",
       "  </tbody>\n",
       "</table>\n",
       "<p>100 rows × 1 columns</p>\n",
       "</div>"
      ],
      "text/plain": [
       "    Fuel Economy (MPG)\n",
       "0            29.344195\n",
       "1            24.695934\n",
       "2            23.952010\n",
       "3            23.384546\n",
       "4            23.426739\n",
       "..                 ...\n",
       "95           27.418661\n",
       "96           15.989945\n",
       "97           19.253375\n",
       "98           29.515593\n",
       "99           25.196097\n",
       "\n",
       "[100 rows x 1 columns]"
      ]
     },
     "execution_count": 9,
     "metadata": {},
     "output_type": "execute_result"
    }
   ],
   "source": [
    "y"
   ]
  },
  {
   "cell_type": "code",
   "execution_count": 10,
   "metadata": {
    "colab": {
     "base_uri": "https://localhost:8080/",
     "height": 34
    },
    "colab_type": "code",
    "id": "XpGU63Ne1e9P",
    "outputId": "e16c74ca-dc1c-416c-dc44-7f927bb99bc6"
   },
   "outputs": [
    {
     "data": {
      "text/plain": [
       "(100, 1)"
      ]
     },
     "execution_count": 10,
     "metadata": {},
     "output_type": "execute_result"
    }
   ],
   "source": [
    "# Check out the shape of the input\n",
    "X.shape"
   ]
  },
  {
   "cell_type": "code",
   "execution_count": 11,
   "metadata": {
    "colab": {
     "base_uri": "https://localhost:8080/",
     "height": 34
    },
    "colab_type": "code",
    "id": "OjGj0RALA0qZ",
    "outputId": "26559a6c-880b-45b4-a1e8-3c4b92bea889"
   },
   "outputs": [
    {
     "data": {
      "text/plain": [
       "(100, 1)"
      ]
     },
     "execution_count": 11,
     "metadata": {},
     "output_type": "execute_result"
    }
   ],
   "source": [
    "# Check out the shape of the output\n",
    "y.shape"
   ]
  },
  {
   "cell_type": "code",
   "execution_count": 12,
   "metadata": {
    "colab": {},
    "colab_type": "code",
    "id": "jIeiK1maA6mm"
   },
   "outputs": [],
   "source": [
    "# Convert the datatype to float32\n",
    "X = np.array(X).astype('float32')\n",
    "y = np.array(y).astype('float32')"
   ]
  },
  {
   "cell_type": "code",
   "execution_count": 13,
   "metadata": {},
   "outputs": [
    {
     "data": {
      "text/plain": [
       "array([[118.7708  ],\n",
       "       [176.32657 ],\n",
       "       [219.26247 ],\n",
       "       [187.31001 ],\n",
       "       [218.59435 ],\n",
       "       [175.8381  ],\n",
       "       [271.44162 ],\n",
       "       [294.4259  ],\n",
       "       [126.211006],\n",
       "       [163.35034 ],\n",
       "       [321.84076 ],\n",
       "       [120.48424 ],\n",
       "       [155.41537 ],\n",
       "       [191.71481 ],\n",
       "       [211.72911 ],\n",
       "       [259.1832  ],\n",
       "       [236.57173 ],\n",
       "       [191.09897 ],\n",
       "       [123.8857  ],\n",
       "       [136.30646 ],\n",
       "       [212.73895 ],\n",
       "       [232.44995 ],\n",
       "       [122.04016 ],\n",
       "       [140.43231 ],\n",
       "       [243.34784 ],\n",
       "       [178.43028 ],\n",
       "       [258.42422 ],\n",
       "       [231.8549  ],\n",
       "       [ 91.44026 ],\n",
       "       [119.53666 ],\n",
       "       [350.      ],\n",
       "       [175.97922 ],\n",
       "       [312.49222 ],\n",
       "       [282.60425 ],\n",
       "       [138.26474 ],\n",
       "       [301.05417 ],\n",
       "       [227.8735  ],\n",
       "       [ 50.      ],\n",
       "       [152.34785 ],\n",
       "       [252.55238 ],\n",
       "       [218.10709 ],\n",
       "       [172.64366 ],\n",
       "       [243.73724 ],\n",
       "       [186.04004 ],\n",
       "       [227.67047 ],\n",
       "       [132.66957 ],\n",
       "       [196.85954 ],\n",
       "       [244.35834 ],\n",
       "       [161.41107 ],\n",
       "       [133.82306 ],\n",
       "       [150.50624 ],\n",
       "       [290.8872  ],\n",
       "       [245.8204  ],\n",
       "       [250.70929 ],\n",
       "       [272.90573 ],\n",
       "       [199.14764 ],\n",
       "       [251.4245  ],\n",
       "       [284.9286  ],\n",
       "       [201.62646 ],\n",
       "       [173.93932 ],\n",
       "       [230.46268 ],\n",
       "       [289.49    ],\n",
       "       [220.72095 ],\n",
       "       [212.08304 ],\n",
       "       [188.50523 ],\n",
       "       [181.06793 ],\n",
       "       [245.55965 ],\n",
       "       [ 84.57199 ],\n",
       "       [311.75745 ],\n",
       "       [315.8175  ],\n",
       "       [223.17964 ],\n",
       "       [299.53046 ],\n",
       "       [175.3489  ],\n",
       "       [261.8521  ],\n",
       "       [258.30835 ],\n",
       "       [220.09859 ],\n",
       "       [214.4845  ],\n",
       "       [320.95135 ],\n",
       "       [258.65988 ],\n",
       "       [236.46445 ],\n",
       "       [198.95831 ],\n",
       "       [249.884   ],\n",
       "       [216.2812  ],\n",
       "       [232.21661 ],\n",
       "       [224.34207 ],\n",
       "       [238.83649 ],\n",
       "       [331.6986  ],\n",
       "       [106.25756 ],\n",
       "       [203.57166 ],\n",
       "       [342.90625 ],\n",
       "       [237.67308 ],\n",
       "       [205.0468  ],\n",
       "       [227.38013 ],\n",
       "       [131.54211 ],\n",
       "       [260.67444 ],\n",
       "       [162.81055 ],\n",
       "       [266.86963 ],\n",
       "       [243.8312  ],\n",
       "       [140.95981 ],\n",
       "       [184.12305 ]], dtype=float32)"
      ]
     },
     "execution_count": 13,
     "metadata": {},
     "output_type": "execute_result"
    }
   ],
   "source": [
    "# Only take the numerical variables and scale them\n",
    "X "
   ]
  },
  {
   "cell_type": "code",
   "execution_count": 14,
   "metadata": {},
   "outputs": [
    {
     "data": {
      "text/plain": [
       "array([[29.344194],\n",
       "       [24.695934],\n",
       "       [23.95201 ],\n",
       "       [23.384546],\n",
       "       [23.426739],\n",
       "       [24.17357 ],\n",
       "       [17.163584],\n",
       "       [17.274218],\n",
       "       [28.71821 ],\n",
       "       [28.289516],\n",
       "       [17.300629],\n",
       "       [29.678637],\n",
       "       [27.29493 ],\n",
       "       [23.556728],\n",
       "       [25.341892],\n",
       "       [20.467373],\n",
       "       [23.18528 ],\n",
       "       [24.98963 ],\n",
       "       [29.39333 ],\n",
       "       [31.497429],\n",
       "       [23.204744],\n",
       "       [22.313051],\n",
       "       [31.796612],\n",
       "       [28.882082],\n",
       "       [21.62337 ],\n",
       "       [23.719584],\n",
       "       [21.167343],\n",
       "       [24.829824],\n",
       "       [31.806707],\n",
       "       [30.392612],\n",
       "       [14.589079],\n",
       "       [26.188478],\n",
       "       [15.618957],\n",
       "       [15.676315],\n",
       "       [27.473415],\n",
       "       [15.72565 ],\n",
       "       [23.488811],\n",
       "       [35.      ],\n",
       "       [27.094412],\n",
       "       [20.40757 ],\n",
       "       [23.299372],\n",
       "       [27.387012],\n",
       "       [21.442703],\n",
       "       [26.897066],\n",
       "       [21.205986],\n",
       "       [26.778149],\n",
       "       [24.35585 ],\n",
       "       [19.53677 ],\n",
       "       [27.544626],\n",
       "       [30.674803],\n",
       "       [25.345633],\n",
       "       [17.873266],\n",
       "       [22.84971 ],\n",
       "       [20.291765],\n",
       "       [20.898079],\n",
       "       [23.011194],\n",
       "       [22.965773],\n",
       "       [18.87835 ],\n",
       "       [22.937653],\n",
       "       [25.12965 ],\n",
       "       [20.715721],\n",
       "       [20.450163],\n",
       "       [23.05918 ],\n",
       "       [21.726252],\n",
       "       [23.11416 ],\n",
       "       [25.575085],\n",
       "       [19.14    ],\n",
       "       [34.114025],\n",
       "       [17.62748 ],\n",
       "       [16.831188],\n",
       "       [23.307192],\n",
       "       [16.693369],\n",
       "       [26.057085],\n",
       "       [21.0504  ],\n",
       "       [21.261778],\n",
       "       [21.582644],\n",
       "       [22.183092],\n",
       "       [15.441711],\n",
       "       [20.470676],\n",
       "       [19.367336],\n",
       "       [23.172222],\n",
       "       [21.13943 ],\n",
       "       [21.595627],\n",
       "       [21.21636 ],\n",
       "       [21.701202],\n",
       "       [19.674093],\n",
       "       [15.837969],\n",
       "       [31.722565],\n",
       "       [24.826199],\n",
       "       [10.      ],\n",
       "       [19.723461],\n",
       "       [25.286955],\n",
       "       [24.181108],\n",
       "       [29.397568],\n",
       "       [17.802706],\n",
       "       [27.418661],\n",
       "       [15.989944],\n",
       "       [19.253376],\n",
       "       [29.515593],\n",
       "       [25.196098]], dtype=float32)"
      ]
     },
     "execution_count": 14,
     "metadata": {},
     "output_type": "execute_result"
    }
   ],
   "source": [
    "y"
   ]
  },
  {
   "cell_type": "code",
   "execution_count": 15,
   "metadata": {
    "colab": {},
    "colab_type": "code",
    "id": "GoReLFfnA6uF"
   },
   "outputs": [],
   "source": [
    "# split the data into training and testing using SkLearn Library\n",
    "from sklearn.model_selection import train_test_split\n",
    "X_train, X_test, y_train, y_test = train_test_split(X, y, test_size = 0.2)"
   ]
  },
  {
   "cell_type": "markdown",
   "metadata": {},
   "source": [
    "# TASK #2: TRAIN A LINEAR LEARNER MODEL USING AWS SAGEMAKER (SDK 2.0)"
   ]
  },
  {
   "cell_type": "code",
   "execution_count": 16,
   "metadata": {},
   "outputs": [
    {
     "name": "stdout",
     "output_type": "stream",
     "text": [
      "arn:aws:iam::971421653261:role/service-role/AmazonSageMaker-ExecutionRole-20220323T130903\n"
     ]
    }
   ],
   "source": [
    "# Boto3 is the Amazon Web Services (AWS) Software Development Kit (SDK) for Python\n",
    "# Boto3 allows Python developer to write software that makes use of services like Amazon S3 and Amazon EC2\n",
    "\n",
    "import sagemaker\n",
    "import boto3\n",
    "\n",
    "# Let's create a Sagemaker session\n",
    "sagemaker_session = sagemaker.Session()\n",
    "\n",
    "# Let's define the S3 bucket and prefix that we want to use in this session\n",
    "bucket = 'aws.ml.engineer' # bucket need to be created beforehand\n",
    "prefix = 'linear_learner_fuel_economy' # prefix is the subfolder within the bucket.\n",
    "\n",
    "# Let's get the execution role for the notebook instance. \n",
    "# This is the IAM role that you created when you created your notebook instance. You pass the role to the training job.\n",
    "# Note that AWS Identity and Access Management (IAM) role that Amazon SageMaker can assume to perform tasks on your behalf (for example, reading training results, called model artifacts, from the S3 bucket and writing training results to Amazon S3). \n",
    "role = sagemaker.get_execution_role()\n",
    "print(role)"
   ]
  },
  {
   "cell_type": "code",
   "execution_count": 17,
   "metadata": {},
   "outputs": [
    {
     "data": {
      "text/plain": [
       "(80, 1)"
      ]
     },
     "execution_count": 17,
     "metadata": {},
     "output_type": "execute_result"
    }
   ],
   "source": [
    "X_train.shape"
   ]
  },
  {
   "cell_type": "code",
   "execution_count": 18,
   "metadata": {},
   "outputs": [],
   "source": [
    "y_train = y_train[:,0]"
   ]
  },
  {
   "cell_type": "code",
   "execution_count": 19,
   "metadata": {},
   "outputs": [
    {
     "data": {
      "text/plain": [
       "(80,)"
      ]
     },
     "execution_count": 19,
     "metadata": {},
     "output_type": "execute_result"
    }
   ],
   "source": [
    "y_train.shape"
   ]
  },
  {
   "cell_type": "code",
   "execution_count": 20,
   "metadata": {},
   "outputs": [
    {
     "data": {
      "text/plain": [
       "0"
      ]
     },
     "execution_count": 20,
     "metadata": {},
     "output_type": "execute_result"
    }
   ],
   "source": [
    "import io # The io module allows for dealing with various types of I/O (text I/O, binary I/O and raw I/O). \n",
    "import numpy as np\n",
    "import sagemaker.amazon.common as smac # sagemaker common libary\n",
    "\n",
    "# Code below converts the data in numpy array format to RecordIO format\n",
    "# This is the format required by Sagemaker Linear Learner \n",
    "\n",
    "buf = io.BytesIO() # create an in-memory byte array (buf is a buffer I will be writing to)\n",
    "smac.write_numpy_to_dense_tensor(buf, X_train, y_train)\n",
    "buf.seek(0) \n",
    "# When you write to in-memory byte arrays, it increments 1 every time you write to it\n",
    "# Let's reset that back to zero \n"
   ]
  },
  {
   "cell_type": "code",
   "execution_count": 21,
   "metadata": {},
   "outputs": [
    {
     "name": "stdout",
     "output_type": "stream",
     "text": [
      "uploaded training data location: s3://aws.ml.engineer/linear_learner_fuel_economy/train/linear-train-data\n"
     ]
    }
   ],
   "source": [
    "import os\n",
    "\n",
    "# Code to upload RecordIO data to S3\n",
    " \n",
    "# Key refers to the name of the file    \n",
    "key = 'linear-train-data'\n",
    "\n",
    "# The following code uploads the data in record-io format to S3 bucket to be accessed later for training\n",
    "boto3.resource('s3').Bucket(bucket).Object(os.path.join(prefix, 'train', key)).upload_fileobj(buf)\n",
    "\n",
    "# Let's print out the training data location in s3\n",
    "s3_train_data = 's3://{}/{}/train/{}'.format(bucket, prefix, key)\n",
    "print('uploaded training data location: {}'.format(s3_train_data))"
   ]
  },
  {
   "cell_type": "code",
   "execution_count": 22,
   "metadata": {},
   "outputs": [
    {
     "data": {
      "text/plain": [
       "(20, 1)"
      ]
     },
     "execution_count": 22,
     "metadata": {},
     "output_type": "execute_result"
    }
   ],
   "source": [
    "X_test.shape"
   ]
  },
  {
   "cell_type": "code",
   "execution_count": 23,
   "metadata": {},
   "outputs": [
    {
     "data": {
      "text/plain": [
       "(20, 1)"
      ]
     },
     "execution_count": 23,
     "metadata": {},
     "output_type": "execute_result"
    }
   ],
   "source": [
    "y_test.shape"
   ]
  },
  {
   "cell_type": "code",
   "execution_count": 24,
   "metadata": {},
   "outputs": [],
   "source": [
    "# Make sure that the target label is a vector\n",
    "y_test = y_test[:,0]\n"
   ]
  },
  {
   "cell_type": "code",
   "execution_count": 25,
   "metadata": {},
   "outputs": [
    {
     "data": {
      "text/plain": [
       "0"
      ]
     },
     "execution_count": 25,
     "metadata": {},
     "output_type": "execute_result"
    }
   ],
   "source": [
    "# Code to upload RecordIO data to S3\n",
    "\n",
    "buf = io.BytesIO() # create an in-memory byte array (buf is a buffer I will be writing to)\n",
    "smac.write_numpy_to_dense_tensor(buf, X_test, y_test)\n",
    "buf.seek(0) \n",
    "# When you write to in-memory byte arrays, it increments 1 every time you write to it\n",
    "# Let's reset that back to zero \n"
   ]
  },
  {
   "cell_type": "code",
   "execution_count": 26,
   "metadata": {},
   "outputs": [
    {
     "name": "stdout",
     "output_type": "stream",
     "text": [
      "uploaded training data location: s3://aws.ml.engineer/linear_learner_fuel_economy/test/linear-test-data\n"
     ]
    }
   ],
   "source": [
    "# Key refers to the name of the file    \n",
    "key = 'linear-test-data'\n",
    "\n",
    "# The following code uploads the data in record-io format to S3 bucket to be accessed later for training\n",
    "boto3.resource('s3').Bucket(bucket).Object(os.path.join(prefix, 'test', key)).upload_fileobj(buf)\n",
    "\n",
    "# Let's print out the testing data location in s3\n",
    "s3_test_data = 's3://{}/{}/test/{}'.format(bucket, prefix, key)\n",
    "print('uploaded training data location: {}'.format(s3_test_data))"
   ]
  },
  {
   "cell_type": "code",
   "execution_count": 27,
   "metadata": {},
   "outputs": [
    {
     "name": "stdout",
     "output_type": "stream",
     "text": [
      "Training artifacts will be uploaded to: s3://aws.ml.engineer/linear_learner_fuel_economy/output\n"
     ]
    }
   ],
   "source": [
    "# create an output placeholder in S3 bucket to store the linear learner output\n",
    "\n",
    "output_location = 's3://{}/{}/output'.format(bucket, prefix)\n",
    "print('Training artifacts will be uploaded to: {}'.format(output_location))"
   ]
  },
  {
   "cell_type": "code",
   "execution_count": 28,
   "metadata": {},
   "outputs": [],
   "source": [
    "# Note that this code leverages the new SageMaker SDK 2.0\n",
    "# Check this for the list of changes from AWS SageMaker SDK 1.0 to 2.0: https://sagemaker.readthedocs.io/en/stable/v2.html\n",
    "\n",
    "# This code is used to get the training container of sagemaker built-in algorithms\n",
    "# all we have to do is to specify the name of the algorithm that we want to use\n",
    "\n",
    "# Let's obtain a reference to the linearLearner container image\n",
    "# Note that all regression models are named estimators\n",
    "# You don't have to specify (hardcode) the region, get_image_uri will get the current region name using boto3.Session\n",
    "container = sagemaker.image_uris.retrieve(\"linear-learner\", boto3.Session().region_name)\n",
    "\n",
    "\n",
    "# This is using the old AWS SageMAker SDK 1.0 (You need to use get_image_uri and note that attribute order is different as well)\n",
    "# from sagemaker.amazon.amazon_estimator import get_image_uri\n",
    "# container = get_image_uri(boto3.Session().region_name, 'linear-learner')"
   ]
  },
  {
   "cell_type": "code",
   "execution_count": 29,
   "metadata": {},
   "outputs": [
    {
     "name": "stdout",
     "output_type": "stream",
     "text": [
      "2022-03-28 20:08:01 Starting - Starting the training job...ProfilerReport-1648498081: InProgress\n",
      "...\n",
      "2022-03-28 20:08:51 Starting - Preparing the instances for training.........\n",
      "2022-03-28 20:10:31 Downloading - Downloading input data...\n",
      "2022-03-28 20:11:01 Training - Downloading the training image...\n",
      "2022-03-28 20:11:32 Training - Training image download completed. Training in progress..\u001b[34mDocker entrypoint called with argument(s): train\u001b[0m\n",
      "\u001b[34mRunning default environment configuration script\u001b[0m\n",
      "\u001b[34m[03/28/2022 20:11:33 INFO 140044817090368 integration.py:636] worker started\u001b[0m\n",
      "\u001b[34m[03/28/2022 20:11:33 INFO 140044817090368] Reading default configuration from /opt/amazon/lib/python3.7/site-packages/algorithm/resources/default-input.json: {'mini_batch_size': '1000', 'epochs': '15', 'feature_dim': 'auto', 'use_bias': 'true', 'binary_classifier_model_selection_criteria': 'accuracy', 'f_beta': '1.0', 'target_recall': '0.8', 'target_precision': '0.8', 'num_models': 'auto', 'num_calibration_samples': '10000000', 'init_method': 'uniform', 'init_scale': '0.07', 'init_sigma': '0.01', 'init_bias': '0.0', 'optimizer': 'auto', 'loss': 'auto', 'margin': '1.0', 'quantile': '0.5', 'loss_insensitivity': '0.01', 'huber_delta': '1.0', 'num_classes': '1', 'accuracy_top_k': '3', 'wd': 'auto', 'l1': 'auto', 'momentum': 'auto', 'learning_rate': 'auto', 'beta_1': 'auto', 'beta_2': 'auto', 'bias_lr_mult': 'auto', 'bias_wd_mult': 'auto', 'use_lr_scheduler': 'true', 'lr_scheduler_step': 'auto', 'lr_scheduler_factor': 'auto', 'lr_scheduler_minimum_lr': 'auto', 'positive_example_weight_mult': '1.0', 'balance_multiclass_weights': 'false', 'normalize_data': 'true', 'normalize_label': 'auto', 'unbias_data': 'auto', 'unbias_label': 'auto', 'num_point_for_scaler': '10000', '_kvstore': 'auto', '_num_gpus': 'auto', '_num_kv_servers': 'auto', '_log_level': 'info', '_tuning_objective_metric': '', 'early_stopping_patience': '3', 'early_stopping_tolerance': '0.001', '_enable_profiler': 'false'}\u001b[0m\n",
      "\u001b[34m[03/28/2022 20:11:33 INFO 140044817090368] Merging with provided configuration from /opt/ml/input/config/hyperparameters.json: {'epochs': '5', 'feature_dim': '1', 'loss': 'absolute_loss', 'mini_batch_size': '5', 'num_models': '32', 'predictor_type': 'regressor'}\u001b[0m\n",
      "\u001b[34m[03/28/2022 20:11:33 INFO 140044817090368] Final configuration: {'mini_batch_size': '5', 'epochs': '5', 'feature_dim': '1', 'use_bias': 'true', 'binary_classifier_model_selection_criteria': 'accuracy', 'f_beta': '1.0', 'target_recall': '0.8', 'target_precision': '0.8', 'num_models': '32', 'num_calibration_samples': '10000000', 'init_method': 'uniform', 'init_scale': '0.07', 'init_sigma': '0.01', 'init_bias': '0.0', 'optimizer': 'auto', 'loss': 'absolute_loss', 'margin': '1.0', 'quantile': '0.5', 'loss_insensitivity': '0.01', 'huber_delta': '1.0', 'num_classes': '1', 'accuracy_top_k': '3', 'wd': 'auto', 'l1': 'auto', 'momentum': 'auto', 'learning_rate': 'auto', 'beta_1': 'auto', 'beta_2': 'auto', 'bias_lr_mult': 'auto', 'bias_wd_mult': 'auto', 'use_lr_scheduler': 'true', 'lr_scheduler_step': 'auto', 'lr_scheduler_factor': 'auto', 'lr_scheduler_minimum_lr': 'auto', 'positive_example_weight_mult': '1.0', 'balance_multiclass_weights': 'false', 'normalize_data': 'true', 'normalize_label': 'auto', 'unbias_data': 'auto', 'unbias_label': 'auto', 'num_point_for_scaler': '10000', '_kvstore': 'auto', '_num_gpus': 'auto', '_num_kv_servers': 'auto', '_log_level': 'info', '_tuning_objective_metric': '', 'early_stopping_patience': '3', 'early_stopping_tolerance': '0.001', '_enable_profiler': 'false', 'predictor_type': 'regressor'}\u001b[0m\n",
      "\u001b[34m[03/28/2022 20:11:33 WARNING 140044817090368] Loggers have already been setup.\u001b[0m\n",
      "\u001b[34mProcess 1 is a worker.\u001b[0m\n",
      "\u001b[34m[03/28/2022 20:11:33 INFO 140044817090368] Using default worker.\u001b[0m\n",
      "\u001b[34m[03/28/2022 20:11:33 INFO 140044817090368] Checkpoint loading and saving are disabled.\u001b[0m\n",
      "\u001b[34m[2022-03-28 20:11:33.751] [tensorio] [info] epoch_stats={\"data_pipeline\": \"/opt/ml/input/data/train\", \"epoch\": 0, \"duration\": 19, \"num_examples\": 1, \"num_bytes\": 240}\u001b[0m\n",
      "\u001b[34m[03/28/2022 20:11:33 INFO 140044817090368] Create Store: local\u001b[0m\n",
      "\u001b[34m[2022-03-28 20:11:33.915] [tensorio] [info] epoch_stats={\"data_pipeline\": \"/opt/ml/input/data/train\", \"epoch\": 1, \"duration\": 162, \"num_examples\": 16, \"num_bytes\": 3840}\u001b[0m\n",
      "\u001b[34m[03/28/2022 20:11:33 INFO 140044817090368] Scaler algorithm parameters\n",
      " <algorithm.scaler.ScalerAlgorithmStable object at 0x7f5e58c26c10>\u001b[0m\n",
      "\u001b[34m[03/28/2022 20:11:33 INFO 140044817090368] Scaling model computed with parameters:\n",
      " {'stdev_label': \u001b[0m\n",
      "\u001b[34m[4.8564916]\u001b[0m\n",
      "\u001b[34m<NDArray 1 @cpu(0)>, 'stdev_weight': \u001b[0m\n",
      "\u001b[34m[63.46846]\u001b[0m\n",
      "\u001b[34m<NDArray 1 @cpu(0)>, 'mean_label': \u001b[0m\n",
      "\u001b[34m[23.124834]\u001b[0m\n",
      "\u001b[34m<NDArray 1 @cpu(0)>, 'mean_weight': \u001b[0m\n",
      "\u001b[34m[213.44786]\u001b[0m\n",
      "\u001b[34m<NDArray 1 @cpu(0)>}\u001b[0m\n",
      "\u001b[34m[03/28/2022 20:11:33 INFO 140044817090368] nvidia-smi: took 0.062 seconds to run.\u001b[0m\n",
      "\u001b[34m[03/28/2022 20:11:33 INFO 140044817090368] nvidia-smi identified 0 GPUs.\u001b[0m\n",
      "\u001b[34m[03/28/2022 20:11:33 INFO 140044817090368] Number of GPUs being used: 0\u001b[0m\n",
      "\u001b[34m#metrics {\"StartTime\": 1648498294.1053116, \"EndTime\": 1648498294.1053784, \"Dimensions\": {\"Algorithm\": \"Linear Learner\", \"Host\": \"algo-1\", \"Operation\": \"training\", \"Meta\": \"init_train_data_iter\"}, \"Metrics\": {\"Total Records Seen\": {\"sum\": 85.0, \"count\": 1, \"min\": 85, \"max\": 85}, \"Total Batches Seen\": {\"sum\": 17.0, \"count\": 1, \"min\": 17, \"max\": 17}, \"Max Records Seen Between Resets\": {\"sum\": 80.0, \"count\": 1, \"min\": 80, \"max\": 80}, \"Max Batches Seen Between Resets\": {\"sum\": 16.0, \"count\": 1, \"min\": 16, \"max\": 16}, \"Reset Count\": {\"sum\": 2.0, \"count\": 1, \"min\": 2, \"max\": 2}, \"Number of Records Since Last Reset\": {\"sum\": 0.0, \"count\": 1, \"min\": 0, \"max\": 0}, \"Number of Batches Since Last Reset\": {\"sum\": 0.0, \"count\": 1, \"min\": 0, \"max\": 0}}}\u001b[0m\n",
      "\u001b[34m[2022-03-28 20:11:34.558] [tensorio] [info] epoch_stats={\"data_pipeline\": \"/opt/ml/input/data/train\", \"epoch\": 4, \"duration\": 452, \"num_examples\": 16, \"num_bytes\": 3840}\u001b[0m\n",
      "\u001b[34m#metrics {\"StartTime\": 1648498294.5584033, \"EndTime\": 1648498294.5585296, \"Dimensions\": {\"Algorithm\": \"Linear Learner\", \"Host\": \"algo-1\", \"Operation\": \"training\", \"epoch\": 0, \"model\": 0}, \"Metrics\": {\"train_absolute_loss_objective\": {\"sum\": 0.7817118674516678, \"count\": 1, \"min\": 0.7817118674516678, \"max\": 0.7817118674516678}}}\u001b[0m\n",
      "\u001b[34m#metrics {\"StartTime\": 1648498294.558635, \"EndTime\": 1648498294.5586548, \"Dimensions\": {\"Algorithm\": \"Linear Learner\", \"Host\": \"algo-1\", \"Operation\": \"training\", \"epoch\": 0, \"model\": 1}, \"Metrics\": {\"train_absolute_loss_objective\": {\"sum\": 0.7648806974291802, \"count\": 1, \"min\": 0.7648806974291802, \"max\": 0.7648806974291802}}}\u001b[0m\n",
      "\u001b[34m#metrics {\"StartTime\": 1648498294.5587106, \"EndTime\": 1648498294.558726, \"Dimensions\": {\"Algorithm\": \"Linear Learner\", \"Host\": \"algo-1\", \"Operation\": \"training\", \"epoch\": 0, \"model\": 2}, \"Metrics\": {\"train_absolute_loss_objective\": {\"sum\": 0.7796704232692718, \"count\": 1, \"min\": 0.7796704232692718, \"max\": 0.7796704232692718}}}\u001b[0m\n",
      "\u001b[34m#metrics {\"StartTime\": 1648498294.558787, \"EndTime\": 1648498294.5588028, \"Dimensions\": {\"Algorithm\": \"Linear Learner\", \"Host\": \"algo-1\", \"Operation\": \"training\", \"epoch\": 0, \"model\": 3}, \"Metrics\": {\"train_absolute_loss_objective\": {\"sum\": 0.7657419383525849, \"count\": 1, \"min\": 0.7657419383525849, \"max\": 0.7657419383525849}}}\u001b[0m\n",
      "\u001b[34m#metrics {\"StartTime\": 1648498294.5588572, \"EndTime\": 1648498294.5588746, \"Dimensions\": {\"Algorithm\": \"Linear Learner\", \"Host\": \"algo-1\", \"Operation\": \"training\", \"epoch\": 0, \"model\": 4}, \"Metrics\": {\"train_absolute_loss_objective\": {\"sum\": 0.5197167143225669, \"count\": 1, \"min\": 0.5197167143225669, \"max\": 0.5197167143225669}}}\u001b[0m\n",
      "\u001b[34m#metrics {\"StartTime\": 1648498294.5589304, \"EndTime\": 1648498294.5589478, \"Dimensions\": {\"Algorithm\": \"Linear Learner\", \"Host\": \"algo-1\", \"Operation\": \"training\", \"epoch\": 0, \"model\": 5}, \"Metrics\": {\"train_absolute_loss_objective\": {\"sum\": 0.51528932005167, \"count\": 1, \"min\": 0.51528932005167, \"max\": 0.51528932005167}}}\u001b[0m\n",
      "\u001b[34m#metrics {\"StartTime\": 1648498294.559034, \"EndTime\": 1648498294.5590525, \"Dimensions\": {\"Algorithm\": \"Linear Learner\", \"Host\": \"algo-1\", \"Operation\": \"training\", \"epoch\": 0, \"model\": 6}, \"Metrics\": {\"train_absolute_loss_objective\": {\"sum\": 0.5023034699261189, \"count\": 1, \"min\": 0.5023034699261189, \"max\": 0.5023034699261189}}}\u001b[0m\n",
      "\u001b[34m#metrics {\"StartTime\": 1648498294.559107, \"EndTime\": 1648498294.5591247, \"Dimensions\": {\"Algorithm\": \"Linear Learner\", \"Host\": \"algo-1\", \"Operation\": \"training\", \"epoch\": 0, \"model\": 7}, \"Metrics\": {\"train_absolute_loss_objective\": {\"sum\": 0.5181286185979843, \"count\": 1, \"min\": 0.5181286185979843, \"max\": 0.5181286185979843}}}\u001b[0m\n",
      "\u001b[34m#metrics {\"StartTime\": 1648498294.5591772, \"EndTime\": 1648498294.559194, \"Dimensions\": {\"Algorithm\": \"Linear Learner\", \"Host\": \"algo-1\", \"Operation\": \"training\", \"epoch\": 0, \"model\": 8}, \"Metrics\": {\"train_absolute_loss_objective\": {\"sum\": 0.7344025671482086, \"count\": 1, \"min\": 0.7344025671482086, \"max\": 0.7344025671482086}}}\u001b[0m\n",
      "\u001b[34m#metrics {\"StartTime\": 1648498294.5592496, \"EndTime\": 1648498294.5592666, \"Dimensions\": {\"Algorithm\": \"Linear Learner\", \"Host\": \"algo-1\", \"Operation\": \"training\", \"epoch\": 0, \"model\": 9}, \"Metrics\": {\"train_absolute_loss_objective\": {\"sum\": 0.7919153109192848, \"count\": 1, \"min\": 0.7919153109192848, \"max\": 0.7919153109192848}}}\u001b[0m\n",
      "\u001b[34m#metrics {\"StartTime\": 1648498294.5593207, \"EndTime\": 1648498294.5593388, \"Dimensions\": {\"Algorithm\": \"Linear Learner\", \"Host\": \"algo-1\", \"Operation\": \"training\", \"epoch\": 0, \"model\": 10}, \"Metrics\": {\"train_absolute_loss_objective\": {\"sum\": 0.7862244829535484, \"count\": 1, \"min\": 0.7862244829535484, \"max\": 0.7862244829535484}}}\u001b[0m\n",
      "\u001b[34m#metrics {\"StartTime\": 1648498294.5593946, \"EndTime\": 1648498294.5594118, \"Dimensions\": {\"Algorithm\": \"Linear Learner\", \"Host\": \"algo-1\", \"Operation\": \"training\", \"epoch\": 0, \"model\": 11}, \"Metrics\": {\"train_absolute_loss_objective\": {\"sum\": 0.7987827509641647, \"count\": 1, \"min\": 0.7987827509641647, \"max\": 0.7987827509641647}}}\u001b[0m\n",
      "\u001b[34m#metrics {\"StartTime\": 1648498294.559467, \"EndTime\": 1648498294.5594842, \"Dimensions\": {\"Algorithm\": \"Linear Learner\", \"Host\": \"algo-1\", \"Operation\": \"training\", \"epoch\": 0, \"model\": 12}, \"Metrics\": {\"train_absolute_loss_objective\": {\"sum\": 0.51584547534585, \"count\": 1, \"min\": 0.51584547534585, \"max\": 0.51584547534585}}}\u001b[0m\n",
      "\u001b[34m#metrics {\"StartTime\": 1648498294.5595396, \"EndTime\": 1648498294.559556, \"Dimensions\": {\"Algorithm\": \"Linear Learner\", \"Host\": \"algo-1\", \"Operation\": \"training\", \"epoch\": 0, \"model\": 13}, \"Metrics\": {\"train_absolute_loss_objective\": {\"sum\": 0.4919856056571007, \"count\": 1, \"min\": 0.4919856056571007, \"max\": 0.4919856056571007}}}\u001b[0m\n",
      "\u001b[34m#metrics {\"StartTime\": 1648498294.559609, \"EndTime\": 1648498294.5596263, \"Dimensions\": {\"Algorithm\": \"Linear Learner\", \"Host\": \"algo-1\", \"Operation\": \"training\", \"epoch\": 0, \"model\": 14}, \"Metrics\": {\"train_absolute_loss_objective\": {\"sum\": 0.5165853187441826, \"count\": 1, \"min\": 0.5165853187441826, \"max\": 0.5165853187441826}}}\u001b[0m\n",
      "\u001b[34m#metrics {\"StartTime\": 1648498294.55968, \"EndTime\": 1648498294.5596962, \"Dimensions\": {\"Algorithm\": \"Linear Learner\", \"Host\": \"algo-1\", \"Operation\": \"training\", \"epoch\": 0, \"model\": 15}, \"Metrics\": {\"train_absolute_loss_objective\": {\"sum\": 0.5162270441651344, \"count\": 1, \"min\": 0.5162270441651344, \"max\": 0.5162270441651344}}}\u001b[0m\n",
      "\u001b[34m#metrics {\"StartTime\": 1648498294.5597486, \"EndTime\": 1648498294.5597675, \"Dimensions\": {\"Algorithm\": \"Linear Learner\", \"Host\": \"algo-1\", \"Operation\": \"training\", \"epoch\": 0, \"model\": 16}, \"Metrics\": {\"train_absolute_loss_objective\": {\"sum\": 0.8119090080261231, \"count\": 1, \"min\": 0.8119090080261231, \"max\": 0.8119090080261231}}}\u001b[0m\n",
      "\u001b[34m#metrics {\"StartTime\": 1648498294.5598216, \"EndTime\": 1648498294.5598383, \"Dimensions\": {\"Algorithm\": \"Linear Learner\", \"Host\": \"algo-1\", \"Operation\": \"training\", \"epoch\": 0, \"model\": 17}, \"Metrics\": {\"train_absolute_loss_objective\": {\"sum\": 0.7691915333271027, \"count\": 1, \"min\": 0.7691915333271027, \"max\": 0.7691915333271027}}}\u001b[0m\n",
      "\u001b[34m#metrics {\"StartTime\": 1648498294.559895, \"EndTime\": 1648498294.5599122, \"Dimensions\": {\"Algorithm\": \"Linear Learner\", \"Host\": \"algo-1\", \"Operation\": \"training\", \"epoch\": 0, \"model\": 18}, \"Metrics\": {\"train_absolute_loss_objective\": {\"sum\": 0.7893174529075623, \"count\": 1, \"min\": 0.7893174529075623, \"max\": 0.7893174529075623}}}\u001b[0m\n",
      "\u001b[34m#metrics {\"StartTime\": 1648498294.5599656, \"EndTime\": 1648498294.5599833, \"Dimensions\": {\"Algorithm\": \"Linear Learner\", \"Host\": \"algo-1\", \"Operation\": \"training\", \"epoch\": 0, \"model\": 19}, \"Metrics\": {\"train_absolute_loss_objective\": {\"sum\": 0.7915920734405517, \"count\": 1, \"min\": 0.7915920734405517, \"max\": 0.7915920734405517}}}\u001b[0m\n",
      "\u001b[34m#metrics {\"StartTime\": 1648498294.5600374, \"EndTime\": 1648498294.560055, \"Dimensions\": {\"Algorithm\": \"Linear Learner\", \"Host\": \"algo-1\", \"Operation\": \"training\", \"epoch\": 0, \"model\": 20}, \"Metrics\": {\"train_absolute_loss_objective\": {\"sum\": 0.6248486891388894, \"count\": 1, \"min\": 0.6248486891388894, \"max\": 0.6248486891388894}}}\u001b[0m\n",
      "\u001b[34m#metrics {\"StartTime\": 1648498294.5601094, \"EndTime\": 1648498294.5601263, \"Dimensions\": {\"Algorithm\": \"Linear Learner\", \"Host\": \"algo-1\", \"Operation\": \"training\", \"epoch\": 0, \"model\": 21}, \"Metrics\": {\"train_absolute_loss_objective\": {\"sum\": 0.6336385115981102, \"count\": 1, \"min\": 0.6336385115981102, \"max\": 0.6336385115981102}}}\u001b[0m\n",
      "\u001b[34m#metrics {\"StartTime\": 1648498294.5601828, \"EndTime\": 1648498294.5601993, \"Dimensions\": {\"Algorithm\": \"Linear Learner\", \"Host\": \"algo-1\", \"Operation\": \"training\", \"epoch\": 0, \"model\": 22}, \"Metrics\": {\"train_absolute_loss_objective\": {\"sum\": 0.630900365114212, \"count\": 1, \"min\": 0.630900365114212, \"max\": 0.630900365114212}}}\u001b[0m\n",
      "\u001b[34m#metrics {\"StartTime\": 1648498294.560252, \"EndTime\": 1648498294.560268, \"Dimensions\": {\"Algorithm\": \"Linear Learner\", \"Host\": \"algo-1\", \"Operation\": \"training\", \"epoch\": 0, \"model\": 23}, \"Metrics\": {\"train_absolute_loss_objective\": {\"sum\": 0.6325962603092193, \"count\": 1, \"min\": 0.6325962603092193, \"max\": 0.6325962603092193}}}\u001b[0m\n",
      "\u001b[34m#metrics {\"StartTime\": 1648498294.5603242, \"EndTime\": 1648498294.5603414, \"Dimensions\": {\"Algorithm\": \"Linear Learner\", \"Host\": \"algo-1\", \"Operation\": \"training\", \"epoch\": 0, \"model\": 24}, \"Metrics\": {\"train_absolute_loss_objective\": {\"sum\": 0.8224728822708129, \"count\": 1, \"min\": 0.8224728822708129, \"max\": 0.8224728822708129}}}\u001b[0m\n",
      "\u001b[34m#metrics {\"StartTime\": 1648498294.5603929, \"EndTime\": 1648498294.5604079, \"Dimensions\": {\"Algorithm\": \"Linear Learner\", \"Host\": \"algo-1\", \"Operation\": \"training\", \"epoch\": 0, \"model\": 25}, \"Metrics\": {\"train_absolute_loss_objective\": {\"sum\": 0.801367524266243, \"count\": 1, \"min\": 0.801367524266243, \"max\": 0.801367524266243}}}\u001b[0m\n",
      "\u001b[34m#metrics {\"StartTime\": 1648498294.5604587, \"EndTime\": 1648498294.560475, \"Dimensions\": {\"Algorithm\": \"Linear Learner\", \"Host\": \"algo-1\", \"Operation\": \"training\", \"epoch\": 0, \"model\": 26}, \"Metrics\": {\"train_absolute_loss_objective\": {\"sum\": 0.7993007302284241, \"count\": 1, \"min\": 0.7993007302284241, \"max\": 0.7993007302284241}}}\u001b[0m\n",
      "\u001b[34m#metrics {\"StartTime\": 1648498294.5605302, \"EndTime\": 1648498294.5605474, \"Dimensions\": {\"Algorithm\": \"Linear Learner\", \"Host\": \"algo-1\", \"Operation\": \"training\", \"epoch\": 0, \"model\": 27}, \"Metrics\": {\"train_absolute_loss_objective\": {\"sum\": 0.7989340648055077, \"count\": 1, \"min\": 0.7989340648055077, \"max\": 0.7989340648055077}}}\u001b[0m\n",
      "\u001b[34m#metrics {\"StartTime\": 1648498294.5606043, \"EndTime\": 1648498294.5606217, \"Dimensions\": {\"Algorithm\": \"Linear Learner\", \"Host\": \"algo-1\", \"Operation\": \"training\", \"epoch\": 0, \"model\": 28}, \"Metrics\": {\"train_absolute_loss_objective\": {\"sum\": 0.8923283368349075, \"count\": 1, \"min\": 0.8923283368349075, \"max\": 0.8923283368349075}}}\u001b[0m\n",
      "\u001b[34m#metrics {\"StartTime\": 1648498294.5606759, \"EndTime\": 1648498294.560693, \"Dimensions\": {\"Algorithm\": \"Linear Learner\", \"Host\": \"algo-1\", \"Operation\": \"training\", \"epoch\": 0, \"model\": 29}, \"Metrics\": {\"train_absolute_loss_objective\": {\"sum\": 0.8920408993959427, \"count\": 1, \"min\": 0.8920408993959427, \"max\": 0.8920408993959427}}}\u001b[0m\n",
      "\u001b[34m#metrics {\"StartTime\": 1648498294.5607486, \"EndTime\": 1648498294.5607665, \"Dimensions\": {\"Algorithm\": \"Linear Learner\", \"Host\": \"algo-1\", \"Operation\": \"training\", \"epoch\": 0, \"model\": 30}, \"Metrics\": {\"train_absolute_loss_objective\": {\"sum\": 0.8891895920038223, \"count\": 1, \"min\": 0.8891895920038223, \"max\": 0.8891895920038223}}}\u001b[0m\n",
      "\u001b[34m#metrics {\"StartTime\": 1648498294.560823, \"EndTime\": 1648498294.5608394, \"Dimensions\": {\"Algorithm\": \"Linear Learner\", \"Host\": \"algo-1\", \"Operation\": \"training\", \"epoch\": 0, \"model\": 31}, \"Metrics\": {\"train_absolute_loss_objective\": {\"sum\": 0.8923642128705979, \"count\": 1, \"min\": 0.8923642128705979, \"max\": 0.8923642128705979}}}\u001b[0m\n",
      "\u001b[34m[03/28/2022 20:11:34 INFO 140044817090368] #quality_metric: host=algo-1, epoch=0, train absolute_loss_objective <loss>=0.7817118674516678\u001b[0m\n",
      "\u001b[34m[03/28/2022 20:11:34 INFO 140044817090368] #early_stopping_criteria_metric: host=algo-1, epoch=0, criteria=absolute_loss_objective, value=0.4919856056571007\u001b[0m\n",
      "\u001b[34m[03/28/2022 20:11:34 INFO 140044817090368] Epoch 0: Loss improved. Updating best model\u001b[0m\n",
      "\u001b[34m[03/28/2022 20:11:34 INFO 140044817090368] Saving model for epoch: 0\u001b[0m\n",
      "\u001b[34m[03/28/2022 20:11:34 INFO 140044817090368] Saved checkpoint to \"/tmp/tmp6fjxwn_t/mx-mod-0000.params\"\u001b[0m\n",
      "\u001b[34m[03/28/2022 20:11:34 INFO 140044817090368] #progress_metric: host=algo-1, completed 20.0 % of epochs\u001b[0m\n",
      "\u001b[34m#metrics {\"StartTime\": 1648498294.105808, \"EndTime\": 1648498294.575946, \"Dimensions\": {\"Algorithm\": \"Linear Learner\", \"Host\": \"algo-1\", \"Operation\": \"training\", \"epoch\": 0, \"Meta\": \"training_data_iter\"}, \"Metrics\": {\"Total Records Seen\": {\"sum\": 165.0, \"count\": 1, \"min\": 165, \"max\": 165}, \"Total Batches Seen\": {\"sum\": 33.0, \"count\": 1, \"min\": 33, \"max\": 33}, \"Max Records Seen Between Resets\": {\"sum\": 80.0, \"count\": 1, \"min\": 80, \"max\": 80}, \"Max Batches Seen Between Resets\": {\"sum\": 16.0, \"count\": 1, \"min\": 16, \"max\": 16}, \"Reset Count\": {\"sum\": 3.0, \"count\": 1, \"min\": 3, \"max\": 3}, \"Number of Records Since Last Reset\": {\"sum\": 80.0, \"count\": 1, \"min\": 80, \"max\": 80}, \"Number of Batches Since Last Reset\": {\"sum\": 16.0, \"count\": 1, \"min\": 16, \"max\": 16}}}\u001b[0m\n",
      "\u001b[34m[03/28/2022 20:11:34 INFO 140044817090368] #throughput_metric: host=algo-1, train throughput=170.11437983881066 records/second\u001b[0m\n",
      "\u001b[34m[2022-03-28 20:11:35.013] [tensorio] [info] epoch_stats={\"data_pipeline\": \"/opt/ml/input/data/train\", \"epoch\": 6, \"duration\": 436, \"num_examples\": 16, \"num_bytes\": 3840}\u001b[0m\n",
      "\u001b[34m#metrics {\"StartTime\": 1648498295.0131412, \"EndTime\": 1648498295.0132518, \"Dimensions\": {\"Algorithm\": \"Linear Learner\", \"Host\": \"algo-1\", \"Operation\": \"training\", \"epoch\": 1, \"model\": 0}, \"Metrics\": {\"train_absolute_loss_objective\": {\"sum\": 0.7145846635103226, \"count\": 1, \"min\": 0.7145846635103226, \"max\": 0.7145846635103226}}}\u001b[0m\n",
      "\u001b[34m#metrics {\"StartTime\": 1648498295.0133698, \"EndTime\": 1648498295.0133948, \"Dimensions\": {\"Algorithm\": \"Linear Learner\", \"Host\": \"algo-1\", \"Operation\": \"training\", \"epoch\": 1, \"model\": 1}, \"Metrics\": {\"train_absolute_loss_objective\": {\"sum\": 0.6967610999941826, \"count\": 1, \"min\": 0.6967610999941826, \"max\": 0.6967610999941826}}}\u001b[0m\n",
      "\u001b[34m#metrics {\"StartTime\": 1648498295.01346, \"EndTime\": 1648498295.0134797, \"Dimensions\": {\"Algorithm\": \"Linear Learner\", \"Host\": \"algo-1\", \"Operation\": \"training\", \"epoch\": 1, \"model\": 2}, \"Metrics\": {\"train_absolute_loss_objective\": {\"sum\": 0.7124999046325684, \"count\": 1, \"min\": 0.7124999046325684, \"max\": 0.7124999046325684}}}\u001b[0m\n",
      "\u001b[34m#metrics {\"StartTime\": 1648498295.0135376, \"EndTime\": 1648498295.0135539, \"Dimensions\": {\"Algorithm\": \"Linear Learner\", \"Host\": \"algo-1\", \"Operation\": \"training\", \"epoch\": 1, \"model\": 3}, \"Metrics\": {\"train_absolute_loss_objective\": {\"sum\": 0.6976406157016755, \"count\": 1, \"min\": 0.6976406157016755, \"max\": 0.6976406157016755}}}\u001b[0m\n",
      "\u001b[34m#metrics {\"StartTime\": 1648498295.0136094, \"EndTime\": 1648498295.0136266, \"Dimensions\": {\"Algorithm\": \"Linear Learner\", \"Host\": \"algo-1\", \"Operation\": \"training\", \"epoch\": 1, \"model\": 4}, \"Metrics\": {\"train_absolute_loss_objective\": {\"sum\": 0.3626074843108654, \"count\": 1, \"min\": 0.3626074843108654, \"max\": 0.3626074843108654}}}\u001b[0m\n",
      "\u001b[34m#metrics {\"StartTime\": 1648498295.0136807, \"EndTime\": 1648498295.0136957, \"Dimensions\": {\"Algorithm\": \"Linear Learner\", \"Host\": \"algo-1\", \"Operation\": \"training\", \"epoch\": 1, \"model\": 5}, \"Metrics\": {\"train_absolute_loss_objective\": {\"sum\": 0.3851527988910675, \"count\": 1, \"min\": 0.3851527988910675, \"max\": 0.3851527988910675}}}\u001b[0m\n",
      "\u001b[34m#metrics {\"StartTime\": 1648498295.01375, \"EndTime\": 1648498295.0137668, \"Dimensions\": {\"Algorithm\": \"Linear Learner\", \"Host\": \"algo-1\", \"Operation\": \"training\", \"epoch\": 1, \"model\": 6}, \"Metrics\": {\"train_absolute_loss_objective\": {\"sum\": 0.39070132970809934, \"count\": 1, \"min\": 0.39070132970809934, \"max\": 0.39070132970809934}}}\u001b[0m\n",
      "\u001b[34m#metrics {\"StartTime\": 1648498295.0138228, \"EndTime\": 1648498295.0138392, \"Dimensions\": {\"Algorithm\": \"Linear Learner\", \"Host\": \"algo-1\", \"Operation\": \"training\", \"epoch\": 1, \"model\": 7}, \"Metrics\": {\"train_absolute_loss_objective\": {\"sum\": 0.36152950674295425, \"count\": 1, \"min\": 0.36152950674295425, \"max\": 0.36152950674295425}}}\u001b[0m\n",
      "\u001b[34m#metrics {\"StartTime\": 1648498295.0138922, \"EndTime\": 1648498295.013909, \"Dimensions\": {\"Algorithm\": \"Linear Learner\", \"Host\": \"algo-1\", \"Operation\": \"training\", \"epoch\": 1, \"model\": 8}, \"Metrics\": {\"train_absolute_loss_objective\": {\"sum\": 0.6662899225950241, \"count\": 1, \"min\": 0.6662899225950241, \"max\": 0.6662899225950241}}}\u001b[0m\n",
      "\u001b[34m#metrics {\"StartTime\": 1648498295.0139627, \"EndTime\": 1648498295.0139797, \"Dimensions\": {\"Algorithm\": \"Linear Learner\", \"Host\": \"algo-1\", \"Operation\": \"training\", \"epoch\": 1, \"model\": 9}, \"Metrics\": {\"train_absolute_loss_objective\": {\"sum\": 0.7243783935904503, \"count\": 1, \"min\": 0.7243783935904503, \"max\": 0.7243783935904503}}}\u001b[0m\n",
      "\u001b[34m#metrics {\"StartTime\": 1648498295.0140345, \"EndTime\": 1648498295.0140507, \"Dimensions\": {\"Algorithm\": \"Linear Learner\", \"Host\": \"algo-1\", \"Operation\": \"training\", \"epoch\": 1, \"model\": 10}, \"Metrics\": {\"train_absolute_loss_objective\": {\"sum\": 0.7192028418183327, \"count\": 1, \"min\": 0.7192028418183327, \"max\": 0.7192028418183327}}}\u001b[0m\n",
      "\u001b[34m#metrics {\"StartTime\": 1648498295.0141056, \"EndTime\": 1648498295.0141222, \"Dimensions\": {\"Algorithm\": \"Linear Learner\", \"Host\": \"algo-1\", \"Operation\": \"training\", \"epoch\": 1, \"model\": 11}, \"Metrics\": {\"train_absolute_loss_objective\": {\"sum\": 0.7313904136419296, \"count\": 1, \"min\": 0.7313904136419296, \"max\": 0.7313904136419296}}}\u001b[0m\n",
      "\u001b[34m#metrics {\"StartTime\": 1648498295.0141776, \"EndTime\": 1648498295.0141952, \"Dimensions\": {\"Algorithm\": \"Linear Learner\", \"Host\": \"algo-1\", \"Operation\": \"training\", \"epoch\": 1, \"model\": 12}, \"Metrics\": {\"train_absolute_loss_objective\": {\"sum\": 0.362516325712204, \"count\": 1, \"min\": 0.362516325712204, \"max\": 0.362516325712204}}}\u001b[0m\n",
      "\u001b[34m#metrics {\"StartTime\": 1648498295.0142481, \"EndTime\": 1648498295.0142648, \"Dimensions\": {\"Algorithm\": \"Linear Learner\", \"Host\": \"algo-1\", \"Operation\": \"training\", \"epoch\": 1, \"model\": 13}, \"Metrics\": {\"train_absolute_loss_objective\": {\"sum\": 0.3608140885829926, \"count\": 1, \"min\": 0.3608140885829926, \"max\": 0.3608140885829926}}}\u001b[0m\n",
      "\u001b[34m#metrics {\"StartTime\": 1648498295.0143192, \"EndTime\": 1648498295.0143788, \"Dimensions\": {\"Algorithm\": \"Linear Learner\", \"Host\": \"algo-1\", \"Operation\": \"training\", \"epoch\": 1, \"model\": 14}, \"Metrics\": {\"train_absolute_loss_objective\": {\"sum\": 0.36192805096507075, \"count\": 1, \"min\": 0.36192805096507075, \"max\": 0.36192805096507075}}}\u001b[0m\n",
      "\u001b[34m#metrics {\"StartTime\": 1648498295.014441, \"EndTime\": 1648498295.0144637, \"Dimensions\": {\"Algorithm\": \"Linear Learner\", \"Host\": \"algo-1\", \"Operation\": \"training\", \"epoch\": 1, \"model\": 15}, \"Metrics\": {\"train_absolute_loss_objective\": {\"sum\": 0.35966719686985016, \"count\": 1, \"min\": 0.35966719686985016, \"max\": 0.35966719686985016}}}\u001b[0m\n",
      "\u001b[34m#metrics {\"StartTime\": 1648498295.014557, \"EndTime\": 1648498295.0145805, \"Dimensions\": {\"Algorithm\": \"Linear Learner\", \"Host\": \"algo-1\", \"Operation\": \"training\", \"epoch\": 1, \"model\": 16}, \"Metrics\": {\"train_absolute_loss_objective\": {\"sum\": 0.7460343524813652, \"count\": 1, \"min\": 0.7460343524813652, \"max\": 0.7460343524813652}}}\u001b[0m\n",
      "\u001b[34m#metrics {\"StartTime\": 1648498295.0146444, \"EndTime\": 1648498295.014664, \"Dimensions\": {\"Algorithm\": \"Linear Learner\", \"Host\": \"algo-1\", \"Operation\": \"training\", \"epoch\": 1, \"model\": 17}, \"Metrics\": {\"train_absolute_loss_objective\": {\"sum\": 0.7025826066732407, \"count\": 1, \"min\": 0.7025826066732407, \"max\": 0.7025826066732407}}}\u001b[0m\n",
      "\u001b[34m#metrics {\"StartTime\": 1648498295.014768, \"EndTime\": 1648498295.014792, \"Dimensions\": {\"Algorithm\": \"Linear Learner\", \"Host\": \"algo-1\", \"Operation\": \"training\", \"epoch\": 1, \"model\": 18}, \"Metrics\": {\"train_absolute_loss_objective\": {\"sum\": 0.7233527153730392, \"count\": 1, \"min\": 0.7233527153730392, \"max\": 0.7233527153730392}}}\u001b[0m\n",
      "\u001b[34m#metrics {\"StartTime\": 1648498295.0148787, \"EndTime\": 1648498295.0149002, \"Dimensions\": {\"Algorithm\": \"Linear Learner\", \"Host\": \"algo-1\", \"Operation\": \"training\", \"epoch\": 1, \"model\": 19}, \"Metrics\": {\"train_absolute_loss_objective\": {\"sum\": 0.7250227555632591, \"count\": 1, \"min\": 0.7250227555632591, \"max\": 0.7250227555632591}}}\u001b[0m\n",
      "\u001b[34m#metrics {\"StartTime\": 1648498295.0149586, \"EndTime\": 1648498295.0149748, \"Dimensions\": {\"Algorithm\": \"Linear Learner\", \"Host\": \"algo-1\", \"Operation\": \"training\", \"epoch\": 1, \"model\": 20}, \"Metrics\": {\"train_absolute_loss_objective\": {\"sum\": 0.4021310590207577, \"count\": 1, \"min\": 0.4021310590207577, \"max\": 0.4021310590207577}}}\u001b[0m\n",
      "\u001b[34m#metrics {\"StartTime\": 1648498295.0151005, \"EndTime\": 1648498295.0151193, \"Dimensions\": {\"Algorithm\": \"Linear Learner\", \"Host\": \"algo-1\", \"Operation\": \"training\", \"epoch\": 1, \"model\": 21}, \"Metrics\": {\"train_absolute_loss_objective\": {\"sum\": 0.4051623083651066, \"count\": 1, \"min\": 0.4051623083651066, \"max\": 0.4051623083651066}}}\u001b[0m\n",
      "\u001b[34m#metrics {\"StartTime\": 1648498295.015262, \"EndTime\": 1648498295.0152824, \"Dimensions\": {\"Algorithm\": \"Linear Learner\", \"Host\": \"algo-1\", \"Operation\": \"training\", \"epoch\": 1, \"model\": 22}, \"Metrics\": {\"train_absolute_loss_objective\": {\"sum\": 0.3956286206841469, \"count\": 1, \"min\": 0.3956286206841469, \"max\": 0.3956286206841469}}}\u001b[0m\n",
      "\u001b[34m#metrics {\"StartTime\": 1648498295.0153413, \"EndTime\": 1648498295.0153584, \"Dimensions\": {\"Algorithm\": \"Linear Learner\", \"Host\": \"algo-1\", \"Operation\": \"training\", \"epoch\": 1, \"model\": 23}, \"Metrics\": {\"train_absolute_loss_objective\": {\"sum\": 0.391693089902401, \"count\": 1, \"min\": 0.391693089902401, \"max\": 0.391693089902401}}}\u001b[0m\n",
      "\u001b[34m#metrics {\"StartTime\": 1648498295.015507, \"EndTime\": 1648498295.0155284, \"Dimensions\": {\"Algorithm\": \"Linear Learner\", \"Host\": \"algo-1\", \"Operation\": \"training\", \"epoch\": 1, \"model\": 24}, \"Metrics\": {\"train_absolute_loss_objective\": {\"sum\": 0.7796079650521278, \"count\": 1, \"min\": 0.7796079650521278, \"max\": 0.7796079650521278}}}\u001b[0m\n",
      "\u001b[34m#metrics {\"StartTime\": 1648498295.0156214, \"EndTime\": 1648498295.0156417, \"Dimensions\": {\"Algorithm\": \"Linear Learner\", \"Host\": \"algo-1\", \"Operation\": \"training\", \"epoch\": 1, \"model\": 25}, \"Metrics\": {\"train_absolute_loss_objective\": {\"sum\": 0.7862573862075806, \"count\": 1, \"min\": 0.7862573862075806, \"max\": 0.7862573862075806}}}\u001b[0m\n",
      "\u001b[34m#metrics {\"StartTime\": 1648498295.0157008, \"EndTime\": 1648498295.01572, \"Dimensions\": {\"Algorithm\": \"Linear Learner\", \"Host\": \"algo-1\", \"Operation\": \"training\", \"epoch\": 1, \"model\": 26}, \"Metrics\": {\"train_absolute_loss_objective\": {\"sum\": 0.7890444010496139, \"count\": 1, \"min\": 0.7890444010496139, \"max\": 0.7890444010496139}}}\u001b[0m\n",
      "\u001b[34m#metrics {\"StartTime\": 1648498295.0157757, \"EndTime\": 1648498295.0157936, \"Dimensions\": {\"Algorithm\": \"Linear Learner\", \"Host\": \"algo-1\", \"Operation\": \"training\", \"epoch\": 1, \"model\": 27}, \"Metrics\": {\"train_absolute_loss_objective\": {\"sum\": 0.788120587170124, \"count\": 1, \"min\": 0.788120587170124, \"max\": 0.788120587170124}}}\u001b[0m\n",
      "\u001b[34m#metrics {\"StartTime\": 1648498295.015851, \"EndTime\": 1648498295.01587, \"Dimensions\": {\"Algorithm\": \"Linear Learner\", \"Host\": \"algo-1\", \"Operation\": \"training\", \"epoch\": 1, \"model\": 28}, \"Metrics\": {\"train_absolute_loss_objective\": {\"sum\": 0.8040576428174973, \"count\": 1, \"min\": 0.8040576428174973, \"max\": 0.8040576428174973}}}\u001b[0m\n",
      "\u001b[34m#metrics {\"StartTime\": 1648498295.0159206, \"EndTime\": 1648498295.0159354, \"Dimensions\": {\"Algorithm\": \"Linear Learner\", \"Host\": \"algo-1\", \"Operation\": \"training\", \"epoch\": 1, \"model\": 29}, \"Metrics\": {\"train_absolute_loss_objective\": {\"sum\": 0.8061674475669861, \"count\": 1, \"min\": 0.8061674475669861, \"max\": 0.8061674475669861}}}\u001b[0m\n",
      "\u001b[34m#metrics {\"StartTime\": 1648498295.0159798, \"EndTime\": 1648498295.0159936, \"Dimensions\": {\"Algorithm\": \"Linear Learner\", \"Host\": \"algo-1\", \"Operation\": \"training\", \"epoch\": 1, \"model\": 30}, \"Metrics\": {\"train_absolute_loss_objective\": {\"sum\": 0.8389358401298523, \"count\": 1, \"min\": 0.8389358401298523, \"max\": 0.8389358401298523}}}\u001b[0m\n",
      "\u001b[34m#metrics {\"StartTime\": 1648498295.0160377, \"EndTime\": 1648498295.0160503, \"Dimensions\": {\"Algorithm\": \"Linear Learner\", \"Host\": \"algo-1\", \"Operation\": \"training\", \"epoch\": 1, \"model\": 31}, \"Metrics\": {\"train_absolute_loss_objective\": {\"sum\": 0.8044047445058823, \"count\": 1, \"min\": 0.8044047445058823, \"max\": 0.8044047445058823}}}\u001b[0m\n",
      "\u001b[34m[03/28/2022 20:11:35 INFO 140044817090368] #quality_metric: host=algo-1, epoch=1, train absolute_loss_objective <loss>=0.7145846635103226\u001b[0m\n",
      "\u001b[34m[03/28/2022 20:11:35 INFO 140044817090368] #early_stopping_criteria_metric: host=algo-1, epoch=1, criteria=absolute_loss_objective, value=0.35966719686985016\u001b[0m\n",
      "\u001b[34m[03/28/2022 20:11:35 INFO 140044817090368] Epoch 1: Loss improved. Updating best model\u001b[0m\n",
      "\u001b[34m[03/28/2022 20:11:35 INFO 140044817090368] Saving model for epoch: 1\u001b[0m\n",
      "\u001b[34m[03/28/2022 20:11:35 INFO 140044817090368] Saved checkpoint to \"/tmp/tmpvxcbygpy/mx-mod-0000.params\"\u001b[0m\n",
      "\u001b[34m[03/28/2022 20:11:35 INFO 140044817090368] #progress_metric: host=algo-1, completed 40.0 % of epochs\u001b[0m\n",
      "\u001b[34m#metrics {\"StartTime\": 1648498294.5762684, \"EndTime\": 1648498295.030818, \"Dimensions\": {\"Algorithm\": \"Linear Learner\", \"Host\": \"algo-1\", \"Operation\": \"training\", \"epoch\": 1, \"Meta\": \"training_data_iter\"}, \"Metrics\": {\"Total Records Seen\": {\"sum\": 245.0, \"count\": 1, \"min\": 245, \"max\": 245}, \"Total Batches Seen\": {\"sum\": 49.0, \"count\": 1, \"min\": 49, \"max\": 49}, \"Max Records Seen Between Resets\": {\"sum\": 80.0, \"count\": 1, \"min\": 80, \"max\": 80}, \"Max Batches Seen Between Resets\": {\"sum\": 16.0, \"count\": 1, \"min\": 16, \"max\": 16}, \"Reset Count\": {\"sum\": 4.0, \"count\": 1, \"min\": 4, \"max\": 4}, \"Number of Records Since Last Reset\": {\"sum\": 80.0, \"count\": 1, \"min\": 80, \"max\": 80}, \"Number of Batches Since Last Reset\": {\"sum\": 16.0, \"count\": 1, \"min\": 16, \"max\": 16}}}\u001b[0m\n",
      "\u001b[34m[03/28/2022 20:11:35 INFO 140044817090368] #throughput_metric: host=algo-1, train throughput=175.937046451732 records/second\u001b[0m\n",
      "\u001b[34m[2022-03-28 20:11:35.524] [tensorio] [info] epoch_stats={\"data_pipeline\": \"/opt/ml/input/data/train\", \"epoch\": 8, \"duration\": 493, \"num_examples\": 16, \"num_bytes\": 3840}\u001b[0m\n",
      "\u001b[34m#metrics {\"StartTime\": 1648498295.525069, \"EndTime\": 1648498295.5251746, \"Dimensions\": {\"Algorithm\": \"Linear Learner\", \"Host\": \"algo-1\", \"Operation\": \"training\", \"epoch\": 2, \"model\": 0}, \"Metrics\": {\"train_absolute_loss_objective\": {\"sum\": 0.6648414641618728, \"count\": 1, \"min\": 0.6648414641618728, \"max\": 0.6648414641618728}}}\u001b[0m\n",
      "\u001b[34m#metrics {\"StartTime\": 1648498295.525303, \"EndTime\": 1648498295.5253289, \"Dimensions\": {\"Algorithm\": \"Linear Learner\", \"Host\": \"algo-1\", \"Operation\": \"training\", \"epoch\": 2, \"model\": 1}, \"Metrics\": {\"train_absolute_loss_objective\": {\"sum\": 0.6463945962488651, \"count\": 1, \"min\": 0.6463945962488651, \"max\": 0.6463945962488651}}}\u001b[0m\n",
      "\u001b[34m#metrics {\"StartTime\": 1648498295.5253978, \"EndTime\": 1648498295.5254176, \"Dimensions\": {\"Algorithm\": \"Linear Learner\", \"Host\": \"algo-1\", \"Operation\": \"training\", \"epoch\": 2, \"model\": 2}, \"Metrics\": {\"train_absolute_loss_objective\": {\"sum\": 0.6628238946199417, \"count\": 1, \"min\": 0.6628238946199417, \"max\": 0.6628238946199417}}}\u001b[0m\n",
      "\u001b[34m#metrics {\"StartTime\": 1648498295.5254772, \"EndTime\": 1648498295.5254967, \"Dimensions\": {\"Algorithm\": \"Linear Learner\", \"Host\": \"algo-1\", \"Operation\": \"training\", \"epoch\": 2, \"model\": 3}, \"Metrics\": {\"train_absolute_loss_objective\": {\"sum\": 0.6472457639873028, \"count\": 1, \"min\": 0.6472457639873028, \"max\": 0.6472457639873028}}}\u001b[0m\n",
      "\u001b[34m#metrics {\"StartTime\": 1648498295.5255566, \"EndTime\": 1648498295.5255737, \"Dimensions\": {\"Algorithm\": \"Linear Learner\", \"Host\": \"algo-1\", \"Operation\": \"training\", \"epoch\": 2, \"model\": 4}, \"Metrics\": {\"train_absolute_loss_objective\": {\"sum\": 0.2765303663909435, \"count\": 1, \"min\": 0.2765303663909435, \"max\": 0.2765303663909435}}}\u001b[0m\n",
      "\u001b[34m#metrics {\"StartTime\": 1648498295.525632, \"EndTime\": 1648498295.5256493, \"Dimensions\": {\"Algorithm\": \"Linear Learner\", \"Host\": \"algo-1\", \"Operation\": \"training\", \"epoch\": 2, \"model\": 5}, \"Metrics\": {\"train_absolute_loss_objective\": {\"sum\": 0.2818944089114666, \"count\": 1, \"min\": 0.2818944089114666, \"max\": 0.2818944089114666}}}\u001b[0m\n",
      "\u001b[34m#metrics {\"StartTime\": 1648498295.5257084, \"EndTime\": 1648498295.5257266, \"Dimensions\": {\"Algorithm\": \"Linear Learner\", \"Host\": \"algo-1\", \"Operation\": \"training\", \"epoch\": 2, \"model\": 6}, \"Metrics\": {\"train_absolute_loss_objective\": {\"sum\": 0.28828212395310404, \"count\": 1, \"min\": 0.28828212395310404, \"max\": 0.28828212395310404}}}\u001b[0m\n",
      "\u001b[34m#metrics {\"StartTime\": 1648498295.525785, \"EndTime\": 1648498295.5258038, \"Dimensions\": {\"Algorithm\": \"Linear Learner\", \"Host\": \"algo-1\", \"Operation\": \"training\", \"epoch\": 2, \"model\": 7}, \"Metrics\": {\"train_absolute_loss_objective\": {\"sum\": 0.2976771146059036, \"count\": 1, \"min\": 0.2976771146059036, \"max\": 0.2976771146059036}}}\u001b[0m\n",
      "\u001b[34m#metrics {\"StartTime\": 1648498295.5258617, \"EndTime\": 1648498295.5258803, \"Dimensions\": {\"Algorithm\": \"Linear Learner\", \"Host\": \"algo-1\", \"Operation\": \"training\", \"epoch\": 2, \"model\": 8}, \"Metrics\": {\"train_absolute_loss_objective\": {\"sum\": 0.6181436829268933, \"count\": 1, \"min\": 0.6181436829268933, \"max\": 0.6181436829268933}}}\u001b[0m\n",
      "\u001b[34m#metrics {\"StartTime\": 1648498295.5263698, \"EndTime\": 1648498295.5263941, \"Dimensions\": {\"Algorithm\": \"Linear Learner\", \"Host\": \"algo-1\", \"Operation\": \"training\", \"epoch\": 2, \"model\": 9}, \"Metrics\": {\"train_absolute_loss_objective\": {\"sum\": 0.6731545358896256, \"count\": 1, \"min\": 0.6731545358896256, \"max\": 0.6731545358896256}}}\u001b[0m\n",
      "\u001b[34m#metrics {\"StartTime\": 1648498295.5264523, \"EndTime\": 1648498295.5264685, \"Dimensions\": {\"Algorithm\": \"Linear Learner\", \"Host\": \"algo-1\", \"Operation\": \"training\", \"epoch\": 2, \"model\": 10}, \"Metrics\": {\"train_absolute_loss_objective\": {\"sum\": 0.669343015551567, \"count\": 1, \"min\": 0.669343015551567, \"max\": 0.669343015551567}}}\u001b[0m\n",
      "\u001b[34m#metrics {\"StartTime\": 1648498295.5265243, \"EndTime\": 1648498295.5265427, \"Dimensions\": {\"Algorithm\": \"Linear Learner\", \"Host\": \"algo-1\", \"Operation\": \"training\", \"epoch\": 2, \"model\": 11}, \"Metrics\": {\"train_absolute_loss_objective\": {\"sum\": 0.67993945479393, \"count\": 1, \"min\": 0.67993945479393, \"max\": 0.67993945479393}}}\u001b[0m\n",
      "\u001b[34m#metrics {\"StartTime\": 1648498295.5265987, \"EndTime\": 1648498295.5266156, \"Dimensions\": {\"Algorithm\": \"Linear Learner\", \"Host\": \"algo-1\", \"Operation\": \"training\", \"epoch\": 2, \"model\": 12}, \"Metrics\": {\"train_absolute_loss_objective\": {\"sum\": 0.289108943939209, \"count\": 1, \"min\": 0.289108943939209, \"max\": 0.289108943939209}}}\u001b[0m\n",
      "\u001b[34m#metrics {\"StartTime\": 1648498295.5266716, \"EndTime\": 1648498295.5266883, \"Dimensions\": {\"Algorithm\": \"Linear Learner\", \"Host\": \"algo-1\", \"Operation\": \"training\", \"epoch\": 2, \"model\": 13}, \"Metrics\": {\"train_absolute_loss_objective\": {\"sum\": 0.2805978812277317, \"count\": 1, \"min\": 0.2805978812277317, \"max\": 0.2805978812277317}}}\u001b[0m\n",
      "\u001b[34m#metrics {\"StartTime\": 1648498295.526743, \"EndTime\": 1648498295.5267608, \"Dimensions\": {\"Algorithm\": \"Linear Learner\", \"Host\": \"algo-1\", \"Operation\": \"training\", \"epoch\": 2, \"model\": 14}, \"Metrics\": {\"train_absolute_loss_objective\": {\"sum\": 0.2893485572189093, \"count\": 1, \"min\": 0.2893485572189093, \"max\": 0.2893485572189093}}}\u001b[0m\n",
      "\u001b[34m#metrics {\"StartTime\": 1648498295.5268152, \"EndTime\": 1648498295.5268319, \"Dimensions\": {\"Algorithm\": \"Linear Learner\", \"Host\": \"algo-1\", \"Operation\": \"training\", \"epoch\": 2, \"model\": 15}, \"Metrics\": {\"train_absolute_loss_objective\": {\"sum\": 0.2678765140473843, \"count\": 1, \"min\": 0.2678765140473843, \"max\": 0.2678765140473843}}}\u001b[0m\n",
      "\u001b[34m#metrics {\"StartTime\": 1648498295.5268872, \"EndTime\": 1648498295.5269046, \"Dimensions\": {\"Algorithm\": \"Linear Learner\", \"Host\": \"algo-1\", \"Operation\": \"training\", \"epoch\": 2, \"model\": 16}, \"Metrics\": {\"train_absolute_loss_objective\": {\"sum\": 0.6959409117698669, \"count\": 1, \"min\": 0.6959409117698669, \"max\": 0.6959409117698669}}}\u001b[0m\n",
      "\u001b[34m#metrics {\"StartTime\": 1648498295.5269606, \"EndTime\": 1648498295.527008, \"Dimensions\": {\"Algorithm\": \"Linear Learner\", \"Host\": \"algo-1\", \"Operation\": \"training\", \"epoch\": 2, \"model\": 17}, \"Metrics\": {\"train_absolute_loss_objective\": {\"sum\": 0.6561520919203758, \"count\": 1, \"min\": 0.6561520919203758, \"max\": 0.6561520919203758}}}\u001b[0m\n",
      "\u001b[34m#metrics {\"StartTime\": 1648498295.5270624, \"EndTime\": 1648498295.5270789, \"Dimensions\": {\"Algorithm\": \"Linear Learner\", \"Host\": \"algo-1\", \"Operation\": \"training\", \"epoch\": 2, \"model\": 18}, \"Metrics\": {\"train_absolute_loss_objective\": {\"sum\": 0.6767968133091926, \"count\": 1, \"min\": 0.6767968133091926, \"max\": 0.6767968133091926}}}\u001b[0m\n",
      "\u001b[34m#metrics {\"StartTime\": 1648498295.5271268, \"EndTime\": 1648498295.52714, \"Dimensions\": {\"Algorithm\": \"Linear Learner\", \"Host\": \"algo-1\", \"Operation\": \"training\", \"epoch\": 2, \"model\": 19}, \"Metrics\": {\"train_absolute_loss_objective\": {\"sum\": 0.6773189887404442, \"count\": 1, \"min\": 0.6773189887404442, \"max\": 0.6773189887404442}}}\u001b[0m\n",
      "\u001b[34m#metrics {\"StartTime\": 1648498295.5271854, \"EndTime\": 1648498295.5272007, \"Dimensions\": {\"Algorithm\": \"Linear Learner\", \"Host\": \"algo-1\", \"Operation\": \"training\", \"epoch\": 2, \"model\": 20}, \"Metrics\": {\"train_absolute_loss_objective\": {\"sum\": 0.5683132469654083, \"count\": 1, \"min\": 0.5683132469654083, \"max\": 0.5683132469654083}}}\u001b[0m\n",
      "\u001b[34m#metrics {\"StartTime\": 1648498295.5272567, \"EndTime\": 1648498295.5272734, \"Dimensions\": {\"Algorithm\": \"Linear Learner\", \"Host\": \"algo-1\", \"Operation\": \"training\", \"epoch\": 2, \"model\": 21}, \"Metrics\": {\"train_absolute_loss_objective\": {\"sum\": 0.5772819072008133, \"count\": 1, \"min\": 0.5772819072008133, \"max\": 0.5772819072008133}}}\u001b[0m\n",
      "\u001b[34m#metrics {\"StartTime\": 1648498295.5273247, \"EndTime\": 1648498295.5273392, \"Dimensions\": {\"Algorithm\": \"Linear Learner\", \"Host\": \"algo-1\", \"Operation\": \"training\", \"epoch\": 2, \"model\": 22}, \"Metrics\": {\"train_absolute_loss_objective\": {\"sum\": 0.5711844012141227, \"count\": 1, \"min\": 0.5711844012141227, \"max\": 0.5711844012141227}}}\u001b[0m\n",
      "\u001b[34m#metrics {\"StartTime\": 1648498295.527386, \"EndTime\": 1648498295.5273998, \"Dimensions\": {\"Algorithm\": \"Linear Learner\", \"Host\": \"algo-1\", \"Operation\": \"training\", \"epoch\": 2, \"model\": 23}, \"Metrics\": {\"train_absolute_loss_objective\": {\"sum\": 0.4437442809343338, \"count\": 1, \"min\": 0.4437442809343338, \"max\": 0.4437442809343338}}}\u001b[0m\n",
      "\u001b[34m#metrics {\"StartTime\": 1648498295.5274441, \"EndTime\": 1648498295.5274587, \"Dimensions\": {\"Algorithm\": \"Linear Learner\", \"Host\": \"algo-1\", \"Operation\": \"training\", \"epoch\": 2, \"model\": 24}, \"Metrics\": {\"train_absolute_loss_objective\": {\"sum\": 0.7878356888890267, \"count\": 1, \"min\": 0.7878356888890267, \"max\": 0.7878356888890267}}}\u001b[0m\n",
      "\u001b[34m#metrics {\"StartTime\": 1648498295.5275059, \"EndTime\": 1648498295.5275204, \"Dimensions\": {\"Algorithm\": \"Linear Learner\", \"Host\": \"algo-1\", \"Operation\": \"training\", \"epoch\": 2, \"model\": 25}, \"Metrics\": {\"train_absolute_loss_objective\": {\"sum\": 0.7906575575470924, \"count\": 1, \"min\": 0.7906575575470924, \"max\": 0.7906575575470924}}}\u001b[0m\n",
      "\u001b[34m#metrics {\"StartTime\": 1648498295.5275733, \"EndTime\": 1648498295.5275881, \"Dimensions\": {\"Algorithm\": \"Linear Learner\", \"Host\": \"algo-1\", \"Operation\": \"training\", \"epoch\": 2, \"model\": 26}, \"Metrics\": {\"train_absolute_loss_objective\": {\"sum\": 0.7894812136888504, \"count\": 1, \"min\": 0.7894812136888504, \"max\": 0.7894812136888504}}}\u001b[0m\n",
      "\u001b[34m#metrics {\"StartTime\": 1648498295.527635, \"EndTime\": 1648498295.527649, \"Dimensions\": {\"Algorithm\": \"Linear Learner\", \"Host\": \"algo-1\", \"Operation\": \"training\", \"epoch\": 2, \"model\": 27}, \"Metrics\": {\"train_absolute_loss_objective\": {\"sum\": 0.7904341220855713, \"count\": 1, \"min\": 0.7904341220855713, \"max\": 0.7904341220855713}}}\u001b[0m\n",
      "\u001b[34m#metrics {\"StartTime\": 1648498295.527693, \"EndTime\": 1648498295.5277064, \"Dimensions\": {\"Algorithm\": \"Linear Learner\", \"Host\": \"algo-1\", \"Operation\": \"training\", \"epoch\": 2, \"model\": 28}, \"Metrics\": {\"train_absolute_loss_objective\": {\"sum\": 0.9641551941633224, \"count\": 1, \"min\": 0.9641551941633224, \"max\": 0.9641551941633224}}}\u001b[0m\n",
      "\u001b[34m#metrics {\"StartTime\": 1648498295.5277507, \"EndTime\": 1648498295.5277643, \"Dimensions\": {\"Algorithm\": \"Linear Learner\", \"Host\": \"algo-1\", \"Operation\": \"training\", \"epoch\": 2, \"model\": 29}, \"Metrics\": {\"train_absolute_loss_objective\": {\"sum\": 0.9791570872068405, \"count\": 1, \"min\": 0.9791570872068405, \"max\": 0.9791570872068405}}}\u001b[0m\n",
      "\u001b[34m#metrics {\"StartTime\": 1648498295.5278127, \"EndTime\": 1648498295.5278256, \"Dimensions\": {\"Algorithm\": \"Linear Learner\", \"Host\": \"algo-1\", \"Operation\": \"training\", \"epoch\": 2, \"model\": 30}, \"Metrics\": {\"train_absolute_loss_objective\": {\"sum\": 1.0419701933860779, \"count\": 1, \"min\": 1.0419701933860779, \"max\": 1.0419701933860779}}}\u001b[0m\n",
      "\u001b[34m#metrics {\"StartTime\": 1648498295.5278718, \"EndTime\": 1648498295.527886, \"Dimensions\": {\"Algorithm\": \"Linear Learner\", \"Host\": \"algo-1\", \"Operation\": \"training\", \"epoch\": 2, \"model\": 31}, \"Metrics\": {\"train_absolute_loss_objective\": {\"sum\": 0.9818432003259658, \"count\": 1, \"min\": 0.9818432003259658, \"max\": 0.9818432003259658}}}\u001b[0m\n",
      "\u001b[34m[03/28/2022 20:11:35 INFO 140044817090368] #quality_metric: host=algo-1, epoch=2, train absolute_loss_objective <loss>=0.6648414641618728\u001b[0m\n",
      "\u001b[34m[03/28/2022 20:11:35 INFO 140044817090368] #early_stopping_criteria_metric: host=algo-1, epoch=2, criteria=absolute_loss_objective, value=0.2678765140473843\u001b[0m\n",
      "\u001b[34m[03/28/2022 20:11:35 INFO 140044817090368] Epoch 2: Loss improved. Updating best model\u001b[0m\n",
      "\u001b[34m[03/28/2022 20:11:35 INFO 140044817090368] Saving model for epoch: 2\u001b[0m\n",
      "\u001b[34m[03/28/2022 20:11:35 INFO 140044817090368] Saved checkpoint to \"/tmp/tmppjso2cwk/mx-mod-0000.params\"\u001b[0m\n",
      "\u001b[34m[03/28/2022 20:11:35 INFO 140044817090368] #progress_metric: host=algo-1, completed 60.0 % of epochs\u001b[0m\n",
      "\u001b[34m#metrics {\"StartTime\": 1648498295.0312088, \"EndTime\": 1648498295.5432339, \"Dimensions\": {\"Algorithm\": \"Linear Learner\", \"Host\": \"algo-1\", \"Operation\": \"training\", \"epoch\": 2, \"Meta\": \"training_data_iter\"}, \"Metrics\": {\"Total Records Seen\": {\"sum\": 325.0, \"count\": 1, \"min\": 325, \"max\": 325}, \"Total Batches Seen\": {\"sum\": 65.0, \"count\": 1, \"min\": 65, \"max\": 65}, \"Max Records Seen Between Resets\": {\"sum\": 80.0, \"count\": 1, \"min\": 80, \"max\": 80}, \"Max Batches Seen Between Resets\": {\"sum\": 16.0, \"count\": 1, \"min\": 16, \"max\": 16}, \"Reset Count\": {\"sum\": 5.0, \"count\": 1, \"min\": 5, \"max\": 5}, \"Number of Records Since Last Reset\": {\"sum\": 80.0, \"count\": 1, \"min\": 80, \"max\": 80}, \"Number of Batches Since Last Reset\": {\"sum\": 16.0, \"count\": 1, \"min\": 16, \"max\": 16}}}\u001b[0m\n",
      "\u001b[34m[03/28/2022 20:11:35 INFO 140044817090368] #throughput_metric: host=algo-1, train throughput=156.1929517173835 records/second\u001b[0m\n",
      "\u001b[34m[2022-03-28 20:11:36.100] [tensorio] [info] epoch_stats={\"data_pipeline\": \"/opt/ml/input/data/train\", \"epoch\": 10, \"duration\": 556, \"num_examples\": 16, \"num_bytes\": 3840}\u001b[0m\n",
      "\u001b[34m#metrics {\"StartTime\": 1648498296.1008391, \"EndTime\": 1648498296.1009638, \"Dimensions\": {\"Algorithm\": \"Linear Learner\", \"Host\": \"algo-1\", \"Operation\": \"training\", \"epoch\": 3, \"model\": 0}, \"Metrics\": {\"train_absolute_loss_objective\": {\"sum\": 0.6119084723293782, \"count\": 1, \"min\": 0.6119084723293782, \"max\": 0.6119084723293782}}}\u001b[0m\n",
      "\u001b[34m#metrics {\"StartTime\": 1648498296.1010804, \"EndTime\": 1648498296.1011014, \"Dimensions\": {\"Algorithm\": \"Linear Learner\", \"Host\": \"algo-1\", \"Operation\": \"training\", \"epoch\": 3, \"model\": 1}, \"Metrics\": {\"train_absolute_loss_objective\": {\"sum\": 0.5937200427055359, \"count\": 1, \"min\": 0.5937200427055359, \"max\": 0.5937200427055359}}}\u001b[0m\n",
      "\u001b[34m#metrics {\"StartTime\": 1648498296.101155, \"EndTime\": 1648498296.1011708, \"Dimensions\": {\"Algorithm\": \"Linear Learner\", \"Host\": \"algo-1\", \"Operation\": \"training\", \"epoch\": 3, \"model\": 2}, \"Metrics\": {\"train_absolute_loss_objective\": {\"sum\": 0.6122688584029674, \"count\": 1, \"min\": 0.6122688584029674, \"max\": 0.6122688584029674}}}\u001b[0m\n",
      "\u001b[34m#metrics {\"StartTime\": 1648498296.1012242, \"EndTime\": 1648498296.101241, \"Dimensions\": {\"Algorithm\": \"Linear Learner\", \"Host\": \"algo-1\", \"Operation\": \"training\", \"epoch\": 3, \"model\": 3}, \"Metrics\": {\"train_absolute_loss_objective\": {\"sum\": 0.5945712104439735, \"count\": 1, \"min\": 0.5945712104439735, \"max\": 0.5945712104439735}}}\u001b[0m\n",
      "\u001b[34m#metrics {\"StartTime\": 1648498296.1012871, \"EndTime\": 1648498296.101301, \"Dimensions\": {\"Algorithm\": \"Linear Learner\", \"Host\": \"algo-1\", \"Operation\": \"training\", \"epoch\": 3, \"model\": 4}, \"Metrics\": {\"train_absolute_loss_objective\": {\"sum\": 0.3060689687728882, \"count\": 1, \"min\": 0.3060689687728882, \"max\": 0.3060689687728882}}}\u001b[0m\n",
      "\u001b[34m#metrics {\"StartTime\": 1648498296.101343, \"EndTime\": 1648498296.1013563, \"Dimensions\": {\"Algorithm\": \"Linear Learner\", \"Host\": \"algo-1\", \"Operation\": \"training\", \"epoch\": 3, \"model\": 5}, \"Metrics\": {\"train_absolute_loss_objective\": {\"sum\": 0.33099243864417077, \"count\": 1, \"min\": 0.33099243864417077, \"max\": 0.33099243864417077}}}\u001b[0m\n",
      "\u001b[34m#metrics {\"StartTime\": 1648498296.1014009, \"EndTime\": 1648498296.1014152, \"Dimensions\": {\"Algorithm\": \"Linear Learner\", \"Host\": \"algo-1\", \"Operation\": \"training\", \"epoch\": 3, \"model\": 6}, \"Metrics\": {\"train_absolute_loss_objective\": {\"sum\": 0.32234862819314003, \"count\": 1, \"min\": 0.32234862819314003, \"max\": 0.32234862819314003}}}\u001b[0m\n",
      "\u001b[34m#metrics {\"StartTime\": 1648498296.1016371, \"EndTime\": 1648498296.1016614, \"Dimensions\": {\"Algorithm\": \"Linear Learner\", \"Host\": \"algo-1\", \"Operation\": \"training\", \"epoch\": 3, \"model\": 7}, \"Metrics\": {\"train_absolute_loss_objective\": {\"sum\": 0.3503570206463337, \"count\": 1, \"min\": 0.3503570206463337, \"max\": 0.3503570206463337}}}\u001b[0m\n",
      "\u001b[34m#metrics {\"StartTime\": 1648498296.1017237, \"EndTime\": 1648498296.1017442, \"Dimensions\": {\"Algorithm\": \"Linear Learner\", \"Host\": \"algo-1\", \"Operation\": \"training\", \"epoch\": 3, \"model\": 8}, \"Metrics\": {\"train_absolute_loss_objective\": {\"sum\": 0.567656122148037, \"count\": 1, \"min\": 0.567656122148037, \"max\": 0.567656122148037}}}\u001b[0m\n",
      "\u001b[34m#metrics {\"StartTime\": 1648498296.1018045, \"EndTime\": 1648498296.1018233, \"Dimensions\": {\"Algorithm\": \"Linear Learner\", \"Host\": \"algo-1\", \"Operation\": \"training\", \"epoch\": 3, \"model\": 9}, \"Metrics\": {\"train_absolute_loss_objective\": {\"sum\": 0.6180899798870086, \"count\": 1, \"min\": 0.6180899798870086, \"max\": 0.6180899798870086}}}\u001b[0m\n",
      "\u001b[34m#metrics {\"StartTime\": 1648498296.1018846, \"EndTime\": 1648498296.1019046, \"Dimensions\": {\"Algorithm\": \"Linear Learner\", \"Host\": \"algo-1\", \"Operation\": \"training\", \"epoch\": 3, \"model\": 10}, \"Metrics\": {\"train_absolute_loss_objective\": {\"sum\": 0.6165220841765404, \"count\": 1, \"min\": 0.6165220841765404, \"max\": 0.6165220841765404}}}\u001b[0m\n",
      "\u001b[34m#metrics {\"StartTime\": 1648498296.1019635, \"EndTime\": 1648498296.1019819, \"Dimensions\": {\"Algorithm\": \"Linear Learner\", \"Host\": \"algo-1\", \"Operation\": \"training\", \"epoch\": 3, \"model\": 11}, \"Metrics\": {\"train_absolute_loss_objective\": {\"sum\": 0.624953955411911, \"count\": 1, \"min\": 0.624953955411911, \"max\": 0.624953955411911}}}\u001b[0m\n",
      "\u001b[34m#metrics {\"StartTime\": 1648498296.102043, \"EndTime\": 1648498296.102061, \"Dimensions\": {\"Algorithm\": \"Linear Learner\", \"Host\": \"algo-1\", \"Operation\": \"training\", \"epoch\": 3, \"model\": 12}, \"Metrics\": {\"train_absolute_loss_objective\": {\"sum\": 0.3473605439066887, \"count\": 1, \"min\": 0.3473605439066887, \"max\": 0.3473605439066887}}}\u001b[0m\n",
      "\u001b[34m#metrics {\"StartTime\": 1648498296.1021202, \"EndTime\": 1648498296.102139, \"Dimensions\": {\"Algorithm\": \"Linear Learner\", \"Host\": \"algo-1\", \"Operation\": \"training\", \"epoch\": 3, \"model\": 13}, \"Metrics\": {\"train_absolute_loss_objective\": {\"sum\": 0.31660876125097276, \"count\": 1, \"min\": 0.31660876125097276, \"max\": 0.31660876125097276}}}\u001b[0m\n",
      "\u001b[34m#metrics {\"StartTime\": 1648498296.1021998, \"EndTime\": 1648498296.1022182, \"Dimensions\": {\"Algorithm\": \"Linear Learner\", \"Host\": \"algo-1\", \"Operation\": \"training\", \"epoch\": 3, \"model\": 14}, \"Metrics\": {\"train_absolute_loss_objective\": {\"sum\": 0.34736415892839434, \"count\": 1, \"min\": 0.34736415892839434, \"max\": 0.34736415892839434}}}\u001b[0m\n",
      "\u001b[34m#metrics {\"StartTime\": 1648498296.1022775, \"EndTime\": 1648498296.1022959, \"Dimensions\": {\"Algorithm\": \"Linear Learner\", \"Host\": \"algo-1\", \"Operation\": \"training\", \"epoch\": 3, \"model\": 15}, \"Metrics\": {\"train_absolute_loss_objective\": {\"sum\": 0.30233187079429624, \"count\": 1, \"min\": 0.30233187079429624, \"max\": 0.30233187079429624}}}\u001b[0m\n",
      "\u001b[34m#metrics {\"StartTime\": 1648498296.102355, \"EndTime\": 1648498296.102374, \"Dimensions\": {\"Algorithm\": \"Linear Learner\", \"Host\": \"algo-1\", \"Operation\": \"training\", \"epoch\": 3, \"model\": 16}, \"Metrics\": {\"train_absolute_loss_objective\": {\"sum\": 0.6536281317472458, \"count\": 1, \"min\": 0.6536281317472458, \"max\": 0.6536281317472458}}}\u001b[0m\n",
      "\u001b[34m#metrics {\"StartTime\": 1648498296.1024356, \"EndTime\": 1648498296.1024537, \"Dimensions\": {\"Algorithm\": \"Linear Learner\", \"Host\": \"algo-1\", \"Operation\": \"training\", \"epoch\": 3, \"model\": 17}, \"Metrics\": {\"train_absolute_loss_objective\": {\"sum\": 0.6110301487147808, \"count\": 1, \"min\": 0.6110301487147808, \"max\": 0.6110301487147808}}}\u001b[0m\n",
      "\u001b[34m#metrics {\"StartTime\": 1648498296.102513, \"EndTime\": 1648498296.102531, \"Dimensions\": {\"Algorithm\": \"Linear Learner\", \"Host\": \"algo-1\", \"Operation\": \"training\", \"epoch\": 3, \"model\": 18}, \"Metrics\": {\"train_absolute_loss_objective\": {\"sum\": 0.6304855242371559, \"count\": 1, \"min\": 0.6304855242371559, \"max\": 0.6304855242371559}}}\u001b[0m\n",
      "\u001b[34m#metrics {\"StartTime\": 1648498296.1025894, \"EndTime\": 1648498296.1026058, \"Dimensions\": {\"Algorithm\": \"Linear Learner\", \"Host\": \"algo-1\", \"Operation\": \"training\", \"epoch\": 3, \"model\": 19}, \"Metrics\": {\"train_absolute_loss_objective\": {\"sum\": 0.6291065268218518, \"count\": 1, \"min\": 0.6291065268218518, \"max\": 0.6291065268218518}}}\u001b[0m\n",
      "\u001b[34m#metrics {\"StartTime\": 1648498296.102664, \"EndTime\": 1648498296.1026814, \"Dimensions\": {\"Algorithm\": \"Linear Learner\", \"Host\": \"algo-1\", \"Operation\": \"training\", \"epoch\": 3, \"model\": 20}, \"Metrics\": {\"train_absolute_loss_objective\": {\"sum\": 0.42767226994037627, \"count\": 1, \"min\": 0.42767226994037627, \"max\": 0.42767226994037627}}}\u001b[0m\n",
      "\u001b[34m#metrics {\"StartTime\": 1648498296.102737, \"EndTime\": 1648498296.1027532, \"Dimensions\": {\"Algorithm\": \"Linear Learner\", \"Host\": \"algo-1\", \"Operation\": \"training\", \"epoch\": 3, \"model\": 21}, \"Metrics\": {\"train_absolute_loss_objective\": {\"sum\": 0.4839219287037849, \"count\": 1, \"min\": 0.4839219287037849, \"max\": 0.4839219287037849}}}\u001b[0m\n",
      "\u001b[34m#metrics {\"StartTime\": 1648498296.1028082, \"EndTime\": 1648498296.1028252, \"Dimensions\": {\"Algorithm\": \"Linear Learner\", \"Host\": \"algo-1\", \"Operation\": \"training\", \"epoch\": 3, \"model\": 22}, \"Metrics\": {\"train_absolute_loss_objective\": {\"sum\": 0.42793915420770645, \"count\": 1, \"min\": 0.42793915420770645, \"max\": 0.42793915420770645}}}\u001b[0m\n",
      "\u001b[34m#metrics {\"StartTime\": 1648498296.102881, \"EndTime\": 1648498296.1028988, \"Dimensions\": {\"Algorithm\": \"Linear Learner\", \"Host\": \"algo-1\", \"Operation\": \"training\", \"epoch\": 3, \"model\": 23}, \"Metrics\": {\"train_absolute_loss_objective\": {\"sum\": 0.40027301385998726, \"count\": 1, \"min\": 0.40027301385998726, \"max\": 0.40027301385998726}}}\u001b[0m\n",
      "\u001b[34m#metrics {\"StartTime\": 1648498296.1029532, \"EndTime\": 1648498296.102993, \"Dimensions\": {\"Algorithm\": \"Linear Learner\", \"Host\": \"algo-1\", \"Operation\": \"training\", \"epoch\": 3, \"model\": 24}, \"Metrics\": {\"train_absolute_loss_objective\": {\"sum\": 0.7893039003014565, \"count\": 1, \"min\": 0.7893039003014565, \"max\": 0.7893039003014565}}}\u001b[0m\n",
      "\u001b[34m#metrics {\"StartTime\": 1648498296.1030502, \"EndTime\": 1648498296.1030674, \"Dimensions\": {\"Algorithm\": \"Linear Learner\", \"Host\": \"algo-1\", \"Operation\": \"training\", \"epoch\": 3, \"model\": 25}, \"Metrics\": {\"train_absolute_loss_objective\": {\"sum\": 0.7873011618852616, \"count\": 1, \"min\": 0.7873011618852616, \"max\": 0.7873011618852616}}}\u001b[0m\n",
      "\u001b[34m#metrics {\"StartTime\": 1648498296.103123, \"EndTime\": 1648498296.1031406, \"Dimensions\": {\"Algorithm\": \"Linear Learner\", \"Host\": \"algo-1\", \"Operation\": \"training\", \"epoch\": 3, \"model\": 26}, \"Metrics\": {\"train_absolute_loss_objective\": {\"sum\": 0.7872609674930573, \"count\": 1, \"min\": 0.7872609674930573, \"max\": 0.7872609674930573}}}\u001b[0m\n",
      "\u001b[34m#metrics {\"StartTime\": 1648498296.1031938, \"EndTime\": 1648498296.1032124, \"Dimensions\": {\"Algorithm\": \"Linear Learner\", \"Host\": \"algo-1\", \"Operation\": \"training\", \"epoch\": 3, \"model\": 27}, \"Metrics\": {\"train_absolute_loss_objective\": {\"sum\": 0.7879797384142876, \"count\": 1, \"min\": 0.7879797384142876, \"max\": 0.7879797384142876}}}\u001b[0m\n",
      "\u001b[34m#metrics {\"StartTime\": 1648498296.103266, \"EndTime\": 1648498296.1032832, \"Dimensions\": {\"Algorithm\": \"Linear Learner\", \"Host\": \"algo-1\", \"Operation\": \"training\", \"epoch\": 3, \"model\": 28}, \"Metrics\": {\"train_absolute_loss_objective\": {\"sum\": 0.9593021214008332, \"count\": 1, \"min\": 0.9593021214008332, \"max\": 0.9593021214008332}}}\u001b[0m\n",
      "\u001b[34m#metrics {\"StartTime\": 1648498296.1033347, \"EndTime\": 1648498296.103352, \"Dimensions\": {\"Algorithm\": \"Linear Learner\", \"Host\": \"algo-1\", \"Operation\": \"training\", \"epoch\": 3, \"model\": 29}, \"Metrics\": {\"train_absolute_loss_objective\": {\"sum\": 0.9756132885813713, \"count\": 1, \"min\": 0.9756132885813713, \"max\": 0.9756132885813713}}}\u001b[0m\n",
      "\u001b[34m#metrics {\"StartTime\": 1648498296.1034064, \"EndTime\": 1648498296.1034238, \"Dimensions\": {\"Algorithm\": \"Linear Learner\", \"Host\": \"algo-1\", \"Operation\": \"training\", \"epoch\": 3, \"model\": 30}, \"Metrics\": {\"train_absolute_loss_objective\": {\"sum\": 1.0321118146181107, \"count\": 1, \"min\": 1.0321118146181107, \"max\": 1.0321118146181107}}}\u001b[0m\n",
      "\u001b[34m#metrics {\"StartTime\": 1648498296.103477, \"EndTime\": 1648498296.1034946, \"Dimensions\": {\"Algorithm\": \"Linear Learner\", \"Host\": \"algo-1\", \"Operation\": \"training\", \"epoch\": 3, \"model\": 31}, \"Metrics\": {\"train_absolute_loss_objective\": {\"sum\": 0.9785181224346161, \"count\": 1, \"min\": 0.9785181224346161, \"max\": 0.9785181224346161}}}\u001b[0m\n",
      "\u001b[34m[03/28/2022 20:11:36 INFO 140044817090368] #quality_metric: host=algo-1, epoch=3, train absolute_loss_objective <loss>=0.6119084723293782\u001b[0m\n",
      "\u001b[34m[03/28/2022 20:11:36 INFO 140044817090368] #early_stopping_criteria_metric: host=algo-1, epoch=3, criteria=absolute_loss_objective, value=0.30233187079429624\u001b[0m\n",
      "\u001b[34m[03/28/2022 20:11:36 INFO 140044817090368] Saving model for epoch: 3\u001b[0m\n",
      "\u001b[34m[03/28/2022 20:11:36 INFO 140044817090368] Saved checkpoint to \"/tmp/tmp8sfon3pm/mx-mod-0000.params\"\u001b[0m\n",
      "\u001b[34m[03/28/2022 20:11:36 INFO 140044817090368] #progress_metric: host=algo-1, completed 80.0 % of epochs\u001b[0m\n",
      "\u001b[34m#metrics {\"StartTime\": 1648498295.5436091, \"EndTime\": 1648498296.1189623, \"Dimensions\": {\"Algorithm\": \"Linear Learner\", \"Host\": \"algo-1\", \"Operation\": \"training\", \"epoch\": 3, \"Meta\": \"training_data_iter\"}, \"Metrics\": {\"Total Records Seen\": {\"sum\": 405.0, \"count\": 1, \"min\": 405, \"max\": 405}, \"Total Batches Seen\": {\"sum\": 81.0, \"count\": 1, \"min\": 81, \"max\": 81}, \"Max Records Seen Between Resets\": {\"sum\": 80.0, \"count\": 1, \"min\": 80, \"max\": 80}, \"Max Batches Seen Between Resets\": {\"sum\": 16.0, \"count\": 1, \"min\": 16, \"max\": 16}, \"Reset Count\": {\"sum\": 6.0, \"count\": 1, \"min\": 6, \"max\": 6}, \"Number of Records Since Last Reset\": {\"sum\": 80.0, \"count\": 1, \"min\": 80, \"max\": 80}, \"Number of Batches Since Last Reset\": {\"sum\": 16.0, \"count\": 1, \"min\": 16, \"max\": 16}}}\u001b[0m\n",
      "\u001b[34m[03/28/2022 20:11:36 INFO 140044817090368] #throughput_metric: host=algo-1, train throughput=138.99682814266356 records/second\u001b[0m\n",
      "\u001b[34m[2022-03-28 20:11:36.714] [tensorio] [info] epoch_stats={\"data_pipeline\": \"/opt/ml/input/data/train\", \"epoch\": 12, \"duration\": 594, \"num_examples\": 16, \"num_bytes\": 3840}\u001b[0m\n",
      "\u001b[34m#metrics {\"StartTime\": 1648498296.714069, \"EndTime\": 1648498296.714168, \"Dimensions\": {\"Algorithm\": \"Linear Learner\", \"Host\": \"algo-1\", \"Operation\": \"training\", \"epoch\": 4, \"model\": 0}, \"Metrics\": {\"train_absolute_loss_objective\": {\"sum\": 0.5639664083719254, \"count\": 1, \"min\": 0.5639664083719254, \"max\": 0.5639664083719254}}}\u001b[0m\n",
      "\u001b[34m#metrics {\"StartTime\": 1648498296.7142696, \"EndTime\": 1648498296.7142892, \"Dimensions\": {\"Algorithm\": \"Linear Learner\", \"Host\": \"algo-1\", \"Operation\": \"training\", \"epoch\": 4, \"model\": 1}, \"Metrics\": {\"train_absolute_loss_objective\": {\"sum\": 0.538186202198267, \"count\": 1, \"min\": 0.538186202198267, \"max\": 0.538186202198267}}}\u001b[0m\n",
      "\u001b[34m#metrics {\"StartTime\": 1648498296.7143428, \"EndTime\": 1648498296.7143595, \"Dimensions\": {\"Algorithm\": \"Linear Learner\", \"Host\": \"algo-1\", \"Operation\": \"training\", \"epoch\": 4, \"model\": 2}, \"Metrics\": {\"train_absolute_loss_objective\": {\"sum\": 0.5600582033395767, \"count\": 1, \"min\": 0.5600582033395767, \"max\": 0.5600582033395767}}}\u001b[0m\n",
      "\u001b[34m#metrics {\"StartTime\": 1648498296.7144115, \"EndTime\": 1648498296.7144287, \"Dimensions\": {\"Algorithm\": \"Linear Learner\", \"Host\": \"algo-1\", \"Operation\": \"training\", \"epoch\": 4, \"model\": 3}, \"Metrics\": {\"train_absolute_loss_objective\": {\"sum\": 0.5390474438667298, \"count\": 1, \"min\": 0.5390474438667298, \"max\": 0.5390474438667298}}}\u001b[0m\n",
      "\u001b[34m#metrics {\"StartTime\": 1648498296.7144816, \"EndTime\": 1648498296.7144973, \"Dimensions\": {\"Algorithm\": \"Linear Learner\", \"Host\": \"algo-1\", \"Operation\": \"training\", \"epoch\": 4, \"model\": 4}, \"Metrics\": {\"train_absolute_loss_objective\": {\"sum\": 0.299863912910223, \"count\": 1, \"min\": 0.299863912910223, \"max\": 0.299863912910223}}}\u001b[0m\n",
      "\u001b[34m#metrics {\"StartTime\": 1648498296.7145505, \"EndTime\": 1648498296.714567, \"Dimensions\": {\"Algorithm\": \"Linear Learner\", \"Host\": \"algo-1\", \"Operation\": \"training\", \"epoch\": 4, \"model\": 5}, \"Metrics\": {\"train_absolute_loss_objective\": {\"sum\": 0.27156698182225225, \"count\": 1, \"min\": 0.27156698182225225, \"max\": 0.27156698182225225}}}\u001b[0m\n",
      "\u001b[34m#metrics {\"StartTime\": 1648498296.71462, \"EndTime\": 1648498296.7146366, \"Dimensions\": {\"Algorithm\": \"Linear Learner\", \"Host\": \"algo-1\", \"Operation\": \"training\", \"epoch\": 4, \"model\": 6}, \"Metrics\": {\"train_absolute_loss_objective\": {\"sum\": 0.2937846854329109, \"count\": 1, \"min\": 0.2937846854329109, \"max\": 0.2937846854329109}}}\u001b[0m\n",
      "\u001b[34m#metrics {\"StartTime\": 1648498296.714692, \"EndTime\": 1648498296.7147093, \"Dimensions\": {\"Algorithm\": \"Linear Learner\", \"Host\": \"algo-1\", \"Operation\": \"training\", \"epoch\": 4, \"model\": 7}, \"Metrics\": {\"train_absolute_loss_objective\": {\"sum\": 0.3145374968647957, \"count\": 1, \"min\": 0.3145374968647957, \"max\": 0.3145374968647957}}}\u001b[0m\n",
      "\u001b[34m#metrics {\"StartTime\": 1648498296.7147622, \"EndTime\": 1648498296.7147784, \"Dimensions\": {\"Algorithm\": \"Linear Learner\", \"Host\": \"algo-1\", \"Operation\": \"training\", \"epoch\": 4, \"model\": 8}, \"Metrics\": {\"train_absolute_loss_objective\": {\"sum\": 0.5150116048753262, \"count\": 1, \"min\": 0.5150116048753262, \"max\": 0.5150116048753262}}}\u001b[0m\n",
      "\u001b[34m#metrics {\"StartTime\": 1648498296.714834, \"EndTime\": 1648498296.714851, \"Dimensions\": {\"Algorithm\": \"Linear Learner\", \"Host\": \"algo-1\", \"Operation\": \"training\", \"epoch\": 4, \"model\": 9}, \"Metrics\": {\"train_absolute_loss_objective\": {\"sum\": 0.5673794932663441, \"count\": 1, \"min\": 0.5673794932663441, \"max\": 0.5673794932663441}}}\u001b[0m\n",
      "\u001b[34m#metrics {\"StartTime\": 1648498296.7149036, \"EndTime\": 1648498296.714919, \"Dimensions\": {\"Algorithm\": \"Linear Learner\", \"Host\": \"algo-1\", \"Operation\": \"training\", \"epoch\": 4, \"model\": 10}, \"Metrics\": {\"train_absolute_loss_objective\": {\"sum\": 0.5686100795865059, \"count\": 1, \"min\": 0.5686100795865059, \"max\": 0.5686100795865059}}}\u001b[0m\n",
      "\u001b[34m#metrics {\"StartTime\": 1648498296.7150097, \"EndTime\": 1648498296.715028, \"Dimensions\": {\"Algorithm\": \"Linear Learner\", \"Host\": \"algo-1\", \"Operation\": \"training\", \"epoch\": 4, \"model\": 11}, \"Metrics\": {\"train_absolute_loss_objective\": {\"sum\": 0.5741619274020195, \"count\": 1, \"min\": 0.5741619274020195, \"max\": 0.5741619274020195}}}\u001b[0m\n",
      "\u001b[34m#metrics {\"StartTime\": 1648498296.715079, \"EndTime\": 1648498296.715095, \"Dimensions\": {\"Algorithm\": \"Linear Learner\", \"Host\": \"algo-1\", \"Operation\": \"training\", \"epoch\": 4, \"model\": 12}, \"Metrics\": {\"train_absolute_loss_objective\": {\"sum\": 0.28777420446276664, \"count\": 1, \"min\": 0.28777420446276664, \"max\": 0.28777420446276664}}}\u001b[0m\n",
      "\u001b[34m#metrics {\"StartTime\": 1648498296.7151492, \"EndTime\": 1648498296.715165, \"Dimensions\": {\"Algorithm\": \"Linear Learner\", \"Host\": \"algo-1\", \"Operation\": \"training\", \"epoch\": 4, \"model\": 13}, \"Metrics\": {\"train_absolute_loss_objective\": {\"sum\": 0.2875199817121029, \"count\": 1, \"min\": 0.2875199817121029, \"max\": 0.2875199817121029}}}\u001b[0m\n",
      "\u001b[34m#metrics {\"StartTime\": 1648498296.7152205, \"EndTime\": 1648498296.715236, \"Dimensions\": {\"Algorithm\": \"Linear Learner\", \"Host\": \"algo-1\", \"Operation\": \"training\", \"epoch\": 4, \"model\": 14}, \"Metrics\": {\"train_absolute_loss_objective\": {\"sum\": 0.2875934407114983, \"count\": 1, \"min\": 0.2875934407114983, \"max\": 0.2875934407114983}}}\u001b[0m\n",
      "\u001b[34m#metrics {\"StartTime\": 1648498296.7152882, \"EndTime\": 1648498296.7153049, \"Dimensions\": {\"Algorithm\": \"Linear Learner\", \"Host\": \"algo-1\", \"Operation\": \"training\", \"epoch\": 4, \"model\": 15}, \"Metrics\": {\"train_absolute_loss_objective\": {\"sum\": 0.30158697441220284, \"count\": 1, \"min\": 0.30158697441220284, \"max\": 0.30158697441220284}}}\u001b[0m\n",
      "\u001b[34m#metrics {\"StartTime\": 1648498296.7153602, \"EndTime\": 1648498296.7153764, \"Dimensions\": {\"Algorithm\": \"Linear Learner\", \"Host\": \"algo-1\", \"Operation\": \"training\", \"epoch\": 4, \"model\": 16}, \"Metrics\": {\"train_absolute_loss_objective\": {\"sum\": 0.6124017477035523, \"count\": 1, \"min\": 0.6124017477035523, \"max\": 0.6124017477035523}}}\u001b[0m\n",
      "\u001b[34m#metrics {\"StartTime\": 1648498296.7154322, \"EndTime\": 1648498296.7154496, \"Dimensions\": {\"Algorithm\": \"Linear Learner\", \"Host\": \"algo-1\", \"Operation\": \"training\", \"epoch\": 4, \"model\": 17}, \"Metrics\": {\"train_absolute_loss_objective\": {\"sum\": 0.5668910510838032, \"count\": 1, \"min\": 0.5668910510838032, \"max\": 0.5668910510838032}}}\u001b[0m\n",
      "\u001b[34m#metrics {\"StartTime\": 1648498296.7155035, \"EndTime\": 1648498296.7155192, \"Dimensions\": {\"Algorithm\": \"Linear Learner\", \"Host\": \"algo-1\", \"Operation\": \"training\", \"epoch\": 4, \"model\": 18}, \"Metrics\": {\"train_absolute_loss_objective\": {\"sum\": 0.591719289124012, \"count\": 1, \"min\": 0.591719289124012, \"max\": 0.591719289124012}}}\u001b[0m\n",
      "\u001b[34m#metrics {\"StartTime\": 1648498296.7156487, \"EndTime\": 1648498296.7156692, \"Dimensions\": {\"Algorithm\": \"Linear Learner\", \"Host\": \"algo-1\", \"Operation\": \"training\", \"epoch\": 4, \"model\": 19}, \"Metrics\": {\"train_absolute_loss_objective\": {\"sum\": 0.5883969783782959, \"count\": 1, \"min\": 0.5883969783782959, \"max\": 0.5883969783782959}}}\u001b[0m\n",
      "\u001b[34m#metrics {\"StartTime\": 1648498296.7157238, \"EndTime\": 1648498296.7157416, \"Dimensions\": {\"Algorithm\": \"Linear Learner\", \"Host\": \"algo-1\", \"Operation\": \"training\", \"epoch\": 4, \"model\": 20}, \"Metrics\": {\"train_absolute_loss_objective\": {\"sum\": 0.38989090770483015, \"count\": 1, \"min\": 0.38989090770483015, \"max\": 0.38989090770483015}}}\u001b[0m\n",
      "\u001b[34m#metrics {\"StartTime\": 1648498296.7157955, \"EndTime\": 1648498296.7158124, \"Dimensions\": {\"Algorithm\": \"Linear Learner\", \"Host\": \"algo-1\", \"Operation\": \"training\", \"epoch\": 4, \"model\": 21}, \"Metrics\": {\"train_absolute_loss_objective\": {\"sum\": 0.40290410742163657, \"count\": 1, \"min\": 0.40290410742163657, \"max\": 0.40290410742163657}}}\u001b[0m\n",
      "\u001b[34m#metrics {\"StartTime\": 1648498296.7158673, \"EndTime\": 1648498296.7158852, \"Dimensions\": {\"Algorithm\": \"Linear Learner\", \"Host\": \"algo-1\", \"Operation\": \"training\", \"epoch\": 4, \"model\": 22}, \"Metrics\": {\"train_absolute_loss_objective\": {\"sum\": 0.3889404654502869, \"count\": 1, \"min\": 0.3889404654502869, \"max\": 0.3889404654502869}}}\u001b[0m\n",
      "\u001b[34m#metrics {\"StartTime\": 1648498296.715939, \"EndTime\": 1648498296.7159555, \"Dimensions\": {\"Algorithm\": \"Linear Learner\", \"Host\": \"algo-1\", \"Operation\": \"training\", \"epoch\": 4, \"model\": 23}, \"Metrics\": {\"train_absolute_loss_objective\": {\"sum\": 0.39040603786706923, \"count\": 1, \"min\": 0.39040603786706923, \"max\": 0.39040603786706923}}}\u001b[0m\n",
      "\u001b[34m#metrics {\"StartTime\": 1648498296.71601, \"EndTime\": 1648498296.7160258, \"Dimensions\": {\"Algorithm\": \"Linear Learner\", \"Host\": \"algo-1\", \"Operation\": \"training\", \"epoch\": 4, \"model\": 24}, \"Metrics\": {\"train_absolute_loss_objective\": {\"sum\": 0.7877701178193093, \"count\": 1, \"min\": 0.7877701178193093, \"max\": 0.7877701178193093}}}\u001b[0m\n",
      "\u001b[34m#metrics {\"StartTime\": 1648498296.7160816, \"EndTime\": 1648498296.716098, \"Dimensions\": {\"Algorithm\": \"Linear Learner\", \"Host\": \"algo-1\", \"Operation\": \"training\", \"epoch\": 4, \"model\": 25}, \"Metrics\": {\"train_absolute_loss_objective\": {\"sum\": 0.7890747249126434, \"count\": 1, \"min\": 0.7890747249126434, \"max\": 0.7890747249126434}}}\u001b[0m\n",
      "\u001b[34m#metrics {\"StartTime\": 1648498296.7161515, \"EndTime\": 1648498296.7161677, \"Dimensions\": {\"Algorithm\": \"Linear Learner\", \"Host\": \"algo-1\", \"Operation\": \"training\", \"epoch\": 4, \"model\": 26}, \"Metrics\": {\"train_absolute_loss_objective\": {\"sum\": 0.7888095647096633, \"count\": 1, \"min\": 0.7888095647096633, \"max\": 0.7888095647096633}}}\u001b[0m\n",
      "\u001b[34m#metrics {\"StartTime\": 1648498296.716223, \"EndTime\": 1648498296.7162387, \"Dimensions\": {\"Algorithm\": \"Linear Learner\", \"Host\": \"algo-1\", \"Operation\": \"training\", \"epoch\": 4, \"model\": 27}, \"Metrics\": {\"train_absolute_loss_objective\": {\"sum\": 0.789155749976635, \"count\": 1, \"min\": 0.789155749976635, \"max\": 0.789155749976635}}}\u001b[0m\n",
      "\u001b[34m#metrics {\"StartTime\": 1648498296.7162929, \"EndTime\": 1648498296.7163088, \"Dimensions\": {\"Algorithm\": \"Linear Learner\", \"Host\": \"algo-1\", \"Operation\": \"training\", \"epoch\": 4, \"model\": 28}, \"Metrics\": {\"train_absolute_loss_objective\": {\"sum\": 0.9264872759580612, \"count\": 1, \"min\": 0.9264872759580612, \"max\": 0.9264872759580612}}}\u001b[0m\n",
      "\u001b[34m#metrics {\"StartTime\": 1648498296.7163637, \"EndTime\": 1648498296.71638, \"Dimensions\": {\"Algorithm\": \"Linear Learner\", \"Host\": \"algo-1\", \"Operation\": \"training\", \"epoch\": 4, \"model\": 29}, \"Metrics\": {\"train_absolute_loss_objective\": {\"sum\": 0.9350260645151138, \"count\": 1, \"min\": 0.9350260645151138, \"max\": 0.9350260645151138}}}\u001b[0m\n",
      "\u001b[34m#metrics {\"StartTime\": 1648498296.716435, \"EndTime\": 1648498296.7164502, \"Dimensions\": {\"Algorithm\": \"Linear Learner\", \"Host\": \"algo-1\", \"Operation\": \"training\", \"epoch\": 4, \"model\": 30}, \"Metrics\": {\"train_absolute_loss_objective\": {\"sum\": 0.9907531008124352, \"count\": 1, \"min\": 0.9907531008124352, \"max\": 0.9907531008124352}}}\u001b[0m\n",
      "\u001b[34m#metrics {\"StartTime\": 1648498296.7165058, \"EndTime\": 1648498296.7165232, \"Dimensions\": {\"Algorithm\": \"Linear Learner\", \"Host\": \"algo-1\", \"Operation\": \"training\", \"epoch\": 4, \"model\": 31}, \"Metrics\": {\"train_absolute_loss_objective\": {\"sum\": 0.9380422592163086, \"count\": 1, \"min\": 0.9380422592163086, \"max\": 0.9380422592163086}}}\u001b[0m\n",
      "\u001b[34m[03/28/2022 20:11:36 INFO 140044817090368] #quality_metric: host=algo-1, epoch=4, train absolute_loss_objective <loss>=0.5639664083719254\u001b[0m\n",
      "\u001b[34m[03/28/2022 20:11:36 INFO 140044817090368] #early_stopping_criteria_metric: host=algo-1, epoch=4, criteria=absolute_loss_objective, value=0.27156698182225225\u001b[0m\n",
      "\u001b[34m[03/28/2022 20:11:36 INFO 140044817090368] Saving model for epoch: 4\u001b[0m\n",
      "\u001b[34m[03/28/2022 20:11:36 INFO 140044817090368] Saved checkpoint to \"/tmp/tmpl8diawmu/mx-mod-0000.params\"\u001b[0m\n",
      "\u001b[34m[03/28/2022 20:11:36 INFO 140044817090368] #progress_metric: host=algo-1, completed 100.0 % of epochs\u001b[0m\n",
      "\u001b[34m#metrics {\"StartTime\": 1648498296.1193619, \"EndTime\": 1648498296.7326658, \"Dimensions\": {\"Algorithm\": \"Linear Learner\", \"Host\": \"algo-1\", \"Operation\": \"training\", \"epoch\": 4, \"Meta\": \"training_data_iter\"}, \"Metrics\": {\"Total Records Seen\": {\"sum\": 485.0, \"count\": 1, \"min\": 485, \"max\": 485}, \"Total Batches Seen\": {\"sum\": 97.0, \"count\": 1, \"min\": 97, \"max\": 97}, \"Max Records Seen Between Resets\": {\"sum\": 80.0, \"count\": 1, \"min\": 80, \"max\": 80}, \"Max Batches Seen Between Resets\": {\"sum\": 16.0, \"count\": 1, \"min\": 16, \"max\": 16}, \"Reset Count\": {\"sum\": 7.0, \"count\": 1, \"min\": 7, \"max\": 7}, \"Number of Records Since Last Reset\": {\"sum\": 80.0, \"count\": 1, \"min\": 80, \"max\": 80}, \"Number of Batches Since Last Reset\": {\"sum\": 16.0, \"count\": 1, \"min\": 16, \"max\": 16}}}\u001b[0m\n",
      "\u001b[34m[03/28/2022 20:11:36 INFO 140044817090368] #throughput_metric: host=algo-1, train throughput=130.40292095051367 records/second\u001b[0m\n",
      "\u001b[34m[03/28/2022 20:11:36 WARNING 140044817090368] wait_for_all_workers will not sync workers since the kv store is not running distributed\u001b[0m\n",
      "\u001b[34m[03/28/2022 20:11:36 WARNING 140044817090368] wait_for_all_workers will not sync workers since the kv store is not running distributed\u001b[0m\n",
      "\u001b[34m[2022-03-28 20:11:36.734] [tensorio] [info] epoch_stats={\"data_pipeline\": \"/opt/ml/input/data/train\", \"epoch\": 14, \"duration\": 0, \"num_examples\": 1, \"num_bytes\": 240}\u001b[0m\n",
      "\u001b[34m[2022-03-28 20:11:36.795] [tensorio] [info] epoch_stats={\"data_pipeline\": \"/opt/ml/input/data/train\", \"epoch\": 16, \"duration\": 57, \"num_examples\": 16, \"num_bytes\": 3840}\u001b[0m\n",
      "\u001b[34m[03/28/2022 20:11:36 INFO 140044817090368] #train_score (algo-1) : ('absolute_loss_objective', 1.4718940138816834)\u001b[0m\n",
      "\u001b[34m[03/28/2022 20:11:36 INFO 140044817090368] #train_score (algo-1) : ('mse', 3.630901429057121)\u001b[0m\n",
      "\u001b[34m[03/28/2022 20:11:36 INFO 140044817090368] #train_score (algo-1) : ('absolute_loss', 1.4718940138816834)\u001b[0m\n",
      "\u001b[34m[03/28/2022 20:11:36 INFO 140044817090368] #train_score (algo-1) : ('rmse', 1.9054924374179818)\u001b[0m\n",
      "\u001b[34m[03/28/2022 20:11:36 INFO 140044817090368] #train_score (algo-1) : ('r2', 0.8460537141404191)\u001b[0m\n",
      "\u001b[34m[03/28/2022 20:11:36 INFO 140044817090368] #train_score (algo-1) : ('mae', 1.4718940138816834)\u001b[0m\n",
      "\u001b[34m[03/28/2022 20:11:36 INFO 140044817090368] #quality_metric: host=algo-1, train absolute_loss_objective <loss>=1.4718940138816834\u001b[0m\n",
      "\u001b[34m[03/28/2022 20:11:36 INFO 140044817090368] #quality_metric: host=algo-1, train mse <loss>=3.630901429057121\u001b[0m\n",
      "\u001b[34m[03/28/2022 20:11:36 INFO 140044817090368] #quality_metric: host=algo-1, train absolute_loss <loss>=1.4718940138816834\u001b[0m\n",
      "\u001b[34m[03/28/2022 20:11:36 INFO 140044817090368] #quality_metric: host=algo-1, train rmse <loss>=1.9054924374179818\u001b[0m\n",
      "\u001b[34m[03/28/2022 20:11:36 INFO 140044817090368] #quality_metric: host=algo-1, train r2 <loss>=0.8460537141404191\u001b[0m\n",
      "\u001b[34m[03/28/2022 20:11:36 INFO 140044817090368] #quality_metric: host=algo-1, train mae <loss>=1.4718940138816834\u001b[0m\n",
      "\u001b[34m[03/28/2022 20:11:36 INFO 140044817090368] Best model found for hyperparameters: {\"optimizer\": \"adam\", \"learning_rate\": 0.1, \"wd\": 0.01, \"l1\": 0.0, \"lr_scheduler_step\": 100, \"lr_scheduler_factor\": 0.99, \"lr_scheduler_minimum_lr\": 0.0001}\u001b[0m\n",
      "\u001b[34m[03/28/2022 20:11:36 INFO 140044817090368] Saved checkpoint to \"/tmp/tmp9fn62lkz/mx-mod-0000.params\"\u001b[0m\n",
      "\u001b[34m[03/28/2022 20:11:36 INFO 140044817090368] Test data is not provided.\u001b[0m\n",
      "\u001b[34m#metrics {\"StartTime\": 1648498293.73189, \"EndTime\": 1648498296.8088186, \"Dimensions\": {\"Algorithm\": \"Linear Learner\", \"Host\": \"algo-1\", \"Operation\": \"training\"}, \"Metrics\": {\"initialize.time\": {\"sum\": 372.1766471862793, \"count\": 1, \"min\": 372.1766471862793, \"max\": 372.1766471862793}, \"epochs\": {\"sum\": 5.0, \"count\": 1, \"min\": 5, \"max\": 5}, \"check_early_stopping.time\": {\"sum\": 5.638837814331055, \"count\": 5, \"min\": 0.29158592224121094, \"max\": 1.9559860229492188}, \"update.time\": {\"sum\": 2598.172187805176, \"count\": 5, \"min\": 450.55127143859863, \"max\": 605.5340766906738}, \"finalize.time\": {\"sum\": 66.46847724914551, \"count\": 1, \"min\": 66.46847724914551, \"max\": 66.46847724914551}, \"setuptime\": {\"sum\": 27.858734130859375, \"count\": 1, \"min\": 27.858734130859375, \"max\": 27.858734130859375}, \"totaltime\": {\"sum\": 3365.2405738830566, \"count\": 1, \"min\": 3365.2405738830566, \"max\": 3365.2405738830566}}}\u001b[0m\n",
      "\u001b[34m[03/28/2022 20:11:36 INFO 140044817090368 integration.py:636] worker closed\u001b[0m\n",
      "\n",
      "2022-03-28 20:11:52 Uploading - Uploading generated training model\n",
      "2022-03-28 20:11:52 Completed - Training job completed\n",
      "Training seconds: 97\n",
      "Billable seconds: 97\n"
     ]
    }
   ],
   "source": [
    "# Note that this code leverages the new SageMaker SDK 2.0\n",
    "# Check this for the list of changes from AWS SageMaker SDK 1.0 to 2.0: https://sagemaker.readthedocs.io/en/stable/v2.html\n",
    "\n",
    "\n",
    "# We have pass in the container, the type of instance that we would like to use for training \n",
    "# output path and sagemaker session into the Estimator. \n",
    "# We can also specify how many instances we would like to use for training\n",
    "\n",
    "linear = sagemaker.estimator.Estimator(container,\n",
    "                                       role, \n",
    "                                       instance_count = 1, \n",
    "                                       instance_type = 'ml.m4.xlarge',\n",
    "                                       output_path = output_location,\n",
    "                                       sagemaker_session = sagemaker_session)\n",
    "\n",
    "\n",
    "# We can tune parameters like the number of features that we are passing in, type of predictor like 'regressor' or 'classifier', mini batch size, epochs\n",
    "# Train 32 different versions of the model and will get the best out of them (built-in parameters optimization!)\n",
    "\n",
    "linear.set_hyperparameters(feature_dim = 1,\n",
    "                           predictor_type = 'regressor',\n",
    "                           mini_batch_size = 5,\n",
    "                           epochs = 5,\n",
    "                           num_models = 32,\n",
    "                           loss = 'absolute_loss')\n",
    "\n",
    "# Now we are ready to pass in the training data from S3 to train the linear learner model\n",
    "\n",
    "linear.fit({'train': s3_train_data})\n",
    "\n",
    "# Let's see the progress using cloudwatch logs"
   ]
  },
  {
   "cell_type": "markdown",
   "metadata": {},
   "source": [
    "# TASK #4: DEPLOY AND TEST TRAINED LINEAR LEARNER MODEL "
   ]
  },
  {
   "cell_type": "code",
   "execution_count": 30,
   "metadata": {},
   "outputs": [
    {
     "name": "stdout",
     "output_type": "stream",
     "text": [
      "-------!"
     ]
    }
   ],
   "source": [
    "# Deploying the model to perform inference \n",
    "\n",
    "# Content type overrides the data that will be passed to the deployed model, since the deployed model expects data in text/csv format.\n",
    "# Serializer accepts a single argument, the input data, and returns a sequence of bytes in the specified content type\n",
    "# Deserializer accepts two arguments, the result data and the response content type, and return a sequence of bytes in the specified content type.\n",
    "\n",
    "from sagemaker.deserializers import JSONDeserializer\n",
    "from sagemaker.serializers import CSVSerializer\n",
    "\n",
    "\n",
    "linear_regressor = linear.deploy(initial_instance_count = 1,\n",
    "                                 instance_type = 'ml.m4.xlarge',\n",
    "                                 serializer=CSVSerializer(),\n",
    "                                 deserializer=JSONDeserializer())"
   ]
  },
  {
   "cell_type": "code",
   "execution_count": 31,
   "metadata": {},
   "outputs": [],
   "source": [
    "# Use code lines below if you're using AWS SDK 1.0\n",
    "# from sagemaker.predictor import csv_serializer, json_deserializer\n",
    "# linear_regressor.content_type = 'text/csv' # This will need to be enabled for AWS SageMaker SDK 1.0\n",
    "# linear_regressor.serializer = csv_serializer\n",
    "# linear_regressor.deserializer = json_deserializer"
   ]
  },
  {
   "cell_type": "code",
   "execution_count": 32,
   "metadata": {},
   "outputs": [],
   "source": [
    "# making prediction on the test data\n",
    "\n",
    "result = linear_regressor.predict(X_test)"
   ]
  },
  {
   "cell_type": "code",
   "execution_count": 33,
   "metadata": {},
   "outputs": [
    {
     "data": {
      "text/plain": [
       "{'predictions': [{'score': 26.0399112701416},\n",
       "  {'score': 26.615619659423828},\n",
       "  {'score': 26.906787872314453},\n",
       "  {'score': 29.346681594848633},\n",
       "  {'score': 24.45672035217285},\n",
       "  {'score': 29.582475662231445},\n",
       "  {'score': 22.406747817993164},\n",
       "  {'score': 22.846071243286133},\n",
       "  {'score': 17.9238338470459},\n",
       "  {'score': 29.079185485839844},\n",
       "  {'score': 18.764198303222656},\n",
       "  {'score': 23.714336395263672},\n",
       "  {'score': 26.122249603271484},\n",
       "  {'score': 30.001211166381836},\n",
       "  {'score': 21.88310432434082},\n",
       "  {'score': 23.12843132019043},\n",
       "  {'score': 22.699237823486328},\n",
       "  {'score': 23.113304138183594},\n",
       "  {'score': 19.415163040161133},\n",
       "  {'score': 21.380077362060547}]}"
      ]
     },
     "execution_count": 33,
     "metadata": {},
     "output_type": "execute_result"
    }
   ],
   "source": [
    "result # results are in Json format"
   ]
  },
  {
   "cell_type": "code",
   "execution_count": 34,
   "metadata": {},
   "outputs": [],
   "source": [
    "# Since the result is in json format, we access the scores by iterating through the scores in the predictions\n",
    "\n",
    "predictions = np.array([r['score'] for r in result['predictions']])"
   ]
  },
  {
   "cell_type": "code",
   "execution_count": 35,
   "metadata": {},
   "outputs": [
    {
     "data": {
      "text/plain": [
       "array([26.03991127, 26.61561966, 26.90678787, 29.34668159, 24.45672035,\n",
       "       29.58247566, 22.40674782, 22.84607124, 17.92383385, 29.07918549,\n",
       "       18.7641983 , 23.7143364 , 26.1222496 , 30.00121117, 21.88310432,\n",
       "       23.12843132, 22.69923782, 23.11330414, 19.41516304, 21.38007736])"
      ]
     },
     "execution_count": 35,
     "metadata": {},
     "output_type": "execute_result"
    }
   ],
   "source": [
    "predictions"
   ]
  },
  {
   "cell_type": "code",
   "execution_count": 36,
   "metadata": {
    "scrolled": true
   },
   "outputs": [
    {
     "data": {
      "text/plain": [
       "(20,)"
      ]
     },
     "execution_count": 36,
     "metadata": {},
     "output_type": "execute_result"
    }
   ],
   "source": [
    "predictions.shape"
   ]
  },
  {
   "cell_type": "code",
   "execution_count": 40,
   "metadata": {},
   "outputs": [
    {
     "data": {
      "image/png": "[encoded data removed]",
      "text/plain": [
       "<Figure size 720x432 with 1 Axes>"
      ]
     },
     "metadata": {
      "needs_background": "light"
     },
     "output_type": "display_data"
    }
   ],
   "source": [
    "# VISUALIZE TEST SET RESULTS\n",
    "plt.figure(figsize = (10, 6))\n",
    "plt.scatter(X_test, y_test, color = 'blue')\n",
    "plt.plot(X_test, predictions, color = 'red')\n",
    "plt.xlabel('HorsePower')\n",
    "plt.ylabel('Fuel Economy [MPG]')\n",
    "plt.title('HorsePower Vs. Fuel Economy')\n",
    "plt.grid()"
   ]
  },
  {
   "cell_type": "code",
   "execution_count": 41,
   "metadata": {},
   "outputs": [],
   "source": [
    "# Delete the end-point\n",
    "linear_regressor.delete_endpoint()"
   ]
  },
  {
   "cell_type": "code",
   "execution_count": null,
   "metadata": {},
   "outputs": [],
   "source": []
  },
  {
   "cell_type": "markdown",
   "metadata": {},
   "source": [
    "# GREAT JOB! "
   ]
  }
 ],
 "metadata": {
  "colab": {
   "collapsed_sections": [],
   "name": "Graduate_Admission_Prediction.ipynb",
   "provenance": [],
   "toc_visible": true
  },
  "instance_type": "ml.t3.medium",
  "kernelspec": {
   "display_name": "Python 3 (Data Science)",
   "language": "python",
   "name": "python3__SAGEMAKER_INTERNAL__arn:aws:sagemaker:us-east-1:081325390199:image/datascience-1.0"
  },
  "language_info": {
   "codemirror_mode": {
    "name": "ipython",
    "version": 3
   },
   "file_extension": ".py",
   "mimetype": "text/x-python",
   "name": "python",
   "nbconvert_exporter": "python",
   "pygments_lexer": "ipython3",
   "version": "3.7.10"
  }
 },
 "nbformat": 4,
 "nbformat_minor": 4
}
