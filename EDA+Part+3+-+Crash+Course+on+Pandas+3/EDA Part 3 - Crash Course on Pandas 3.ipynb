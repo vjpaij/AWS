{
 "cells": [
  {
   "cell_type": "markdown",
   "metadata": {
    "id": "OozhLsPat1UH"
   },
   "source": [
    "# CODING TASK #1. IMPORT DATASET AND PERFORM STATISTICAL DATA ANALYSIS"
   ]
  },
  {
   "cell_type": "code",
   "execution_count": null,
   "metadata": {},
   "outputs": [],
   "source": [
    "# Updgrade Pandas version\n",
    "!pip3 install pandas --upgrade"
   ]
  },
  {
   "cell_type": "code",
   "execution_count": null,
   "metadata": {},
   "outputs": [],
   "source": [
    "# Updgrade Numpy version\n",
    "!pip3 install numpy --upgrade"
   ]
  },
  {
   "cell_type": "code",
   "execution_count": null,
   "metadata": {},
   "outputs": [],
   "source": [
    "!pip3 install seaborn --upgrade"
   ]
  },
  {
   "cell_type": "code",
   "execution_count": null,
   "metadata": {},
   "outputs": [],
   "source": [
    "import pandas as pd\n",
    "import matplotlib as plt\n",
    "import seaborn as sns\n",
    "%matplotlib inline\n"
   ]
  },
  {
   "cell_type": "code",
   "execution_count": null,
   "metadata": {
    "colab": {
     "base_uri": "https://localhost:8080/",
     "height": 590
    },
    "executionInfo": {
     "elapsed": 301,
     "status": "ok",
     "timestamp": 1618632610523,
     "user": {
      "displayName": "Stemplicity",
      "photoUrl": "https://lh3.googleusercontent.com/a-/AOh14Gj2vCFt-bD5mPBhUWX0QA6xiBgoXQXtwUm2jgjaCg=s64",
      "userId": "10668071569687886186"
     },
     "user_tz": 240
    },
    "id": "BYCD1yGi6q2M",
    "outputId": "95631dd1-acae-4927-f9f7-d1c7bf27f924"
   },
   "outputs": [],
   "source": [
    "# Let's read a CSV file using Pandas as follows\n",
    "hr_df = pd.read_csv('Human_Resources.csv')\n",
    "hr_df"
   ]
  },
  {
   "cell_type": "code",
   "execution_count": null,
   "metadata": {
    "colab": {
     "base_uri": "https://localhost:8080/"
    },
    "executionInfo": {
     "elapsed": 286,
     "status": "ok",
     "timestamp": 1618626179783,
     "user": {
      "displayName": "Stemplicity",
      "photoUrl": "https://lh3.googleusercontent.com/a-/AOh14Gj2vCFt-bD5mPBhUWX0QA6xiBgoXQXtwUm2jgjaCg=s64",
      "userId": "10668071569687886186"
     },
     "user_tz": 240
    },
    "id": "9LXSKDSTq4Fb",
    "outputId": "57cc631d-75db-4e40-cdf9-8f3b11c7be09"
   },
   "outputs": [],
   "source": [
    "# Let's obtain the data type \n",
    "type(hr_df)"
   ]
  },
  {
   "cell_type": "code",
   "execution_count": null,
   "metadata": {
    "colab": {
     "base_uri": "https://localhost:8080/",
     "height": 106
    },
    "executionInfo": {
     "elapsed": 237,
     "status": "ok",
     "timestamp": 1618626184264,
     "user": {
      "displayName": "Stemplicity",
      "photoUrl": "https://lh3.googleusercontent.com/a-/AOh14Gj2vCFt-bD5mPBhUWX0QA6xiBgoXQXtwUm2jgjaCg=s64",
      "userId": "10668071569687886186"
     },
     "user_tz": 240
    },
    "id": "h93nb1trtwhu",
    "outputId": "dd453796-84ba-4208-c2f2-209ce504ad0e"
   },
   "outputs": [],
   "source": [
    "# you can view the first couple of rows using .head()\n",
    "hr_df.head(4)"
   ]
  },
  {
   "cell_type": "code",
   "execution_count": null,
   "metadata": {},
   "outputs": [],
   "source": [
    "# you can view the last couple of rows using .tail()\n",
    "hr_df.tail(4)"
   ]
  },
  {
   "cell_type": "code",
   "execution_count": null,
   "metadata": {},
   "outputs": [],
   "source": [
    "# Calculate the average values for employee_df dataframe\n",
    "hr_df.mean()"
   ]
  },
  {
   "cell_type": "code",
   "execution_count": null,
   "metadata": {},
   "outputs": [],
   "source": [
    "# 35 features in total, each contains 1470 data points\n",
    "# No missing elements are present in the dataset\n",
    "hr_df.info()"
   ]
  },
  {
   "cell_type": "markdown",
   "metadata": {},
   "source": [
    "**PRACTICE OPPORTUNITY #1 [OPTIONAL]:**\n",
    "- **Use any Pandas method to obtain a statistical summary of the data**\n",
    "- **What is the mean, maximum and minimum employee age considered in this study?**"
   ]
  },
  {
   "cell_type": "code",
   "execution_count": null,
   "metadata": {},
   "outputs": [],
   "source": []
  },
  {
   "cell_type": "markdown",
   "metadata": {},
   "source": [
    "# CODING TASK #2. DEALING WITH MISSING DATA"
   ]
  },
  {
   "cell_type": "code",
   "execution_count": null,
   "metadata": {
    "colab": {
     "base_uri": "https://localhost:8080/",
     "height": 422
    },
    "executionInfo": {
     "elapsed": 369,
     "status": "ok",
     "timestamp": 1618632619162,
     "user": {
      "displayName": "Stemplicity",
      "photoUrl": "https://lh3.googleusercontent.com/a-/AOh14Gj2vCFt-bD5mPBhUWX0QA6xiBgoXQXtwUm2jgjaCg=s64",
      "userId": "10668071569687886186"
     },
     "user_tz": 240
    },
    "id": "Fi0jPWSozbTY",
    "outputId": "f14b3fa6-0ef6-4f0d-eeaa-559c298efdef"
   },
   "outputs": [],
   "source": [
    "# first, let's locate rows that have Null values\n",
    "hr_df.isnull()"
   ]
  },
  {
   "cell_type": "code",
   "execution_count": null,
   "metadata": {
    "colab": {
     "base_uri": "https://localhost:8080/"
    },
    "executionInfo": {
     "elapsed": 310,
     "status": "ok",
     "timestamp": 1618632621377,
     "user": {
      "displayName": "Stemplicity",
      "photoUrl": "https://lh3.googleusercontent.com/a-/AOh14Gj2vCFt-bD5mPBhUWX0QA6xiBgoXQXtwUm2jgjaCg=s64",
      "userId": "10668071569687886186"
     },
     "user_tz": 240
    },
    "id": "amFTLRkCzpce",
    "outputId": "fe49377b-e28b-4063-8179-d1cbfe08a651"
   },
   "outputs": [],
   "source": [
    "# first, let's locate rows that have Null values\n",
    "hr_df.isnull().sum()"
   ]
  },
  {
   "cell_type": "code",
   "execution_count": null,
   "metadata": {
    "executionInfo": {
     "elapsed": 229,
     "status": "ok",
     "timestamp": 1618632641961,
     "user": {
      "displayName": "Stemplicity",
      "photoUrl": "https://lh3.googleusercontent.com/a-/AOh14Gj2vCFt-bD5mPBhUWX0QA6xiBgoXQXtwUm2jgjaCg=s64",
      "userId": "10668071569687886186"
     },
     "user_tz": 240
    },
    "id": "P6GOPJPLyr1J"
   },
   "outputs": [],
   "source": [
    "# Drop any row that contains a Null value \n",
    "# Note that the size of the dataframe has been reduced by 7 elements\n",
    "# Note that all will be used to drop rows that contains only Null values\n",
    "hr_df.dropna(how = 'any', inplace = True)\n"
   ]
  },
  {
   "cell_type": "code",
   "execution_count": null,
   "metadata": {
    "colab": {
     "base_uri": "https://localhost:8080/",
     "height": 590
    },
    "executionInfo": {
     "elapsed": 279,
     "status": "ok",
     "timestamp": 1618632644293,
     "user": {
      "displayName": "Stemplicity",
      "photoUrl": "https://lh3.googleusercontent.com/a-/AOh14Gj2vCFt-bD5mPBhUWX0QA6xiBgoXQXtwUm2jgjaCg=s64",
      "userId": "10668071569687886186"
     },
     "user_tz": 240
    },
    "id": "x_k4ZjJ5zB14",
    "outputId": "f67c67f3-d316-4ad1-ba07-6aac5e098aad"
   },
   "outputs": [],
   "source": [
    "hr_df"
   ]
  },
  {
   "cell_type": "code",
   "execution_count": null,
   "metadata": {},
   "outputs": [],
   "source": [
    "hr_df.isnull().sum()"
   ]
  },
  {
   "cell_type": "code",
   "execution_count": null,
   "metadata": {
    "colab": {
     "base_uri": "https://localhost:8080/",
     "height": 590
    },
    "executionInfo": {
     "elapsed": 301,
     "status": "ok",
     "timestamp": 1618632720784,
     "user": {
      "displayName": "Stemplicity",
      "photoUrl": "https://lh3.googleusercontent.com/a-/AOh14Gj2vCFt-bD5mPBhUWX0QA6xiBgoXQXtwUm2jgjaCg=s64",
      "userId": "10668071569687886186"
     },
     "user_tz": 240
    },
    "id": "KrFRU5Lv0RFN",
    "outputId": "8a325be8-04d2-46c7-bf0a-6527c08abf1e"
   },
   "outputs": [],
   "source": [
    "# Let's read a CSV file using Pandas as follows\n",
    "hr_df = pd.read_csv('Human_Resources.csv')\n",
    "hr_df"
   ]
  },
  {
   "cell_type": "code",
   "execution_count": null,
   "metadata": {
    "executionInfo": {
     "elapsed": 272,
     "status": "ok",
     "timestamp": 1618632727485,
     "user": {
      "displayName": "Stemplicity",
      "photoUrl": "https://lh3.googleusercontent.com/a-/AOh14Gj2vCFt-bD5mPBhUWX0QA6xiBgoXQXtwUm2jgjaCg=s64",
      "userId": "10668071569687886186"
     },
     "user_tz": 240
    },
    "id": "XnnFDbLl0jfu"
   },
   "outputs": [],
   "source": [
    "# We can also indicate which columns we want to drop NaN from\n",
    "hr_df.dropna(how = 'any', inplace = True, subset = ['MonthlyIncome', 'PercentSalaryHike'])"
   ]
  },
  {
   "cell_type": "code",
   "execution_count": null,
   "metadata": {
    "colab": {
     "base_uri": "https://localhost:8080/",
     "height": 590
    },
    "executionInfo": {
     "elapsed": 299,
     "status": "ok",
     "timestamp": 1618632729278,
     "user": {
      "displayName": "Stemplicity",
      "photoUrl": "https://lh3.googleusercontent.com/a-/AOh14Gj2vCFt-bD5mPBhUWX0QA6xiBgoXQXtwUm2jgjaCg=s64",
      "userId": "10668071569687886186"
     },
     "user_tz": 240
    },
    "id": "QueD79xW1IOT",
    "outputId": "d67bf9ea-c9f7-4269-d8c6-fd1ffe1e36ac"
   },
   "outputs": [],
   "source": [
    "hr_df"
   ]
  },
  {
   "cell_type": "code",
   "execution_count": null,
   "metadata": {
    "colab": {
     "base_uri": "https://localhost:8080/",
     "height": 590
    },
    "executionInfo": {
     "elapsed": 299,
     "status": "ok",
     "timestamp": 1618632749188,
     "user": {
      "displayName": "Stemplicity",
      "photoUrl": "https://lh3.googleusercontent.com/a-/AOh14Gj2vCFt-bD5mPBhUWX0QA6xiBgoXQXtwUm2jgjaCg=s64",
      "userId": "10668071569687886186"
     },
     "user_tz": 240
    },
    "id": "nqCBdypl2C_R",
    "outputId": "004206c2-7878-446e-ba06-26b0ce82435f"
   },
   "outputs": [],
   "source": [
    "# Let's read a CSV file using Pandas as follows\n",
    "hr_df = pd.read_csv('Human_Resources.csv')\n",
    "hr_df\n"
   ]
  },
  {
   "cell_type": "code",
   "execution_count": null,
   "metadata": {
    "colab": {
     "base_uri": "https://localhost:8080/"
    },
    "executionInfo": {
     "elapsed": 283,
     "status": "ok",
     "timestamp": 1618632750872,
     "user": {
      "displayName": "Stemplicity",
      "photoUrl": "https://lh3.googleusercontent.com/a-/AOh14Gj2vCFt-bD5mPBhUWX0QA6xiBgoXQXtwUm2jgjaCg=s64",
      "userId": "10668071569687886186"
     },
     "user_tz": 240
    },
    "id": "vw8fb0YQ29GT",
    "outputId": "09d6c3c1-506c-4c2d-e8c8-ae03ed457a40"
   },
   "outputs": [],
   "source": [
    "# Calculate the average monthly income\n",
    "hr_df['MonthlyIncome'].mean()"
   ]
  },
  {
   "cell_type": "code",
   "execution_count": null,
   "metadata": {
    "executionInfo": {
     "elapsed": 248,
     "status": "ok",
     "timestamp": 1618632765709,
     "user": {
      "displayName": "Stemplicity",
      "photoUrl": "https://lh3.googleusercontent.com/a-/AOh14Gj2vCFt-bD5mPBhUWX0QA6xiBgoXQXtwUm2jgjaCg=s64",
      "userId": "10668071569687886186"
     },
     "user_tz": 240
    },
    "id": "vAj5YYVJ259N"
   },
   "outputs": [],
   "source": [
    "# You can use Fillna to fill a given column with a certain value\n",
    "hr_df[\"MonthlyIncome\"].fillna(hr_df['MonthlyIncome'].mean(), inplace = True)\n"
   ]
  },
  {
   "cell_type": "code",
   "execution_count": null,
   "metadata": {
    "colab": {
     "base_uri": "https://localhost:8080/",
     "height": 590
    },
    "executionInfo": {
     "elapsed": 280,
     "status": "ok",
     "timestamp": 1618632768228,
     "user": {
      "displayName": "Stemplicity",
      "photoUrl": "https://lh3.googleusercontent.com/a-/AOh14Gj2vCFt-bD5mPBhUWX0QA6xiBgoXQXtwUm2jgjaCg=s64",
      "userId": "10668071569687886186"
     },
     "user_tz": 240
    },
    "id": "z8lU5Gz12oJD",
    "outputId": "a1d68d3d-5f5e-4581-f0fb-4e3d318fbdab"
   },
   "outputs": [],
   "source": [
    "hr_df"
   ]
  },
  {
   "cell_type": "markdown",
   "metadata": {
    "id": "BcchuZvuFXKI"
   },
   "source": [
    "**PRACTICE OPPORTUNITY #2 [OPTIONAL]:**\n",
    "- **Calculate the median monthly rate. Use the calculated median values to fill out missing data. Confirm that the process is successful**"
   ]
  },
  {
   "cell_type": "code",
   "execution_count": null,
   "metadata": {},
   "outputs": [],
   "source": []
  },
  {
   "cell_type": "markdown",
   "metadata": {
    "id": "op8oaraK4BrM"
   },
   "source": [
    "# CODING TASK #3: CHANGE PANDAS DATAFRAME DATATYPES"
   ]
  },
  {
   "cell_type": "code",
   "execution_count": null,
   "metadata": {
    "colab": {
     "base_uri": "https://localhost:8080/",
     "height": 590
    },
    "executionInfo": {
     "elapsed": 298,
     "status": "ok",
     "timestamp": 1618633299797,
     "user": {
      "displayName": "Stemplicity",
      "photoUrl": "https://lh3.googleusercontent.com/a-/AOh14Gj2vCFt-bD5mPBhUWX0QA6xiBgoXQXtwUm2jgjaCg=s64",
      "userId": "10668071569687886186"
     },
     "user_tz": 240
    },
    "id": "y1aBRjsH4Fvs",
    "outputId": "7f87eee0-273e-42cd-bc7a-6a1e57440be7"
   },
   "outputs": [],
   "source": [
    "# Let's read a CSV file using Pandas as follows\n",
    "hr_df = pd.read_csv('Human_Resources.csv')\n",
    "hr_df"
   ]
  },
  {
   "cell_type": "code",
   "execution_count": null,
   "metadata": {
    "colab": {
     "base_uri": "https://localhost:8080/"
    },
    "executionInfo": {
     "elapsed": 342,
     "status": "ok",
     "timestamp": 1618633300949,
     "user": {
      "displayName": "Stemplicity",
      "photoUrl": "https://lh3.googleusercontent.com/a-/AOh14Gj2vCFt-bD5mPBhUWX0QA6xiBgoXQXtwUm2jgjaCg=s64",
      "userId": "10668071569687886186"
     },
     "user_tz": 240
    },
    "id": "b3k1KMgH4Fxt",
    "outputId": "2c739c8b-d05c-4201-feef-2b741d8e42a4"
   },
   "outputs": [],
   "source": [
    "hr_df.info()"
   ]
  },
  {
   "cell_type": "code",
   "execution_count": null,
   "metadata": {
    "colab": {
     "base_uri": "https://localhost:8080/"
    },
    "executionInfo": {
     "elapsed": 265,
     "status": "ok",
     "timestamp": 1618633334206,
     "user": {
      "displayName": "Stemplicity",
      "photoUrl": "https://lh3.googleusercontent.com/a-/AOh14Gj2vCFt-bD5mPBhUWX0QA6xiBgoXQXtwUm2jgjaCg=s64",
      "userId": "10668071569687886186"
     },
     "user_tz": 240
    },
    "id": "4mIg4O554X1l",
    "outputId": "2fa89c04-2a01-47c3-c89b-c3d3a15b1b97"
   },
   "outputs": [],
   "source": [
    "# Let's convert the hourly rate from int64 to float64\n",
    "hr_df[\"HourlyRate\"] = hr_df[\"HourlyRate\"].astype(\"float64\")\n",
    "hr_df.info()"
   ]
  },
  {
   "cell_type": "code",
   "execution_count": null,
   "metadata": {
    "colab": {
     "base_uri": "https://localhost:8080/",
     "height": 590
    },
    "executionInfo": {
     "elapsed": 375,
     "status": "ok",
     "timestamp": 1618633348691,
     "user": {
      "displayName": "Stemplicity",
      "photoUrl": "https://lh3.googleusercontent.com/a-/AOh14Gj2vCFt-bD5mPBhUWX0QA6xiBgoXQXtwUm2jgjaCg=s64",
      "userId": "10668071569687886186"
     },
     "user_tz": 240
    },
    "id": "i_WSxksc4X3t",
    "outputId": "4f80fb3c-d52f-4e48-b42d-830c2f1de2d4"
   },
   "outputs": [],
   "source": [
    "# Since we have limited number of classes, we can use the category datatype\n",
    "# check the memory usage with the info method to ensure that the size has been reduced\n",
    "hr_df[\"PerformanceRating\"] = hr_df['PerformanceRating'].astype(\"category\")\n",
    "hr_df[\"RelationshipSatisfaction\"] = hr_df['RelationshipSatisfaction'].astype(\"category\")\n",
    "hr_df"
   ]
  },
  {
   "cell_type": "code",
   "execution_count": null,
   "metadata": {
    "colab": {
     "base_uri": "https://localhost:8080/"
    },
    "executionInfo": {
     "elapsed": 574,
     "status": "ok",
     "timestamp": 1618633351023,
     "user": {
      "displayName": "Stemplicity",
      "photoUrl": "https://lh3.googleusercontent.com/a-/AOh14Gj2vCFt-bD5mPBhUWX0QA6xiBgoXQXtwUm2jgjaCg=s64",
      "userId": "10668071569687886186"
     },
     "user_tz": 240
    },
    "id": "j34VJr6J4X50",
    "outputId": "07740b8f-970d-4bb1-fd0a-3618f5532eff"
   },
   "outputs": [],
   "source": [
    "# Notice the reduction in size\n",
    "hr_df.info() "
   ]
  },
  {
   "cell_type": "markdown",
   "metadata": {
    "id": "VIDPhrVoFEdL"
   },
   "source": [
    "**PRACTICE OPPORTUNITY #3 [OPTIONAL]:**\n",
    "- **Convert the BusinessTravel column to category format.** \n",
    "- **How many KBytes in memory have been saved?**"
   ]
  },
  {
   "cell_type": "code",
   "execution_count": null,
   "metadata": {},
   "outputs": [],
   "source": []
  },
  {
   "cell_type": "code",
   "execution_count": null,
   "metadata": {},
   "outputs": [],
   "source": []
  },
  {
   "cell_type": "markdown",
   "metadata": {
    "id": "3-5RHcLDu1wL"
   },
   "source": [
    "# CODING TASK #4. PANDAS WITH FUNCTIONS"
   ]
  },
  {
   "cell_type": "code",
   "execution_count": null,
   "metadata": {
    "colab": {
     "base_uri": "https://localhost:8080/",
     "height": 343
    },
    "executionInfo": {
     "elapsed": 383,
     "status": "ok",
     "timestamp": 1618632094538,
     "user": {
      "displayName": "Stemplicity",
      "photoUrl": "https://lh3.googleusercontent.com/a-/AOh14Gj2vCFt-bD5mPBhUWX0QA6xiBgoXQXtwUm2jgjaCg=s64",
      "userId": "10668071569687886186"
     },
     "user_tz": 240
    },
    "id": "w6Vs9IxC14kV",
    "outputId": "6d97095b-e22a-412e-dae9-01de9610dd51"
   },
   "outputs": [],
   "source": [
    "# Let's read a CSV file using Pandas as follows\n",
    "hr_df = pd.read_csv('Human_Resources.csv')\n",
    "hr_df"
   ]
  },
  {
   "cell_type": "code",
   "execution_count": null,
   "metadata": {},
   "outputs": [],
   "source": [
    "# Let's assume the daily rate has increased by 10%\n",
    "# Define a function that increases all clients networth by a fixed value of 10% (for simplicity sake) \n",
    "def dailrate_update(balance):\n",
    "    return balance * 1.1 # assume that net worth increased by 10%"
   ]
  },
  {
   "cell_type": "code",
   "execution_count": null,
   "metadata": {
    "colab": {
     "base_uri": "https://localhost:8080/",
     "height": 343
    },
    "executionInfo": {
     "elapsed": 286,
     "status": "ok",
     "timestamp": 1618632101929,
     "user": {
      "displayName": "Stemplicity",
      "photoUrl": "https://lh3.googleusercontent.com/a-/AOh14Gj2vCFt-bD5mPBhUWX0QA6xiBgoXQXtwUm2jgjaCg=s64",
      "userId": "10668071569687886186"
     },
     "user_tz": 240
    },
    "id": "H15eem3Qu67H",
    "outputId": "81538aea-f3fb-4419-fbc9-fdd6217c3789"
   },
   "outputs": [],
   "source": [
    "# You can apply a function to the DataFrame \n",
    "hr_df['DailyRate'] = hr_df['DailyRate'].apply(dailrate_update)\n",
    "hr_df"
   ]
  },
  {
   "cell_type": "markdown",
   "metadata": {
    "id": "VaXV-VYg4xG0"
   },
   "source": [
    "**PRACTICE OPPORTUNITY #4 [OPTIONAL]:**\n",
    "- **Define a function that doubles the DailyRate and adds $100**\n",
    "- **Apply the function to the DataFrame**\n",
    "- **Calculate the updated total Daily Rate of all employees combined**"
   ]
  },
  {
   "cell_type": "code",
   "execution_count": null,
   "metadata": {},
   "outputs": [],
   "source": []
  },
  {
   "cell_type": "markdown",
   "metadata": {
    "id": "usUtfW0WuuBb"
   },
   "source": [
    "# CODING TASK #5. PANDAS OPERATIONS/FILTERING"
   ]
  },
  {
   "cell_type": "code",
   "execution_count": null,
   "metadata": {
    "colab": {
     "base_uri": "https://localhost:8080/",
     "height": 343
    },
    "executionInfo": {
     "elapsed": 258,
     "status": "ok",
     "timestamp": 1618632195122,
     "user": {
      "displayName": "Stemplicity",
      "photoUrl": "https://lh3.googleusercontent.com/a-/AOh14Gj2vCFt-bD5mPBhUWX0QA6xiBgoXQXtwUm2jgjaCg=s64",
      "userId": "10668071569687886186"
     },
     "user_tz": 240
    },
    "id": "wI7pvcR01NbV",
    "outputId": "0ce022a1-1862-461e-fa34-5eb0d6f2260a"
   },
   "outputs": [],
   "source": [
    "# Let's read a CSV file using Pandas as follows\n",
    "hr_df = pd.read_csv('Human_Resources.csv')\n",
    "hr_df"
   ]
  },
  {
   "cell_type": "code",
   "execution_count": null,
   "metadata": {
    "colab": {
     "base_uri": "https://localhost:8080/",
     "height": 195
    },
    "executionInfo": {
     "elapsed": 336,
     "status": "ok",
     "timestamp": 1618632201335,
     "user": {
      "displayName": "Stemplicity",
      "photoUrl": "https://lh3.googleusercontent.com/a-/AOh14Gj2vCFt-bD5mPBhUWX0QA6xiBgoXQXtwUm2jgjaCg=s64",
      "userId": "10668071569687886186"
     },
     "user_tz": 240
    },
    "id": "kw_260rpuxzc",
    "outputId": "ac14defc-e166-4650-e8a2-436065a75b32"
   },
   "outputs": [],
   "source": [
    "# Pick certain rows that satisfy a certain criteria \n",
    "loyal_employees_df = hr_df[ (hr_df['YearsAtCompany'] >= 30) ]\n",
    "loyal_employees_df"
   ]
  },
  {
   "cell_type": "code",
   "execution_count": null,
   "metadata": {
    "colab": {
     "base_uri": "https://localhost:8080/",
     "height": 106
    },
    "executionInfo": {
     "elapsed": 306,
     "status": "ok",
     "timestamp": 1618632220292,
     "user": {
      "displayName": "Stemplicity",
      "photoUrl": "https://lh3.googleusercontent.com/a-/AOh14Gj2vCFt-bD5mPBhUWX0QA6xiBgoXQXtwUm2jgjaCg=s64",
      "userId": "10668071569687886186"
     },
     "user_tz": 240
    },
    "id": "_9rhXti1_hHc",
    "outputId": "7c59eb81-f5b1-4ba3-d04f-42ddc3ffca2f"
   },
   "outputs": [],
   "source": [
    "# Pick certain rows that satisfy 2 or more critirea\n",
    "\n",
    "mask_1 = hr_df['YearsAtCompany'] >= 30\n",
    "mask_2 = hr_df['Department'] == 'Research & Development'\n",
    "\n",
    "loyal_rnd_df = hr_df[mask_1 & mask_2 ]\n",
    "loyal_rnd_df"
   ]
  },
  {
   "cell_type": "code",
   "execution_count": null,
   "metadata": {
    "colab": {
     "base_uri": "https://localhost:8080/",
     "height": 77
    },
    "executionInfo": {
     "elapsed": 260,
     "status": "ok",
     "timestamp": 1618632247961,
     "user": {
      "displayName": "Stemplicity",
      "photoUrl": "https://lh3.googleusercontent.com/a-/AOh14Gj2vCFt-bD5mPBhUWX0QA6xiBgoXQXtwUm2jgjaCg=s64",
      "userId": "10668071569687886186"
     },
     "user_tz": 240
    },
    "id": "PRJb2uwg-0A-",
    "outputId": "29b9f10f-bef6-40b4-ea47-535985e1ffda"
   },
   "outputs": [],
   "source": [
    "# Pick certain rows that satisfy a certain criteria \n",
    "fifty_df = hr_df[ (hr_df['Age'] == 50) ]\n",
    "fifty_df"
   ]
  },
  {
   "cell_type": "code",
   "execution_count": null,
   "metadata": {
    "colab": {
     "base_uri": "https://localhost:8080/",
     "height": 136
    },
    "executionInfo": {
     "elapsed": 295,
     "status": "ok",
     "timestamp": 1618632262925,
     "user": {
      "displayName": "Stemplicity",
      "photoUrl": "https://lh3.googleusercontent.com/a-/AOh14Gj2vCFt-bD5mPBhUWX0QA6xiBgoXQXtwUm2jgjaCg=s64",
      "userId": "10668071569687886186"
     },
     "user_tz": 240
    },
    "id": "N43yEGqLA13v",
    "outputId": "872e2dfc-3447-44bf-e055-02f64254304b"
   },
   "outputs": [],
   "source": [
    "# values that fall between a given range\n",
    "hr_df[hr_df[\"DailyRate\"].between(800, 850)]"
   ]
  },
  {
   "cell_type": "code",
   "execution_count": null,
   "metadata": {},
   "outputs": [],
   "source": [
    "# Let's read a CSV file using Pandas as follows\n",
    "hr_df = pd.read_csv('Human_Resources.csv')\n",
    "hr_df"
   ]
  },
  {
   "cell_type": "code",
   "execution_count": null,
   "metadata": {
    "executionInfo": {
     "elapsed": 282,
     "status": "ok",
     "timestamp": 1618632298535,
     "user": {
      "displayName": "Stemplicity",
      "photoUrl": "https://lh3.googleusercontent.com/a-/AOh14Gj2vCFt-bD5mPBhUWX0QA6xiBgoXQXtwUm2jgjaCg=s64",
      "userId": "10668071569687886186"
     },
     "user_tz": 240
    },
    "id": "LC7bnnI8Ct3P"
   },
   "outputs": [],
   "source": [
    "# Drop duplicates\n",
    "hr_df.drop_duplicates(inplace = True)"
   ]
  },
  {
   "cell_type": "code",
   "execution_count": null,
   "metadata": {
    "colab": {
     "base_uri": "https://localhost:8080/",
     "height": 314
    },
    "executionInfo": {
     "elapsed": 275,
     "status": "ok",
     "timestamp": 1618632300868,
     "user": {
      "displayName": "Stemplicity",
      "photoUrl": "https://lh3.googleusercontent.com/a-/AOh14Gj2vCFt-bD5mPBhUWX0QA6xiBgoXQXtwUm2jgjaCg=s64",
      "userId": "10668071569687886186"
     },
     "user_tz": 240
    },
    "id": "NV_miCKZlIbF",
    "outputId": "95205eba-91a6-454c-faa3-c672ac49bb17"
   },
   "outputs": [],
   "source": [
    "hr_df"
   ]
  },
  {
   "cell_type": "markdown",
   "metadata": {
    "id": "M5_PHunK2_UZ"
   },
   "source": [
    "**PRACTICE OPPORTUNITY #5 [OPTIONAL]:**\n",
    "- **Using \"hr_df\" DataFrame, leverage pandas operations to only select high DailyRate individuals (1450+)** \n",
    "- **What is the combined Daily Rate for all employees with 1450+?**"
   ]
  },
  {
   "cell_type": "code",
   "execution_count": null,
   "metadata": {
    "id": "UGL0c53WAmnt"
   },
   "outputs": [],
   "source": []
  },
  {
   "cell_type": "markdown",
   "metadata": {},
   "source": [
    "# CODING TASK #6: PERFORM EDA ON BOTH CLASSES"
   ]
  },
  {
   "cell_type": "code",
   "execution_count": null,
   "metadata": {},
   "outputs": [],
   "source": [
    "hr_df"
   ]
  },
  {
   "cell_type": "code",
   "execution_count": null,
   "metadata": {},
   "outputs": [],
   "source": [
    "# Let's read a CSV file using Pandas as follows\n",
    "hr_df = pd.read_csv('Human_Resources.csv')\n",
    "hr_df"
   ]
  },
  {
   "cell_type": "code",
   "execution_count": null,
   "metadata": {},
   "outputs": [],
   "source": [
    "hr_df.info()"
   ]
  },
  {
   "cell_type": "code",
   "execution_count": null,
   "metadata": {},
   "outputs": [],
   "source": [
    "# It makes sense to drop 'EmployeeCount', 'Standardhours' and 'Over18' since they do not change from one employee to the other\n",
    "# Let's drop 'EmployeeNumber' as well\n",
    "hr_df.drop(['EmployeeCount', 'StandardHours', 'Over18', 'EmployeeNumber'], axis=1, inplace=True)"
   ]
  },
  {
   "cell_type": "code",
   "execution_count": null,
   "metadata": {},
   "outputs": [],
   "source": [
    "hr_df.info()"
   ]
  },
  {
   "cell_type": "code",
   "execution_count": null,
   "metadata": {},
   "outputs": [],
   "source": [
    "# Let's see how many employees left the company! \n",
    "left_df = hr_df[hr_df['Attrition'] == 'Yes']"
   ]
  },
  {
   "cell_type": "code",
   "execution_count": null,
   "metadata": {},
   "outputs": [],
   "source": [
    "# View employees who left\n",
    "left_df"
   ]
  },
  {
   "cell_type": "code",
   "execution_count": null,
   "metadata": {},
   "outputs": [],
   "source": [
    "left_df.describe()\n"
   ]
  },
  {
   "cell_type": "markdown",
   "metadata": {},
   "source": [
    "**PRACTICE OPPORTUNITY #6 [OPTIONAL]:**\n",
    "- **Filter the hr_df to only include the employees who stayed in the company**\n",
    "- **Generate statistical summary for employees who stayed**\n",
    "- **Compare both statistical summaries. What do you infer from the data?**"
   ]
  },
  {
   "cell_type": "code",
   "execution_count": null,
   "metadata": {},
   "outputs": [],
   "source": []
  },
  {
   "cell_type": "code",
   "execution_count": null,
   "metadata": {},
   "outputs": [],
   "source": []
  },
  {
   "cell_type": "markdown",
   "metadata": {},
   "source": [
    "# CODING TASK #7: HISTOGRAM AND CORRELATION"
   ]
  },
  {
   "cell_type": "code",
   "execution_count": null,
   "metadata": {},
   "outputs": [],
   "source": [
    "hr_df.hist(bins = 30, figsize = (20,20), color = 'r');\n",
    "# Several features such as 'MonthlyIncome' and 'TotalWorkingYears' are tail heavy\n"
   ]
  },
  {
   "cell_type": "code",
   "execution_count": null,
   "metadata": {},
   "outputs": [],
   "source": [
    "import matplotlib.pyplot as plt\n",
    "import seaborn as sns\n",
    "correlations = hr_df.corr()\n",
    "f, ax = plt.subplots(figsize = (20, 20))\n",
    "sns.heatmap(correlations, annot = True)\n",
    "# Job level is strongly correlated with total working hours\n",
    "# Monthly income is strongly correlated with Job level\n",
    "# Monthly income is strongly correlated with total working hours\n",
    "# Age is stongly correlated with monthly income\n"
   ]
  },
  {
   "cell_type": "markdown",
   "metadata": {},
   "source": [
    "**PRACTICE OPPORTUNITY #7 [OPTIONAL]:**\n",
    "- **Change the color of the heatmap [External Research is Required]**\n",
    "- **Plot only the lower half of the correlation matrix [External Research is Required]**"
   ]
  },
  {
   "cell_type": "code",
   "execution_count": null,
   "metadata": {},
   "outputs": [],
   "source": []
  },
  {
   "cell_type": "markdown",
   "metadata": {},
   "source": [
    "# EXCELLENT JOB!"
   ]
  },
  {
   "cell_type": "markdown",
   "metadata": {},
   "source": [
    "# FINAL CAPSTONE PROJECT OVERVIEW"
   ]
  },
  {
   "cell_type": "markdown",
   "metadata": {},
   "source": [
    "- In this project, we will perform basic Exploratory Data Analysis (EDA) on the Kyphosis disease Dataset. \n",
    "- Kyphosis is an abnormally excessive convex curvature of the spine. \n",
    "- Dataset contains 81 rows and 4 columns representing data on children who have had corrective spinal surgery. \n",
    "    - INPUTS: 1. Age: in months, 2. Number: the number of vertebrae involved, 3. Start: the number of the first (topmost) vertebra operated on.\n",
    "    - OUTPUTS: Kyphosis which represents a factor with levels absent present indicating if a kyphosis (a type of deformation) was present after the operation.\n",
    "- Using the “kyphosis.csv\" included in the course package, write a python script to perform the following tasks:\n",
    "    1. Import the “kyphosis.csv\" file using Pandas\n",
    "    2. Perform basic Exploratory Data Analysis (EDA) on the data       \n",
    "    3. List the average, minimum and maximum age (in years) considered in this study using 2 methods\n",
    "    4. Plot the correlation matrix \n",
    "    5. Convert the age column datatype from int64 to float64\n",
    "    6. Define a function that converts age from months to years \n",
    "    7. Apply the function to the “Age” column and add the results into a new column entitled “Age in Years” \n",
    "    8. What are the features of the oldest and youngest child in this study?   \n"
   ]
  },
  {
   "cell_type": "markdown",
   "metadata": {},
   "source": [
    "# FINAL CAPSTONE PROJECT SOLUTION"
   ]
  },
  {
   "cell_type": "code",
   "execution_count": null,
   "metadata": {},
   "outputs": [],
   "source": [
    "Kyphosis_df = pd.read_csv(\"kyphosis.csv\")"
   ]
  },
  {
   "cell_type": "code",
   "execution_count": null,
   "metadata": {},
   "outputs": [],
   "source": [
    "Kyphosis_df.head(10)"
   ]
  },
  {
   "cell_type": "code",
   "execution_count": null,
   "metadata": {},
   "outputs": [],
   "source": [
    "Kyphosis_df.tail()"
   ]
  },
  {
   "cell_type": "code",
   "execution_count": null,
   "metadata": {},
   "outputs": [],
   "source": [
    "Kyphosis_df.describe()"
   ]
  },
  {
   "cell_type": "code",
   "execution_count": null,
   "metadata": {},
   "outputs": [],
   "source": [
    "Kyphosis_df['Age'].mean()/12"
   ]
  },
  {
   "cell_type": "code",
   "execution_count": null,
   "metadata": {},
   "outputs": [],
   "source": [
    "Kyphosis_df['Age'].min()/12"
   ]
  },
  {
   "cell_type": "code",
   "execution_count": null,
   "metadata": {},
   "outputs": [],
   "source": [
    "Kyphosis_df['Age'].max()/12"
   ]
  },
  {
   "cell_type": "code",
   "execution_count": null,
   "metadata": {},
   "outputs": [],
   "source": [
    "Kyphosis_df.isnull().sum()"
   ]
  },
  {
   "cell_type": "code",
   "execution_count": null,
   "metadata": {},
   "outputs": [],
   "source": [
    "import matplotlib.pyplot as plt\n",
    "import seaborn as sns\n",
    "sns.heatmap(Kyphosis_df.corr(), annot=True);"
   ]
  },
  {
   "cell_type": "code",
   "execution_count": null,
   "metadata": {},
   "outputs": [],
   "source": [
    "Kyphosis_df.info()"
   ]
  },
  {
   "cell_type": "code",
   "execution_count": null,
   "metadata": {},
   "outputs": [],
   "source": [
    "# Let's convert the Age datatype from int64 to float64\n",
    "Kyphosis_df[\"Age\"] = Kyphosis_df[\"Age\"].astype(\"float64\")\n",
    "Kyphosis_df.info()"
   ]
  },
  {
   "cell_type": "code",
   "execution_count": null,
   "metadata": {},
   "outputs": [],
   "source": [
    "def month_to_year(age):\n",
    "    return age /365 "
   ]
  },
  {
   "cell_type": "code",
   "execution_count": null,
   "metadata": {
    "colab": {
     "base_uri": "https://localhost:8080/",
     "height": 343
    },
    "executionInfo": {
     "elapsed": 286,
     "status": "ok",
     "timestamp": 1618632101929,
     "user": {
      "displayName": "Stemplicity",
      "photoUrl": "https://lh3.googleusercontent.com/a-/AOh14Gj2vCFt-bD5mPBhUWX0QA6xiBgoXQXtwUm2jgjaCg=s64",
      "userId": "10668071569687886186"
     },
     "user_tz": 240
    },
    "id": "H15eem3Qu67H",
    "outputId": "81538aea-f3fb-4419-fbc9-fdd6217c3789"
   },
   "outputs": [],
   "source": [
    "# You can apply a function to the DataFrame \n",
    "Kyphosis_df['Age in Years'] = Kyphosis_df['Age'].apply(month_to_year)\n",
    "Kyphosis_df"
   ]
  },
  {
   "cell_type": "code",
   "execution_count": null,
   "metadata": {},
   "outputs": [],
   "source": [
    "# values that fall between a given range\n",
    "Kyphosis_df[Kyphosis_df[\"Age\"].between(2, 10)]"
   ]
  },
  {
   "cell_type": "code",
   "execution_count": null,
   "metadata": {},
   "outputs": [],
   "source": [
    "Kyphosis_df[ Kyphosis_df[\"Age\"] == Kyphosis_df[\"Age\"].max() ]\n"
   ]
  },
  {
   "cell_type": "code",
   "execution_count": null,
   "metadata": {},
   "outputs": [],
   "source": [
    "Kyphosis_df[ Kyphosis_df[\"Age\"] == Kyphosis_df[\"Age\"].min() ]"
   ]
  },
  {
   "cell_type": "markdown",
   "metadata": {
    "id": "kpg11qG_GAOJ"
   },
   "source": [
    "# PRACTICE OPPORTUNITIES SOLUTIONS"
   ]
  },
  {
   "cell_type": "markdown",
   "metadata": {},
   "source": [
    "**PRACTICE OPPORTUNITY #1 SOLUTION:**\n",
    "- **Use any Pandas method to obtain a statistical summary of the data**\n",
    "- **What is the mean, maximum and minimum employee age considered in this study?**"
   ]
  },
  {
   "cell_type": "code",
   "execution_count": null,
   "metadata": {},
   "outputs": [],
   "source": [
    "# Obtain statistical Summary \n",
    "hr_df.describe()\n",
    "\n",
    "# average age = 37 years old\n",
    "# min age = 18\n",
    "# max age = 60"
   ]
  },
  {
   "cell_type": "markdown",
   "metadata": {
    "id": "KqhLWr0eCzuH"
   },
   "source": [
    "**PRACTICE OPPORTUNITY #2 SOLUTION:**\n",
    "- **Calculate the median monthly rate. Use the calculated median values to fill out missing data. Confirm that the process is successful**"
   ]
  },
  {
   "cell_type": "code",
   "execution_count": null,
   "metadata": {
    "colab": {
     "base_uri": "https://localhost:8080/",
     "height": 590
    },
    "executionInfo": {
     "elapsed": 311,
     "status": "ok",
     "timestamp": 1618633185958,
     "user": {
      "displayName": "Stemplicity",
      "photoUrl": "https://lh3.googleusercontent.com/a-/AOh14Gj2vCFt-bD5mPBhUWX0QA6xiBgoXQXtwUm2jgjaCg=s64",
      "userId": "10668071569687886186"
     },
     "user_tz": 240
    },
    "id": "-VhsC46XDZou",
    "outputId": "ecfef7ba-2443-4b98-ca49-0f7cf59c5a22"
   },
   "outputs": [],
   "source": [
    "# Let's read a CSV file using Pandas as follows\n",
    "employee_df = pd.read_csv('Human_Resources.csv')\n",
    "employee_df"
   ]
  },
  {
   "cell_type": "code",
   "execution_count": null,
   "metadata": {
    "colab": {
     "base_uri": "https://localhost:8080/"
    },
    "executionInfo": {
     "elapsed": 263,
     "status": "ok",
     "timestamp": 1618633274542,
     "user": {
      "displayName": "Stemplicity",
      "photoUrl": "https://lh3.googleusercontent.com/a-/AOh14Gj2vCFt-bD5mPBhUWX0QA6xiBgoXQXtwUm2jgjaCg=s64",
      "userId": "10668071569687886186"
     },
     "user_tz": 240
    },
    "id": "N1d-8D4QDkd2",
    "outputId": "95db80d7-d1da-4d70-a620-aa9075604c47"
   },
   "outputs": [],
   "source": [
    "# first, let's locate rows that have Null values\n",
    "employee_df.isnull().sum()"
   ]
  },
  {
   "cell_type": "code",
   "execution_count": null,
   "metadata": {
    "colab": {
     "base_uri": "https://localhost:8080/"
    },
    "executionInfo": {
     "elapsed": 287,
     "status": "ok",
     "timestamp": 1618633210343,
     "user": {
      "displayName": "Stemplicity",
      "photoUrl": "https://lh3.googleusercontent.com/a-/AOh14Gj2vCFt-bD5mPBhUWX0QA6xiBgoXQXtwUm2jgjaCg=s64",
      "userId": "10668071569687886186"
     },
     "user_tz": 240
    },
    "id": "WghecEfHDT8V",
    "outputId": "0036acd3-c981-4171-c324-543d78b7f1bf"
   },
   "outputs": [],
   "source": [
    "# Calculate the average monthly income\n",
    "employee_df['MonthlyRate'].median()"
   ]
  },
  {
   "cell_type": "code",
   "execution_count": null,
   "metadata": {
    "id": "6lP1tpSqDY7l"
   },
   "outputs": [],
   "source": [
    "# You can use Fillna to fill a given column with a certain value\n",
    "employee_df['MonthlyRate'].fillna(employee_df['MonthlyRate'].median(), inplace = True)\n"
   ]
  },
  {
   "cell_type": "code",
   "execution_count": null,
   "metadata": {
    "colab": {
     "base_uri": "https://localhost:8080/",
     "height": 590
    },
    "executionInfo": {
     "elapsed": 332,
     "status": "ok",
     "timestamp": 1618633244149,
     "user": {
      "displayName": "Stemplicity",
      "photoUrl": "https://lh3.googleusercontent.com/a-/AOh14Gj2vCFt-bD5mPBhUWX0QA6xiBgoXQXtwUm2jgjaCg=s64",
      "userId": "10668071569687886186"
     },
     "user_tz": 240
    },
    "id": "38IME-_ODY-k",
    "outputId": "a758ee2b-7bbc-4369-ade5-152eec6b7349"
   },
   "outputs": [],
   "source": [
    "employee_df"
   ]
  },
  {
   "cell_type": "code",
   "execution_count": null,
   "metadata": {
    "colab": {
     "base_uri": "https://localhost:8080/"
    },
    "executionInfo": {
     "elapsed": 247,
     "status": "ok",
     "timestamp": 1618633280442,
     "user": {
      "displayName": "Stemplicity",
      "photoUrl": "https://lh3.googleusercontent.com/a-/AOh14Gj2vCFt-bD5mPBhUWX0QA6xiBgoXQXtwUm2jgjaCg=s64",
      "userId": "10668071569687886186"
     },
     "user_tz": 240
    },
    "id": "Ns6P1_a-D8P_",
    "outputId": "1fb0cdb3-c0c7-4fc1-f488-ea609a3fc532"
   },
   "outputs": [],
   "source": [
    "# first, let's locate rows that have Null values\n",
    "employee_df.isnull().sum()"
   ]
  },
  {
   "cell_type": "markdown",
   "metadata": {
    "id": "uFYdrl9-Eji4"
   },
   "source": [
    "**PRACTICE OPPORTUNITY #3 SOLUTION:**\n",
    "- **Convert the BusinessTravel column to category format.** \n",
    "- **How many KBytes in memory have been saved?**"
   ]
  },
  {
   "cell_type": "code",
   "execution_count": null,
   "metadata": {
    "colab": {
     "base_uri": "https://localhost:8080/"
    },
    "executionInfo": {
     "elapsed": 344,
     "status": "ok",
     "timestamp": 1618633532877,
     "user": {
      "displayName": "Stemplicity",
      "photoUrl": "https://lh3.googleusercontent.com/a-/AOh14Gj2vCFt-bD5mPBhUWX0QA6xiBgoXQXtwUm2jgjaCg=s64",
      "userId": "10668071569687886186"
     },
     "user_tz": 240
    },
    "id": "Eew-jmayE1GV",
    "outputId": "d1343bb2-0597-4db3-e6ec-cb8ad00f0384"
   },
   "outputs": [],
   "source": [
    "# Let's read a CSV file using Pandas as follows\n",
    "employee_df = pd.read_csv('Human_Resources.csv')\n",
    "employee_df.info()"
   ]
  },
  {
   "cell_type": "code",
   "execution_count": null,
   "metadata": {
    "colab": {
     "base_uri": "https://localhost:8080/"
    },
    "executionInfo": {
     "elapsed": 657,
     "status": "ok",
     "timestamp": 1618633538093,
     "user": {
      "displayName": "Stemplicity",
      "photoUrl": "https://lh3.googleusercontent.com/a-/AOh14Gj2vCFt-bD5mPBhUWX0QA6xiBgoXQXtwUm2jgjaCg=s64",
      "userId": "10668071569687886186"
     },
     "user_tz": 240
    },
    "id": "WpoFZeCt_g0c",
    "outputId": "5189a9ae-a231-4f6c-a7ed-39fb9b52117e"
   },
   "outputs": [],
   "source": [
    "employee_df[\"BusinessTravel\"] = employee_df['BusinessTravel'].astype(\"category\")\n",
    "employee_df.info()"
   ]
  },
  {
   "cell_type": "code",
   "execution_count": null,
   "metadata": {
    "id": "ZYcKNjwvE8G9"
   },
   "outputs": [],
   "source": [
    "# 402.1+ KB vs. 392.1+ KB "
   ]
  },
  {
   "cell_type": "markdown",
   "metadata": {},
   "source": [
    "**PRACTICE OPPORTUNITY #4 SOLUTION:**\n",
    "- **Define a function that doubles the DailyRate and adds $100. Note that you need to load the original data again.**\n",
    "- **Apply the function to the DataFrame**\n",
    "- **Calculate the updated total Daily Rate of all employees combined**"
   ]
  },
  {
   "cell_type": "code",
   "execution_count": null,
   "metadata": {},
   "outputs": [],
   "source": [
    "# Let's read a CSV file using Pandas as follows\n",
    "hr_df = pd.read_csv('Human_Resources.csv')\n",
    "hr_df"
   ]
  },
  {
   "cell_type": "code",
   "execution_count": null,
   "metadata": {
    "executionInfo": {
     "elapsed": 313,
     "status": "ok",
     "timestamp": 1618632159092,
     "user": {
      "displayName": "Stemplicity",
      "photoUrl": "https://lh3.googleusercontent.com/a-/AOh14Gj2vCFt-bD5mPBhUWX0QA6xiBgoXQXtwUm2jgjaCg=s64",
      "userId": "10668071569687886186"
     },
     "user_tz": 240
    },
    "id": "S8O56b_W6PYk"
   },
   "outputs": [],
   "source": [
    "def dailyrate_update(balance):\n",
    "    return balance * 2 + 100 # assume that stock prices increased by 10%"
   ]
  },
  {
   "cell_type": "code",
   "execution_count": null,
   "metadata": {},
   "outputs": [],
   "source": [
    "# You can apply a function to the DataFrame \n",
    "hr_df['DailyRate'] = hr_df['DailyRate'].apply(dailyrate_update)\n",
    "hr_df"
   ]
  },
  {
   "cell_type": "code",
   "execution_count": null,
   "metadata": {
    "colab": {
     "base_uri": "https://localhost:8080/"
    },
    "executionInfo": {
     "elapsed": 270,
     "status": "ok",
     "timestamp": 1618632170835,
     "user": {
      "displayName": "Stemplicity",
      "photoUrl": "https://lh3.googleusercontent.com/a-/AOh14Gj2vCFt-bD5mPBhUWX0QA6xiBgoXQXtwUm2jgjaCg=s64",
      "userId": "10668071569687886186"
     },
     "user_tz": 240
    },
    "id": "r2crG2yx6PYt",
    "outputId": "b2e53252-cfab-4cd2-dd73-b5d65fba947e"
   },
   "outputs": [],
   "source": [
    "# You can apply a function to the DataFrame \n",
    "results = hr_df['DailyRate'].apply(dailyrate_update)\n",
    "results"
   ]
  },
  {
   "cell_type": "code",
   "execution_count": null,
   "metadata": {
    "colab": {
     "base_uri": "https://localhost:8080/"
    },
    "executionInfo": {
     "elapsed": 815,
     "status": "ok",
     "timestamp": 1618632172358,
     "user": {
      "displayName": "Stemplicity",
      "photoUrl": "https://lh3.googleusercontent.com/a-/AOh14Gj2vCFt-bD5mPBhUWX0QA6xiBgoXQXtwUm2jgjaCg=s64",
      "userId": "10668071569687886186"
     },
     "user_tz": 240
    },
    "id": "SAzpFD5Y6PY1",
    "outputId": "ea837078-5ed7-43e0-bc1b-45057d6da09e"
   },
   "outputs": [],
   "source": [
    "results.sum()"
   ]
  },
  {
   "cell_type": "code",
   "execution_count": null,
   "metadata": {},
   "outputs": [],
   "source": []
  },
  {
   "cell_type": "markdown",
   "metadata": {
    "id": "qN1gAggk4QvE"
   },
   "source": [
    "**PRACTICE OPPORTUNITY #5 SOLUTION:**\n",
    "- **Using \"hr_df\" DataFrame, leverage pandas operations to only select high DailyRate individuals (1450+)** \n",
    "- **What is the combined Daily Rate for all employees with 1450+?**"
   ]
  },
  {
   "cell_type": "code",
   "execution_count": null,
   "metadata": {
    "colab": {
     "base_uri": "https://localhost:8080/",
     "height": 136
    },
    "executionInfo": {
     "elapsed": 254,
     "status": "ok",
     "timestamp": 1618632542379,
     "user": {
      "displayName": "Stemplicity",
      "photoUrl": "https://lh3.googleusercontent.com/a-/AOh14Gj2vCFt-bD5mPBhUWX0QA6xiBgoXQXtwUm2jgjaCg=s64",
      "userId": "10668071569687886186"
     },
     "user_tz": 240
    },
    "id": "CSN32b-o4QvG",
    "outputId": "56aac3a1-1fbe-476a-df68-dcfeee31f511"
   },
   "outputs": [],
   "source": [
    "high_rate_df = hr_df[ (hr_df['DailyRate'] >= 1450) ]\n",
    "high_rate_df"
   ]
  },
  {
   "cell_type": "code",
   "execution_count": null,
   "metadata": {
    "colab": {
     "base_uri": "https://localhost:8080/"
    },
    "executionInfo": {
     "elapsed": 273,
     "status": "ok",
     "timestamp": 1618632549765,
     "user": {
      "displayName": "Stemplicity",
      "photoUrl": "https://lh3.googleusercontent.com/a-/AOh14Gj2vCFt-bD5mPBhUWX0QA6xiBgoXQXtwUm2jgjaCg=s64",
      "userId": "10668071569687886186"
     },
     "user_tz": 240
    },
    "id": "8x2FQdmp4QvN",
    "outputId": "bb185b88-c8bd-461d-8216-f67841134ac5"
   },
   "outputs": [],
   "source": [
    "high_rate_df['DailyRate'].sum()"
   ]
  },
  {
   "cell_type": "markdown",
   "metadata": {},
   "source": [
    "**PRACTICE OPPORTUNITY #6 SOLUTION:**\n",
    "- **Filter the hr_df to only include the employees who stayed in the company**\n",
    "- **Generate statistical summary for employees who stayed**\n",
    "- **Compare both statistical summaries. What do you infer from the data?**"
   ]
  },
  {
   "cell_type": "code",
   "execution_count": null,
   "metadata": {},
   "outputs": [],
   "source": [
    "stayed_df = hr_df[hr_df['Attrition'] == 'No']\n"
   ]
  },
  {
   "cell_type": "code",
   "execution_count": null,
   "metadata": {},
   "outputs": [],
   "source": [
    "# View employees who stayed\n",
    "stayed_df"
   ]
  },
  {
   "cell_type": "code",
   "execution_count": null,
   "metadata": {},
   "outputs": [],
   "source": [
    "stayed_df.describe()"
   ]
  },
  {
   "cell_type": "code",
   "execution_count": null,
   "metadata": {},
   "outputs": [],
   "source": [
    "# Let's compare the mean and std of the employees who stayed and left \n",
    "# 'age': mean age of the employees who stayed is higher compared to who left\n",
    "# 'DailyRate': Rate of employees who stayed is higher\n",
    "# 'DistanceFromHome': Employees who stayed live closer to home \n",
    "# 'EnvironmentSatisfaction' & 'JobSatisfaction': Employees who stayed are generally more satisifed with their jobs\n",
    "# 'StockOptionLevel': Employees who stayed tend to have higher stock option level"
   ]
  },
  {
   "cell_type": "markdown",
   "metadata": {},
   "source": [
    "**PRACTICE OPPORTUNITY #7 SOLUTION:**\n",
    "- **Change the color of the heatmap [External Research is Required]**\n",
    "- **Plot only the lower half of the correlation matrix [External Research is Required]**"
   ]
  },
  {
   "cell_type": "code",
   "execution_count": null,
   "metadata": {},
   "outputs": [],
   "source": [
    "np.ones_like(correlations, dtype=bool)"
   ]
  },
  {
   "cell_type": "code",
   "execution_count": null,
   "metadata": {},
   "outputs": [],
   "source": [
    "mask = np.triu(np.ones_like(correlations, dtype=bool))\n",
    "print(mask)"
   ]
  },
  {
   "cell_type": "code",
   "execution_count": null,
   "metadata": {},
   "outputs": [],
   "source": [
    "# sns.set_theme(style=\"white\")\n",
    "import numpy as np\n",
    "\n",
    "correlations = hr_df.corr()\n",
    "\n",
    "# Create a mask\n",
    "# np.triu returns copy of array with upper part of the triangle \n",
    "mask = np.triu(np.ones_like(correlations, dtype=bool))\n",
    "\n",
    "\n",
    "f, ax = plt.subplots(figsize = (20, 20))\n",
    "sns.heatmap(correlations, mask = mask, cmap=\"YlGnBu\", annot = True);"
   ]
  },
  {
   "cell_type": "code",
   "execution_count": null,
   "metadata": {},
   "outputs": [],
   "source": []
  },
  {
   "cell_type": "code",
   "execution_count": null,
   "metadata": {},
   "outputs": [],
   "source": []
  }
 ],
 "metadata": {
  "colab": {
   "authorship_tag": "ABX9TyOhB/EtaVdxmF8OCwGSA3zM",
   "collapsed_sections": [],
   "name": "2. Pandas Fundamentals - DataFrames.ipynb",
   "provenance": [],
   "toc_visible": true
  },
  "instance_type": "ml.t3.medium",
  "kernelspec": {
   "display_name": "Python 3 (Data Science)",
   "language": "python",
   "name": "python3__SAGEMAKER_INTERNAL__arn:aws:sagemaker:us-east-1:081325390199:image/datascience-1.0"
  },
  "language_info": {
   "codemirror_mode": {
    "name": "ipython",
    "version": 3
   },
   "file_extension": ".py",
   "mimetype": "text/x-python",
   "name": "python",
   "nbconvert_exporter": "python",
   "pygments_lexer": "ipython3",
   "version": "3.7.10"
  }
 },
 "nbformat": 4,
 "nbformat_minor": 4
}
