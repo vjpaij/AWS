{
 "cells": [
  {
   "cell_type": "markdown",
   "metadata": {
    "id": "SFN66X63c2RL"
   },
   "source": [
    "# CODING TASK #1. PLOT BASIC SINGLE LINE PLOTS USING MATPLOTLIB"
   ]
  },
  {
   "cell_type": "code",
   "execution_count": null,
   "metadata": {
    "executionInfo": {
     "elapsed": 395,
     "status": "ok",
     "timestamp": 1621300914148,
     "user": {
      "displayName": "Stemplicity",
      "photoUrl": "https://lh3.googleusercontent.com/a-/AOh14Gj2vCFt-bD5mPBhUWX0QA6xiBgoXQXtwUm2jgjaCg=s64",
      "userId": "10668071569687886186"
     },
     "user_tz": 240
    },
    "id": "C7C1-cY2FCWh"
   },
   "outputs": [],
   "source": [
    "# The plot method on Pandas Series and DataFrames is just a simple wrapper around plt.plot():\n",
    "import matplotlib.pyplot as plt\n",
    "import pandas as pd\n",
    "import datetime\n",
    "%matplotlib inline"
   ]
  },
  {
   "cell_type": "code",
   "execution_count": null,
   "metadata": {
    "colab": {
     "base_uri": "https://localhost:8080/",
     "height": 417
    },
    "executionInfo": {
     "elapsed": 454,
     "status": "ok",
     "timestamp": 1621300914382,
     "user": {
      "displayName": "Stemplicity",
      "photoUrl": "https://lh3.googleusercontent.com/a-/AOh14Gj2vCFt-bD5mPBhUWX0QA6xiBgoXQXtwUm2jgjaCg=s64",
      "userId": "10668071569687886186"
     },
     "user_tz": 240
    },
    "id": "BSB1CawNbB7c",
    "outputId": "374d0966-b377-4bad-c6dd-f9a6374f6618"
   },
   "outputs": [],
   "source": [
    "# Use Pandas read_csv to read crypto daily prices (BTC, ETH, and LTC)\n",
    "investments_df = pd.read_csv('crypto_daily_prices.csv')\n",
    "investments_df"
   ]
  },
  {
   "cell_type": "code",
   "execution_count": null,
   "metadata": {
    "colab": {
     "base_uri": "https://localhost:8080/",
     "height": 404
    },
    "executionInfo": {
     "elapsed": 701,
     "status": "ok",
     "timestamp": 1621300914815,
     "user": {
      "displayName": "Stemplicity",
      "photoUrl": "https://lh3.googleusercontent.com/a-/AOh14Gj2vCFt-bD5mPBhUWX0QA6xiBgoXQXtwUm2jgjaCg=s64",
      "userId": "10668071569687886186"
     },
     "user_tz": 240
    },
    "id": "faUG290aLAcq",
    "outputId": "1f293218-4dd1-40c2-97d7-e7f61445e0f1"
   },
   "outputs": [],
   "source": [
    "# Use matplotlib on the Pandas DataFrame to plot the data\n",
    "investments_df.plot(x = 'Date', y = 'BTC-USD Price', label = 'Bitcoin Price', linewidth = 3, figsize = (14, 6));\n",
    "plt.ylabel('Price [$]')\n",
    "plt.title('My First Data Visualization Exercise!')\n",
    "plt.legend(loc = \"upper right\")\n",
    "plt.grid()\n"
   ]
  },
  {
   "cell_type": "markdown",
   "metadata": {
    "id": "Y0xttudVvOVe"
   },
   "source": [
    "**PRACTICE OPPORTUNITY #1 [OPTIONAL]:**\n",
    "- **Plot similar kind of graph for Ethereum instead**\n",
    "- **Change the line color to red**\n"
   ]
  },
  {
   "cell_type": "code",
   "execution_count": null,
   "metadata": {
    "executionInfo": {
     "elapsed": 330,
     "status": "ok",
     "timestamp": 1621300915133,
     "user": {
      "displayName": "Stemplicity",
      "photoUrl": "https://lh3.googleusercontent.com/a-/AOh14Gj2vCFt-bD5mPBhUWX0QA6xiBgoXQXtwUm2jgjaCg=s64",
      "userId": "10668071569687886186"
     },
     "user_tz": 240
    },
    "id": "gF0ZDgDquH7g"
   },
   "outputs": [],
   "source": []
  },
  {
   "cell_type": "markdown",
   "metadata": {
    "id": "BTQLC7N3hXFP"
   },
   "source": [
    "# CODING TASK #2. PLOT MULTIPLE LINE PLOTS USING MATPLOTLIB"
   ]
  },
  {
   "cell_type": "code",
   "execution_count": null,
   "metadata": {
    "colab": {
     "base_uri": "https://localhost:8080/",
     "height": 417
    },
    "executionInfo": {
     "elapsed": 267,
     "status": "ok",
     "timestamp": 1621300921211,
     "user": {
      "displayName": "Stemplicity",
      "photoUrl": "https://lh3.googleusercontent.com/a-/AOh14Gj2vCFt-bD5mPBhUWX0QA6xiBgoXQXtwUm2jgjaCg=s64",
      "userId": "10668071569687886186"
     },
     "user_tz": 240
    },
    "id": "iYVKxTiuwDGt",
    "outputId": "3638957c-d6ae-4e33-b1aa-b4f5ac215150"
   },
   "outputs": [],
   "source": [
    "# Use Pandas read_csv to read crypto daily prices (BTC, ETH, and LTC)\n",
    "investments_df = pd.read_csv('crypto_daily_prices.csv')\n",
    "investments_df"
   ]
  },
  {
   "cell_type": "code",
   "execution_count": null,
   "metadata": {
    "colab": {
     "base_uri": "https://localhost:8080/",
     "height": 404
    },
    "executionInfo": {
     "elapsed": 1058,
     "status": "ok",
     "timestamp": 1621300922332,
     "user": {
      "displayName": "Stemplicity",
      "photoUrl": "https://lh3.googleusercontent.com/a-/AOh14Gj2vCFt-bD5mPBhUWX0QA6xiBgoXQXtwUm2jgjaCg=s64",
      "userId": "10668071569687886186"
     },
     "user_tz": 240
    },
    "id": "GCnCE99wNCQ4",
    "outputId": "089f3d9f-ef3e-4025-bbc5-83693fd557de"
   },
   "outputs": [],
   "source": [
    "investments_df.plot(x = 'Date', y = [ 'BTC-USD Price', 'ETH-USD Price'], linewidth = 2, figsize = (14,6))\n",
    "plt.ylabel('Price')\n",
    "plt.title('Crypto Prices')\n",
    "plt.grid()"
   ]
  },
  {
   "cell_type": "markdown",
   "metadata": {
    "id": "nKG-vN82xjmM"
   },
   "source": [
    "**PRACTICE OPPORTUNITY #2 [OPTIONAL]:**\n",
    "- **Add Litecoin (LTC) to the list and plot similar kind of graph showing all three crypto currencies**"
   ]
  },
  {
   "cell_type": "code",
   "execution_count": null,
   "metadata": {
    "executionInfo": {
     "elapsed": 275,
     "status": "ok",
     "timestamp": 1621300924432,
     "user": {
      "displayName": "Stemplicity",
      "photoUrl": "https://lh3.googleusercontent.com/a-/AOh14Gj2vCFt-bD5mPBhUWX0QA6xiBgoXQXtwUm2jgjaCg=s64",
      "userId": "10668071569687886186"
     },
     "user_tz": 240
    },
    "id": "kLEf2o_kBPLs"
   },
   "outputs": [],
   "source": []
  },
  {
   "cell_type": "markdown",
   "metadata": {
    "id": "LMec3MtVhj7U"
   },
   "source": [
    "# CODING TASK #3. PLOT SUBPLOTS USING MATPLOTLIB"
   ]
  },
  {
   "cell_type": "code",
   "execution_count": null,
   "metadata": {
    "colab": {
     "base_uri": "https://localhost:8080/",
     "height": 1000
    },
    "executionInfo": {
     "elapsed": 1402,
     "status": "ok",
     "timestamp": 1621300926286,
     "user": {
      "displayName": "Stemplicity",
      "photoUrl": "https://lh3.googleusercontent.com/a-/AOh14Gj2vCFt-bD5mPBhUWX0QA6xiBgoXQXtwUm2jgjaCg=s64",
      "userId": "10668071569687886186"
     },
     "user_tz": 240
    },
    "id": "siaEQI_wDmiz",
    "outputId": "f89e51db-b3a3-4d10-faf8-1a8956099520"
   },
   "outputs": [],
   "source": [
    "investments_df.plot(x = 'Date', title = 'Crypto Prices', subplots = True, grid = True, figsize = (15, 25));"
   ]
  },
  {
   "cell_type": "markdown",
   "metadata": {
    "id": "meowkWtuFOtf"
   },
   "source": [
    "**PRACTICE OPPORTUNITY #3 [OPTIONAL]:**\n",
    "- **Try to set subplots = False and examine the output.** "
   ]
  },
  {
   "cell_type": "code",
   "execution_count": null,
   "metadata": {
    "id": "GDHQa9gB1Ou8"
   },
   "outputs": [],
   "source": []
  },
  {
   "cell_type": "markdown",
   "metadata": {
    "id": "Zt75d5cadpZI"
   },
   "source": [
    "# CODING TASK #4. PLOT SCATTERPLOTS USING MATPLOTLIB"
   ]
  },
  {
   "cell_type": "code",
   "execution_count": null,
   "metadata": {
    "colab": {
     "base_uri": "https://localhost:8080/",
     "height": 417
    },
    "executionInfo": {
     "elapsed": 309,
     "status": "ok",
     "timestamp": 1621300931979,
     "user": {
      "displayName": "Stemplicity",
      "photoUrl": "https://lh3.googleusercontent.com/a-/AOh14Gj2vCFt-bD5mPBhUWX0QA6xiBgoXQXtwUm2jgjaCg=s64",
      "userId": "10668071569687886186"
     },
     "user_tz": 240
    },
    "id": "zW1BYqO9nQ2r",
    "outputId": "ac18322d-7772-40b5-cb6d-05efd7d54ed3"
   },
   "outputs": [],
   "source": [
    "# Read daily return data using pandas\n",
    "\n",
    "daily_return_df = pd.read_csv('crypto_daily_returns.csv')\n",
    "daily_return_df"
   ]
  },
  {
   "cell_type": "code",
   "execution_count": null,
   "metadata": {
    "colab": {
     "base_uri": "https://localhost:8080/",
     "height": 459
    },
    "executionInfo": {
     "elapsed": 463,
     "status": "ok",
     "timestamp": 1621300933735,
     "user": {
      "displayName": "Stemplicity",
      "photoUrl": "https://lh3.googleusercontent.com/a-/AOh14Gj2vCFt-bD5mPBhUWX0QA6xiBgoXQXtwUm2jgjaCg=s64",
      "userId": "10668071569687886186"
     },
     "user_tz": 240
    },
    "id": "4hibfAhv6U0c",
    "outputId": "508c4ce5-4447-436b-bbeb-f1f6966dcb19"
   },
   "outputs": [],
   "source": [
    "# Plot Daily returns of BTC vs. ETH\n",
    "daily_return_df.plot.scatter('BTC', 'ETH', grid = True, figsize = (12, 7));"
   ]
  },
  {
   "cell_type": "markdown",
   "metadata": {
    "id": "0x1qk01f7PJJ"
   },
   "source": [
    "**PRACTICE OPPORTUNITY #4 [OPTIONAL]:**\n",
    "- **Plot the daily returns of BTC vs. LTC**"
   ]
  },
  {
   "cell_type": "code",
   "execution_count": null,
   "metadata": {
    "id": "0kSyyI3m7afX"
   },
   "outputs": [],
   "source": []
  },
  {
   "cell_type": "markdown",
   "metadata": {
    "id": "b-NkBddLe3IK"
   },
   "source": [
    "# CODING TASK #5. PLOT PIE CHARTS USING MATPLOTLIB"
   ]
  },
  {
   "cell_type": "code",
   "execution_count": null,
   "metadata": {
    "executionInfo": {
     "elapsed": 252,
     "status": "ok",
     "timestamp": 1621300950004,
     "user": {
      "displayName": "Stemplicity",
      "photoUrl": "https://lh3.googleusercontent.com/a-/AOh14Gj2vCFt-bD5mPBhUWX0QA6xiBgoXQXtwUm2jgjaCg=s64",
      "userId": "10668071569687886186"
     },
     "user_tz": 240
    },
    "id": "ka7khMpVqeL6"
   },
   "outputs": [],
   "source": [
    "# Define a dictionary with all crypto allocation in a portfolio\n",
    "# Note that total summation = 100% \n",
    "my_dict =  {'allocation %': [20, 55, 5, 17, 3]}"
   ]
  },
  {
   "cell_type": "code",
   "execution_count": null,
   "metadata": {
    "colab": {
     "base_uri": "https://localhost:8080/",
     "height": 203
    },
    "executionInfo": {
     "elapsed": 662,
     "status": "ok",
     "timestamp": 1621300950731,
     "user": {
      "displayName": "Stemplicity",
      "photoUrl": "https://lh3.googleusercontent.com/a-/AOh14Gj2vCFt-bD5mPBhUWX0QA6xiBgoXQXtwUm2jgjaCg=s64",
      "userId": "10668071569687886186"
     },
     "user_tz": 240
    },
    "id": "TeeApAttqShU",
    "outputId": "27d65141-d845-49ec-8fd6-6fe99e653382"
   },
   "outputs": [],
   "source": [
    "crypto_df = pd.DataFrame(data = my_dict, index = ['BTC', 'ETH', 'LTC', 'XRP', 'ADA'])\n",
    "crypto_df"
   ]
  },
  {
   "cell_type": "code",
   "execution_count": null,
   "metadata": {
    "colab": {
     "base_uri": "https://localhost:8080/",
     "height": 499
    },
    "executionInfo": {
     "elapsed": 563,
     "status": "ok",
     "timestamp": 1621300950959,
     "user": {
      "displayName": "Stemplicity",
      "photoUrl": "https://lh3.googleusercontent.com/a-/AOh14Gj2vCFt-bD5mPBhUWX0QA6xiBgoXQXtwUm2jgjaCg=s64",
      "userId": "10668071569687886186"
     },
     "user_tz": 240
    },
    "id": "Hj7erO-_e2ph",
    "outputId": "09d48930-6d09-4fc8-9d65-300510792fc6"
   },
   "outputs": [],
   "source": [
    "# Use matplotlib to plot a pie chart \n",
    "crypto_df.plot.pie(y = 'allocation %', figsize = (8, 8))\n",
    "plt.title('CRYPTO PORTFOLIO PIE CHART')\n"
   ]
  },
  {
   "cell_type": "markdown",
   "metadata": {
    "id": "oph4Rlv48GqA"
   },
   "source": [
    "**PRACTICE OPPORTUNITY #5 [OPTIONAL]:**\n",
    "- **Assume that you became bullish on XRP and decided to allocate 60% of your assets in it. You also decided to equally divide the rest of your assets in other coins (BTC, LTC, ADA, and ETH). Change the allocations and plot the pie chart.**\n",
    "- **Use 'explode' to increase the separation between XRP and the rest of the portfolio (External Research is Required)**"
   ]
  },
  {
   "cell_type": "code",
   "execution_count": null,
   "metadata": {
    "id": "F28db9us-aI8"
   },
   "outputs": [],
   "source": []
  },
  {
   "cell_type": "markdown",
   "metadata": {
    "id": "wmjT_xMffg-X"
   },
   "source": [
    "# CODING TASK #6. PLOT HISTOGRAMS USING MATPLOTLIB"
   ]
  },
  {
   "cell_type": "code",
   "execution_count": null,
   "metadata": {
    "colab": {
     "base_uri": "https://localhost:8080/",
     "height": 417
    },
    "executionInfo": {
     "elapsed": 292,
     "status": "ok",
     "timestamp": 1621300968845,
     "user": {
      "displayName": "Stemplicity",
      "photoUrl": "https://lh3.googleusercontent.com/a-/AOh14Gj2vCFt-bD5mPBhUWX0QA6xiBgoXQXtwUm2jgjaCg=s64",
      "userId": "10668071569687886186"
     },
     "user_tz": 240
    },
    "id": "NH2akC9gfkXZ",
    "outputId": "a7458cfd-955b-4421-dded-c39a6cdcca76"
   },
   "outputs": [],
   "source": [
    "# A histogram represents data using bars with various heights\n",
    "# Each bar groups numbers into specific ranges\n",
    "# Taller bars show that more data falls within that specific range\n",
    "\n",
    "daily_return_df = pd.read_csv('crypto_daily_returns.csv')\n",
    "daily_return_df\n"
   ]
  },
  {
   "cell_type": "code",
   "execution_count": null,
   "metadata": {
    "colab": {
     "base_uri": "https://localhost:8080/",
     "height": 390
    },
    "executionInfo": {
     "elapsed": 726,
     "status": "ok",
     "timestamp": 1621300972338,
     "user": {
      "displayName": "Stemplicity",
      "photoUrl": "https://lh3.googleusercontent.com/a-/AOh14Gj2vCFt-bD5mPBhUWX0QA6xiBgoXQXtwUm2jgjaCg=s64",
      "userId": "10668071569687886186"
     },
     "user_tz": 240
    },
    "id": "j83GZA7s-weq",
    "outputId": "aa340c31-2ec7-423f-a5c9-02a0b86e575c"
   },
   "outputs": [],
   "source": [
    "\n",
    "mu = daily_return_df['BTC'].mean() # mean of distribution\n",
    "sigma = daily_return_df['BTC'].std() # standard deviation of distribution\n",
    " \n",
    "num_bins = 40\n",
    "\n",
    "# Plot the histogram of the returns\n",
    "plt.figure(figsize = (20, 15)) \n",
    "\n",
    "daily_return_df['BTC'].plot.hist(bins = 50, alpha = 0.5, figsize = (12, 6))\n",
    "\n",
    "plt.grid()\n",
    "plt.ylabel('Probability')\n",
    "plt.title('Histogram: mu=' + str(mu) + ', sigma=' +str(sigma));\n",
    " "
   ]
  },
  {
   "cell_type": "markdown",
   "metadata": {
    "id": "9Z44sFNRAxI3"
   },
   "source": [
    "**PRACTICE OPPORTUNITY #6 [OPTIONAL]:**\n",
    "- **Plot the histogram for ETH returns using 30 bins with red color**\n"
   ]
  },
  {
   "cell_type": "code",
   "execution_count": null,
   "metadata": {
    "id": "txAd6ldiacDS"
   },
   "outputs": [],
   "source": []
  },
  {
   "cell_type": "code",
   "execution_count": null,
   "metadata": {},
   "outputs": [],
   "source": []
  },
  {
   "cell_type": "markdown",
   "metadata": {
    "id": "WnhpHVK2bH3s"
   },
   "source": [
    "# CODING TASK #7. PLOT SCATTERPLOT & COUNTPLOT USING SEABORN"
   ]
  },
  {
   "cell_type": "code",
   "execution_count": null,
   "metadata": {},
   "outputs": [],
   "source": [
    "# Updgrade Pandas version\n",
    "!pip3 install seaborn --upgrade"
   ]
  },
  {
   "cell_type": "code",
   "execution_count": null,
   "metadata": {
    "executionInfo": {
     "elapsed": 1282,
     "status": "ok",
     "timestamp": 1621088156392,
     "user": {
      "displayName": "Stemplicity",
      "photoUrl": "https://lh3.googleusercontent.com/a-/AOh14Gj2vCFt-bD5mPBhUWX0QA6xiBgoXQXtwUm2jgjaCg=s64",
      "userId": "10668071569687886186"
     },
     "user_tz": 240
    },
    "id": "2kT8CoYvIEIs"
   },
   "outputs": [],
   "source": [
    "# Seaborn is a visualization library that sits on top of matplotlib\n",
    "# Seaborn offers enhanced features compared to matplotlib\n",
    "# https://seaborn.pydata.org/examples/index.html\n",
    "\n",
    "# import libraries \n",
    "import pandas as pd # Import Pandas for data manipulation using dataframes\n",
    "import numpy as np # Import Numpy for data statistical analysis \n",
    "import matplotlib.pyplot as plt # Import matplotlib for data visualisation\n",
    "import seaborn as sns # Statistical data visualization"
   ]
  },
  {
   "cell_type": "code",
   "execution_count": null,
   "metadata": {
    "executionInfo": {
     "elapsed": 1279,
     "status": "ok",
     "timestamp": 1621088156396,
     "user": {
      "displayName": "Stemplicity",
      "photoUrl": "https://lh3.googleusercontent.com/a-/AOh14Gj2vCFt-bD5mPBhUWX0QA6xiBgoXQXtwUm2jgjaCg=s64",
      "userId": "10668071569687886186"
     },
     "user_tz": 240
    },
    "id": "bUQkwM8IHtlp"
   },
   "outputs": [],
   "source": [
    "# Import Cancer data \n",
    "cancer_df = pd.read_csv('cancer.csv')"
   ]
  },
  {
   "cell_type": "code",
   "execution_count": null,
   "metadata": {
    "colab": {
     "base_uri": "https://localhost:8080/",
     "height": 257
    },
    "executionInfo": {
     "elapsed": 1264,
     "status": "ok",
     "timestamp": 1621088156398,
     "user": {
      "displayName": "Stemplicity",
      "photoUrl": "https://lh3.googleusercontent.com/a-/AOh14Gj2vCFt-bD5mPBhUWX0QA6xiBgoXQXtwUm2jgjaCg=s64",
      "userId": "10668071569687886186"
     },
     "user_tz": 240
    },
    "id": "BCBZU_VQoqIz",
    "outputId": "7a65aca8-839e-4d8a-af20-67aa537d6b29"
   },
   "outputs": [],
   "source": [
    "# Check out the head of the dataframe\n",
    "cancer_df.head(25)"
   ]
  },
  {
   "cell_type": "code",
   "execution_count": null,
   "metadata": {
    "colab": {
     "base_uri": "https://localhost:8080/",
     "height": 257
    },
    "executionInfo": {
     "elapsed": 1730,
     "status": "ok",
     "timestamp": 1621088156872,
     "user": {
      "displayName": "Stemplicity",
      "photoUrl": "https://lh3.googleusercontent.com/a-/AOh14Gj2vCFt-bD5mPBhUWX0QA6xiBgoXQXtwUm2jgjaCg=s64",
      "userId": "10668071569687886186"
     },
     "user_tz": 240
    },
    "id": "8XkZE6jCdfBS",
    "outputId": "cf89ce9b-43dc-4aaf-9c14-d3744ab29db0",
    "scrolled": true
   },
   "outputs": [],
   "source": [
    "# Check out the tail of the dataframe\n",
    "cancer_df.tail()"
   ]
  },
  {
   "cell_type": "code",
   "execution_count": null,
   "metadata": {
    "colab": {
     "base_uri": "https://localhost:8080/",
     "height": 297
    },
    "executionInfo": {
     "elapsed": 1719,
     "status": "ok",
     "timestamp": 1621088156873,
     "user": {
      "displayName": "Stemplicity",
      "photoUrl": "https://lh3.googleusercontent.com/a-/AOh14Gj2vCFt-bD5mPBhUWX0QA6xiBgoXQXtwUm2jgjaCg=s64",
      "userId": "10668071569687886186"
     },
     "user_tz": 240
    },
    "id": "atb9g7nGo1Zf",
    "outputId": "b9c34787-1415-4eed-f7ac-8b7e0af033ab"
   },
   "outputs": [],
   "source": [
    "# Plot scatter plot between mean area and mean smoothness\n",
    "sns.scatterplot(x = 'mean area', y = 'mean smoothness', hue = 'target', data = cancer_df);"
   ]
  },
  {
   "cell_type": "code",
   "execution_count": null,
   "metadata": {},
   "outputs": [],
   "source": [
    "# Plot scatter plot between mean area and mean smoothness\n",
    "sns.scatterplot(x = 'mean area', y = 'mean smoothness',data = cancer_df)"
   ]
  },
  {
   "cell_type": "code",
   "execution_count": null,
   "metadata": {
    "colab": {
     "base_uri": "https://localhost:8080/",
     "height": 351
    },
    "executionInfo": {
     "elapsed": 2034,
     "status": "ok",
     "timestamp": 1621088157195,
     "user": {
      "displayName": "Stemplicity",
      "photoUrl": "https://lh3.googleusercontent.com/a-/AOh14Gj2vCFt-bD5mPBhUWX0QA6xiBgoXQXtwUm2jgjaCg=s64",
      "userId": "10668071569687886186"
     },
     "user_tz": 240
    },
    "id": "rc3p4fBso1XA",
    "outputId": "0af9ffea-128b-471c-9c74-0c6fa9fb3fbb"
   },
   "outputs": [],
   "source": [
    "# Let's print out countplot to know how many samples belong to class #0 and #1\n",
    "sns.countplot(x = cancer_df['target']) "
   ]
  },
  {
   "cell_type": "markdown",
   "metadata": {
    "id": "RIpzECOpcFa5"
   },
   "source": [
    "**PRACTICE OPPORTUNITY #7 [OPTIONAL]:**\n",
    "- **Plot the scatterplot between the mean radius and mean area. Comment on the plot** \n"
   ]
  },
  {
   "cell_type": "code",
   "execution_count": null,
   "metadata": {
    "executionInfo": {
     "elapsed": 2033,
     "status": "ok",
     "timestamp": 1621088157197,
     "user": {
      "displayName": "Stemplicity",
      "photoUrl": "https://lh3.googleusercontent.com/a-/AOh14Gj2vCFt-bD5mPBhUWX0QA6xiBgoXQXtwUm2jgjaCg=s64",
      "userId": "10668071569687886186"
     },
     "user_tz": 240
    },
    "id": "14dehTx3dNAw"
   },
   "outputs": [],
   "source": []
  },
  {
   "cell_type": "markdown",
   "metadata": {
    "id": "Al9AW2YLbezU"
   },
   "source": [
    "# CODING TASK #8. PLOT PAIRPLOT, DISPLOT, AND HEATMAPS/CORRELATIONS USING SEABORN"
   ]
  },
  {
   "cell_type": "code",
   "execution_count": null,
   "metadata": {
    "colab": {
     "base_uri": "https://localhost:8080/",
     "height": 845
    },
    "executionInfo": {
     "elapsed": 17781,
     "status": "ok",
     "timestamp": 1621088172953,
     "user": {
      "displayName": "Stemplicity",
      "photoUrl": "https://lh3.googleusercontent.com/a-/AOh14Gj2vCFt-bD5mPBhUWX0QA6xiBgoXQXtwUm2jgjaCg=s64",
      "userId": "10668071569687886186"
     },
     "user_tz": 240
    },
    "id": "DYsVoE4ko1Up",
    "outputId": "eef7056b-7ae8-4eb8-f4fe-624afcc68300"
   },
   "outputs": [],
   "source": [
    "# Plot the pairplot\n",
    "sns.pairplot(cancer_df, hue = 'target', vars = ['mean radius', 'mean texture', 'mean area', 'mean perimeter', 'mean smoothness'] )"
   ]
  },
  {
   "cell_type": "code",
   "execution_count": null,
   "metadata": {
    "colab": {
     "base_uri": "https://localhost:8080/",
     "height": 547
    },
    "executionInfo": {
     "elapsed": 23187,
     "status": "ok",
     "timestamp": 1621088178366,
     "user": {
      "displayName": "Stemplicity",
      "photoUrl": "https://lh3.googleusercontent.com/a-/AOh14Gj2vCFt-bD5mPBhUWX0QA6xiBgoXQXtwUm2jgjaCg=s64",
      "userId": "10668071569687886186"
     },
     "user_tz": 240
    },
    "id": "u_UzA1GFo1cK",
    "outputId": "124b6e0c-a2c7-4e61-eaa8-790acbe713c5"
   },
   "outputs": [],
   "source": [
    "# Strong correlation between the mean radius and mean perimeter, mean area and mean primeter\n",
    "plt.figure(figsize = (20, 10)) \n",
    "sns.heatmap(cancer_df.corr(), annot = True) "
   ]
  },
  {
   "cell_type": "code",
   "execution_count": null,
   "metadata": {
    "colab": {
     "base_uri": "https://localhost:8080/",
     "height": 351
    },
    "executionInfo": {
     "elapsed": 23470,
     "status": "ok",
     "timestamp": 1621088178657,
     "user": {
      "displayName": "Stemplicity",
      "photoUrl": "https://lh3.googleusercontent.com/a-/AOh14Gj2vCFt-bD5mPBhUWX0QA6xiBgoXQXtwUm2jgjaCg=s64",
      "userId": "10668071569687886186"
     },
     "user_tz": 240
    },
    "id": "m01UPXL9pGsM",
    "outputId": "f6dae31c-b24c-499b-cf72-82141366a43f"
   },
   "outputs": [],
   "source": [
    "# plot the distplot \n",
    "# Displot combines matplotlib histogram function with kdeplot() (Kernel density estimate)\n",
    "# KDE is used to plot the Probability Density of a continuous variable. \n",
    "\n",
    "sns.distplot(x = cancer_df['mean radius'], bins = 5, color = 'blue')"
   ]
  },
  {
   "cell_type": "markdown",
   "metadata": {
    "id": "BlEUElj_gGrm"
   },
   "source": [
    "**PRACTICE OPPORTUNITY #8 [OPTIONAL]:**\n",
    "- **Plot two separate distplot for each target class #0 and target class #1**\n"
   ]
  },
  {
   "cell_type": "code",
   "execution_count": null,
   "metadata": {},
   "outputs": [],
   "source": []
  },
  {
   "cell_type": "markdown",
   "metadata": {
    "executionInfo": {
     "elapsed": 23467,
     "status": "ok",
     "timestamp": 1621088178658,
     "user": {
      "displayName": "Stemplicity",
      "photoUrl": "https://lh3.googleusercontent.com/a-/AOh14Gj2vCFt-bD5mPBhUWX0QA6xiBgoXQXtwUm2jgjaCg=s64",
      "userId": "10668071569687886186"
     },
     "user_tz": 240
    },
    "id": "JPrD3KlngIcb"
   },
   "source": [
    "# FINAL CAPSTONE PROJECT "
   ]
  },
  {
   "cell_type": "markdown",
   "metadata": {},
   "source": [
    "- In this project, we will visualize stock prices using Seaborn and Matplotlib. 3 Stocks are considered including Facebook (FB), Twitter (TWTR) and Netflix (NFLX).\n",
    "- Using the stock_daily_prices.csv and stocks_daily_returns.csv dataset included in the course/workshop package, please do the following:\n",
    "    - Import both datasets using Pandas.\n",
    "    - Using Matplotlib, plot lineplots that display all 3 stocks daily prices on one single figure.\n",
    "    - Using Matplotlib, plot 3 stocks daily prices on multiple subplots.\n",
    "    - Using Matplotlib, plot the 3 plots on subplots next to each other (all figures in one row).\n",
    "    - Using Matplotlib, plot the scatterplot between Facebook and Twitter daily returns. \n",
    "    - Using Seaborn, plot similar scatterplot between Facebook and Twitter daily returns. \n",
    "    - Assume that you now expanded your portfolio to include additional stocks such as Amazon (AMZN) and Google (GOOG). You decided to become bullish on Twitter and you allocated 60% of your assets in it. You also decided to equally divide the rest of your assets in other stocks (AMZN, FB, GOOG, NFLX). Using Matplotlib, plot a pie chart that shows these allocations. Use 'explode’ attribute to increase the separation between TWTR and the rest of the portfolio.\n",
    "    - Using Matplotlib, plot the histogram for FB returns using 40 bins with red color. Display the mean and Standard deviation on top of the figure.\n",
    "    - Using Seaborn, plot a heatmap that shows the correlations between stocks daily returns.\n",
    "    - Plot a 3D plot showing all daily returns from FB, TWTR and NFLX [External Research is required]."
   ]
  },
  {
   "cell_type": "code",
   "execution_count": null,
   "metadata": {},
   "outputs": [],
   "source": []
  },
  {
   "cell_type": "markdown",
   "metadata": {
    "id": "-eqad_xGb8BS"
   },
   "source": [
    "# EXCELLENT JOB!"
   ]
  },
  {
   "cell_type": "markdown",
   "metadata": {
    "id": "VMJPmhSavkhL"
   },
   "source": [
    "# PRACTICE OPPORTUNITY SOLUTIONS"
   ]
  },
  {
   "cell_type": "markdown",
   "metadata": {
    "id": "TT94tYWtpAVV"
   },
   "source": [
    "**PRACTICE OPPORTUNITY #1 SOLUTION:**\n",
    "- **Plot similar kind of graph for Ethereum instead**\n",
    "- **Change the color line to red**\n"
   ]
  },
  {
   "cell_type": "code",
   "execution_count": null,
   "metadata": {
    "colab": {
     "base_uri": "https://localhost:8080/",
     "height": 404
    },
    "executionInfo": {
     "elapsed": 446,
     "status": "ok",
     "timestamp": 1621301091622,
     "user": {
      "displayName": "Stemplicity",
      "photoUrl": "https://lh3.googleusercontent.com/a-/AOh14Gj2vCFt-bD5mPBhUWX0QA6xiBgoXQXtwUm2jgjaCg=s64",
      "userId": "10668071569687886186"
     },
     "user_tz": 240
    },
    "id": "JpFFILwTn0kV",
    "outputId": "46b16d7a-42e3-424e-f124-1286d88f647f"
   },
   "outputs": [],
   "source": [
    "investments_df.plot(x = 'Date', y = 'ETH-USD Price', label = 'ETH Price', linewidth = 3, color = 'r', figsize = (14, 6));\n",
    "plt.ylabel('Price [$]')\n",
    "plt.title('Ethereum Price')\n",
    "plt.legend(loc = \"upper right\")\n",
    "plt.grid()\n"
   ]
  },
  {
   "cell_type": "markdown",
   "metadata": {
    "id": "AUYoz57HwoNv"
   },
   "source": [
    "**PRACTICE OPPORTUNITY #2 SOLUTION:**\n",
    "- **Add Litecoin (LTC) to the list and plot similar kind of graph showing all three currencies**"
   ]
  },
  {
   "cell_type": "code",
   "execution_count": null,
   "metadata": {
    "colab": {
     "base_uri": "https://localhost:8080/",
     "height": 404
    },
    "executionInfo": {
     "elapsed": 844,
     "status": "ok",
     "timestamp": 1621301101780,
     "user": {
      "displayName": "Stemplicity",
      "photoUrl": "https://lh3.googleusercontent.com/a-/AOh14Gj2vCFt-bD5mPBhUWX0QA6xiBgoXQXtwUm2jgjaCg=s64",
      "userId": "10668071569687886186"
     },
     "user_tz": 240
    },
    "id": "fPv6lfa0wpOK",
    "outputId": "d5953096-5aaf-429c-aba2-60639265a98b"
   },
   "outputs": [],
   "source": [
    "investments_df.plot(x = 'Date', y = [ 'BTC-USD Price', 'ETH-USD Price', 'LTC-USD Price'], linewidth = 2, figsize = (14,6))\n",
    "plt.ylabel('Price')\n",
    "plt.title('Crypto Prices')\n",
    "plt.grid()"
   ]
  },
  {
   "cell_type": "markdown",
   "metadata": {
    "id": "LBQUbz_mF2M1"
   },
   "source": [
    "**PRACTICE OPPORTUNITY #3 SOLUTION:**\n",
    "- **Try to set subplots = False and examine the output.** \n",
    "- **Try to set sharey to True and examine the output. What do you infer?**"
   ]
  },
  {
   "cell_type": "code",
   "execution_count": null,
   "metadata": {
    "colab": {
     "base_uri": "https://localhost:8080/",
     "height": 404
    },
    "executionInfo": {
     "elapsed": 651,
     "status": "ok",
     "timestamp": 1621301111185,
     "user": {
      "displayName": "Stemplicity",
      "photoUrl": "https://lh3.googleusercontent.com/a-/AOh14Gj2vCFt-bD5mPBhUWX0QA6xiBgoXQXtwUm2jgjaCg=s64",
      "userId": "10668071569687886186"
     },
     "user_tz": 240
    },
    "id": "X6H4TmRlF4yi",
    "outputId": "fc4ee760-34ca-4c3b-e644-58964186a88c"
   },
   "outputs": [],
   "source": [
    "investments_df.plot(x = 'Date', title = 'Crypto Prices', subplots = False, grid = True, figsize = (14, 6));\n"
   ]
  },
  {
   "cell_type": "markdown",
   "metadata": {
    "id": "KtuAt9kO7maL"
   },
   "source": [
    "**PRACTICE OPPORTUNITY #4 SOLUTION:**\n",
    "- **Plot the daily returns of BTC vs. LTC**"
   ]
  },
  {
   "cell_type": "code",
   "execution_count": null,
   "metadata": {
    "colab": {
     "base_uri": "https://localhost:8080/",
     "height": 459
    },
    "executionInfo": {
     "elapsed": 711,
     "status": "ok",
     "timestamp": 1621301118660,
     "user": {
      "displayName": "Stemplicity",
      "photoUrl": "https://lh3.googleusercontent.com/a-/AOh14Gj2vCFt-bD5mPBhUWX0QA6xiBgoXQXtwUm2jgjaCg=s64",
      "userId": "10668071569687886186"
     },
     "user_tz": 240
    },
    "id": "tJZVfulX7l45",
    "outputId": "42a75686-060e-4748-aeca-435d7e182820"
   },
   "outputs": [],
   "source": [
    "# Plot Daily returns of BTC vs. ETH\n",
    "daily_return_df.plot.scatter('BTC', 'LTC', figsize = (12, 7))"
   ]
  },
  {
   "cell_type": "code",
   "execution_count": null,
   "metadata": {
    "id": "Oag_NM7DF45I"
   },
   "outputs": [],
   "source": []
  },
  {
   "cell_type": "markdown",
   "metadata": {
    "id": "CiT-JPcQ-HGf"
   },
   "source": [
    "**PRACTICE OPPORTUNITY #5 SOLUTION:**\n",
    "- **Assume that you became bullish on XRP and decided to allocate 60% of your assets in it. You also decided to equally divide the rest of your assets in other coins (BTC, LTC, ADA, and ETH). Change the allocations and plot the pie chart.**\n",
    "- **Use 'explode' to increase the separation between BTC and the rest of the portfolio (External Research is Required)**"
   ]
  },
  {
   "cell_type": "code",
   "execution_count": null,
   "metadata": {
    "colab": {
     "base_uri": "https://localhost:8080/",
     "height": 499
    },
    "executionInfo": {
     "elapsed": 439,
     "status": "ok",
     "timestamp": 1621301124620,
     "user": {
      "displayName": "Stemplicity",
      "photoUrl": "https://lh3.googleusercontent.com/a-/AOh14Gj2vCFt-bD5mPBhUWX0QA6xiBgoXQXtwUm2jgjaCg=s64",
      "userId": "10668071569687886186"
     },
     "user_tz": 240
    },
    "id": "0cQ8qjiZ-JBH",
    "outputId": "11ba2c4e-684b-4af8-8c58-6082bb9c7fbb"
   },
   "outputs": [],
   "source": [
    "my_dict =  {'allocation %': [10, 10, 10, 60, 10]}\n",
    "explode = (0, 0, 0, 0.2, 0)  \n",
    "\n",
    "crypto_df = pd.DataFrame(data = my_dict, index = ['BTC', 'ETH', 'LTC', 'XRP', 'ADA'])\n",
    "crypto_df.plot.pie(y = 'allocation %', explode = explode, figsize = (8, 8))\n",
    "\n",
    "plt.title('CRYPTO PORTFOLIO PIE CHART')"
   ]
  },
  {
   "cell_type": "code",
   "execution_count": null,
   "metadata": {
    "id": "qZY9Pc4A-JEV"
   },
   "outputs": [],
   "source": []
  },
  {
   "cell_type": "markdown",
   "metadata": {
    "id": "KbUO6G-WxSWX"
   },
   "source": [
    "**PRACTICE OPPORTUNITY #6 SOLUTION:**\n",
    "- **Plot the histogram for ETH returns using 30 bins with red color**\n"
   ]
  },
  {
   "cell_type": "code",
   "execution_count": null,
   "metadata": {
    "colab": {
     "base_uri": "https://localhost:8080/",
     "height": 390
    },
    "executionInfo": {
     "elapsed": 565,
     "status": "ok",
     "timestamp": 1621301135261,
     "user": {
      "displayName": "Stemplicity",
      "photoUrl": "https://lh3.googleusercontent.com/a-/AOh14Gj2vCFt-bD5mPBhUWX0QA6xiBgoXQXtwUm2jgjaCg=s64",
      "userId": "10668071569687886186"
     },
     "user_tz": 240
    },
    "id": "Q5ZC0deKyAHy",
    "outputId": "085e720b-29bc-4857-fb37-7a8f4bf87683"
   },
   "outputs": [],
   "source": [
    "mu = daily_return_df['ETH'].mean() # mean of distribution\n",
    "sigma = daily_return_df['ETH'].std() # standard deviation of distribution\n",
    " \n",
    "num_bins = 40\n",
    "\n",
    "# Plot the histogram of the returns\n",
    "plt.figure(figsize = (20, 15)) \n",
    "\n",
    "daily_return_df['ETH'].plot.hist(bins = 30, alpha = 0.5, facecolor = 'r', figsize = (12, 6))\n",
    "\n",
    "plt.grid()\n",
    "plt.ylabel('Probability')\n",
    "plt.title('Histogram: mu=' + str(mu) + ', sigma=' +str(sigma));"
   ]
  },
  {
   "cell_type": "code",
   "execution_count": null,
   "metadata": {
    "id": "GJbToa1EdZHP"
   },
   "outputs": [],
   "source": []
  },
  {
   "cell_type": "markdown",
   "metadata": {
    "id": "GTN9KMR7dIWt"
   },
   "source": [
    "**PRACTICE OPPORTUNITY #7 SOLUTION:**\n",
    "- **Plot the scatterplot between the mean radius and mean area. Comment on the plot** \n"
   ]
  },
  {
   "cell_type": "code",
   "execution_count": null,
   "metadata": {
    "colab": {
     "base_uri": "https://localhost:8080/",
     "height": 297
    },
    "executionInfo": {
     "elapsed": 673,
     "status": "ok",
     "timestamp": 1621088187158,
     "user": {
      "displayName": "Stemplicity",
      "photoUrl": "https://lh3.googleusercontent.com/a-/AOh14Gj2vCFt-bD5mPBhUWX0QA6xiBgoXQXtwUm2jgjaCg=s64",
      "userId": "10668071569687886186"
     },
     "user_tz": 240
    },
    "id": "jo00_TzudIWw",
    "outputId": "aa6090ca-1a36-4d37-b58d-cda4446926bd"
   },
   "outputs": [],
   "source": [
    "sns.scatterplot(x = 'mean radius', y = 'mean area', hue = 'target', data = cancer_df)\n",
    "# As mean radius increases, mean area increases \n",
    "# class #0 generally has larger mean radius and mean area compared to class #1"
   ]
  },
  {
   "cell_type": "markdown",
   "metadata": {
    "id": "f5qD9kzIeQZE"
   },
   "source": [
    "**PRACTICE OPPORTUNITY #8 SOLUTION:**\n",
    "- **Plot two separate distplot for each target class #0 and target class #1**\n"
   ]
  },
  {
   "cell_type": "code",
   "execution_count": null,
   "metadata": {
    "executionInfo": {
     "elapsed": 365,
     "status": "ok",
     "timestamp": 1621088211333,
     "user": {
      "displayName": "Stemplicity",
      "photoUrl": "https://lh3.googleusercontent.com/a-/AOh14Gj2vCFt-bD5mPBhUWX0QA6xiBgoXQXtwUm2jgjaCg=s64",
      "userId": "10668071569687886186"
     },
     "user_tz": 240
    },
    "id": "YX0FkgQGfLbC"
   },
   "outputs": [],
   "source": [
    "class_0_df = cancer_df[ cancer_df['target']==0 ]\n",
    "class_1_df = cancer_df[ cancer_df['target']==1 ]"
   ]
  },
  {
   "cell_type": "code",
   "execution_count": null,
   "metadata": {
    "colab": {
     "base_uri": "https://localhost:8080/",
     "height": 470
    },
    "executionInfo": {
     "elapsed": 467,
     "status": "ok",
     "timestamp": 1621088212294,
     "user": {
      "displayName": "Stemplicity",
      "photoUrl": "https://lh3.googleusercontent.com/a-/AOh14Gj2vCFt-bD5mPBhUWX0QA6xiBgoXQXtwUm2jgjaCg=s64",
      "userId": "10668071569687886186"
     },
     "user_tz": 240
    },
    "id": "D1DTuyaIfX-e",
    "outputId": "49ff6569-9b97-479c-de41-030d1da0bef4"
   },
   "outputs": [],
   "source": [
    "class_0_df"
   ]
  },
  {
   "cell_type": "code",
   "execution_count": null,
   "metadata": {
    "colab": {
     "base_uri": "https://localhost:8080/",
     "height": 470
    },
    "executionInfo": {
     "elapsed": 498,
     "status": "ok",
     "timestamp": 1621088212893,
     "user": {
      "displayName": "Stemplicity",
      "photoUrl": "https://lh3.googleusercontent.com/a-/AOh14Gj2vCFt-bD5mPBhUWX0QA6xiBgoXQXtwUm2jgjaCg=s64",
      "userId": "10668071569687886186"
     },
     "user_tz": 240
    },
    "id": "cftPJApPfaUm",
    "outputId": "25c520de-54c1-4c2f-91a3-daa0aeab9b54"
   },
   "outputs": [],
   "source": [
    "class_1_df"
   ]
  },
  {
   "cell_type": "code",
   "execution_count": null,
   "metadata": {
    "colab": {
     "base_uri": "https://localhost:8080/",
     "height": 549
    },
    "executionInfo": {
     "elapsed": 1497,
     "status": "ok",
     "timestamp": 1621088217372,
     "user": {
      "displayName": "Stemplicity",
      "photoUrl": "https://lh3.googleusercontent.com/a-/AOh14Gj2vCFt-bD5mPBhUWX0QA6xiBgoXQXtwUm2jgjaCg=s64",
      "userId": "10668071569687886186"
     },
     "user_tz": 240
    },
    "id": "hN10mhlzefSO",
    "outputId": "96013a15-8884-47ef-a3e3-536e4baa5210"
   },
   "outputs": [],
   "source": [
    "# Plot the distplot for both classes\n",
    "plt.figure(figsize=(10, 7))\n",
    "sns.distplot(class_0_df['mean radius'], bins = 25, color = 'blue')\n",
    "sns.distplot(class_1_df['mean radius'], bins = 25, color = 'red')\n",
    "# plt.grid()"
   ]
  },
  {
   "cell_type": "code",
   "execution_count": null,
   "metadata": {},
   "outputs": [],
   "source": []
  },
  {
   "cell_type": "markdown",
   "metadata": {},
   "source": [
    "# FINAL CAPSTONE PROJECT SOLUTION"
   ]
  },
  {
   "cell_type": "code",
   "execution_count": null,
   "metadata": {
    "colab": {
     "base_uri": "https://localhost:8080/",
     "height": 417
    },
    "executionInfo": {
     "elapsed": 971,
     "status": "ok",
     "timestamp": 1621301153692,
     "user": {
      "displayName": "Stemplicity",
      "photoUrl": "https://lh3.googleusercontent.com/a-/AOh14Gj2vCFt-bD5mPBhUWX0QA6xiBgoXQXtwUm2jgjaCg=s64",
      "userId": "10668071569687886186"
     },
     "user_tz": 240
    },
    "id": "dkmBt3thej9L",
    "outputId": "9366b2cc-b8d8-47f4-ed58-44f294815a96"
   },
   "outputs": [],
   "source": [
    "stocks_df = pd.read_csv('stock_daily_prices.csv')\n",
    "stocks_df"
   ]
  },
  {
   "cell_type": "code",
   "execution_count": null,
   "metadata": {},
   "outputs": [],
   "source": [
    "# Read daily return data using pandas\n",
    "daily_return_df = pd.read_csv('stocks_daily_returns.csv')\n",
    "daily_return_df"
   ]
  },
  {
   "cell_type": "code",
   "execution_count": null,
   "metadata": {
    "colab": {
     "base_uri": "https://localhost:8080/",
     "height": 513
    },
    "executionInfo": {
     "elapsed": 663,
     "status": "ok",
     "timestamp": 1621301156461,
     "user": {
      "displayName": "Stemplicity",
      "photoUrl": "https://lh3.googleusercontent.com/a-/AOh14Gj2vCFt-bD5mPBhUWX0QA6xiBgoXQXtwUm2jgjaCg=s64",
      "userId": "10668071569687886186"
     },
     "user_tz": 240
    },
    "id": "U3CZvXYzOVvs",
    "outputId": "5e3a950c-cd1b-4061-b266-eb60fa051968"
   },
   "outputs": [],
   "source": [
    "stocks_df.plot(x = 'Date', y = ['FB', 'TWTR', 'NFLX'], linewidth = 3, figsize = (12, 8))\n",
    "plt.ylabel('Price')\n",
    "plt.title('Stock Prices')\n",
    "plt.legend(loc = \"upper center\")\n",
    "plt.grid()"
   ]
  },
  {
   "cell_type": "code",
   "execution_count": null,
   "metadata": {
    "colab": {
     "base_uri": "https://localhost:8080/",
     "height": 498
    },
    "executionInfo": {
     "elapsed": 1448,
     "status": "ok",
     "timestamp": 1621301160597,
     "user": {
      "displayName": "Stemplicity",
      "photoUrl": "https://lh3.googleusercontent.com/a-/AOh14Gj2vCFt-bD5mPBhUWX0QA6xiBgoXQXtwUm2jgjaCg=s64",
      "userId": "10668071569687886186"
     },
     "user_tz": 240
    },
    "id": "Kr64wKyNuMUG",
    "outputId": "e4adc305-c58e-4cdf-e9ff-51d497d5ffd3"
   },
   "outputs": [],
   "source": [
    "stocks_df.plot(x = 'Date', y = ['FB', 'TWTR', 'NFLX'], subplots = True, grid = True, linewidth = 3, figsize = (12, 8))\n",
    "plt.ylabel('Price')\n",
    "plt.title('Stock Prices')\n",
    "plt.legend(loc = \"upper center\")\n"
   ]
  },
  {
   "cell_type": "code",
   "execution_count": null,
   "metadata": {},
   "outputs": [],
   "source": [
    "plt.figure(figsize = (20, 10))\n",
    "\n",
    "plt.subplot(1, 3, 1)\n",
    "plt.plot(stocks_df['NFLX'], 'r--');\n",
    "plt.grid()\n",
    "\n",
    "plt.subplot(1, 3, 2)\n",
    "plt.plot(stocks_df['FB'], 'b.');\n",
    "plt.grid()\n",
    "\n",
    "\n",
    "plt.subplot(1, 3, 3)\n",
    "plt.plot(stocks_df['TWTR'], 'g.');\n",
    "plt.grid()"
   ]
  },
  {
   "cell_type": "code",
   "execution_count": null,
   "metadata": {},
   "outputs": [],
   "source": [
    "X = daily_return_df['FB']\n",
    "Y = daily_return_df['TWTR']\n",
    "plt.figure(figsize = (15, 10))\n",
    "plt.scatter(X, Y);\n",
    "plt.grid()"
   ]
  },
  {
   "cell_type": "code",
   "execution_count": null,
   "metadata": {},
   "outputs": [],
   "source": [
    "plt.figure(figsize = (15, 8))\n",
    "sns.scatterplot(x = 'FB', y = 'TWTR', data = daily_return_df);\n",
    "plt.grid()"
   ]
  },
  {
   "cell_type": "code",
   "execution_count": null,
   "metadata": {},
   "outputs": [],
   "source": [
    "values  = [10, 60, 10, 10, 10]\n",
    "colors  = ['g', 'r', 'y', 'b', 'm']\n",
    "explode = [0, 0.2, 0, 0, 0]\n",
    "labels  = ['FB', 'TWTR', 'NFLX', 'GOOG', 'AMZN']\n",
    "\n",
    "# Use matplotlib to plot a pie chart \n",
    "plt.figure(figsize = (10, 10))\n",
    "plt.pie(values, colors = colors, labels = labels, explode = explode)\n",
    "plt.title('STOCK PORTFOLIO')\n",
    "plt.show()"
   ]
  },
  {
   "cell_type": "code",
   "execution_count": null,
   "metadata": {},
   "outputs": [],
   "source": [
    "# A histogram represents data using bars of various heights. \n",
    "# Each bar groups numbers into specific ranges. \n",
    "# Taller bars show that more data falls within that specific range.\n",
    "\n",
    "mu = daily_return_df['FB'].mean() # mean of distribution\n",
    "sigma = daily_return_df['FB'].std() # standard deviation of distribution\n",
    " \n",
    "num_bins = 40\n",
    "\n",
    "# Plot the histogram of the returns\n",
    "plt.figure(figsize = (15, 9)) \n",
    "plt.hist(daily_return_df['FB'], num_bins, facecolor = 'red');\n",
    "plt.grid()\n",
    "plt.ylabel('Probability')\n",
    "plt.title('Histogram: mu = ' + str(mu) + ', sigma = ' +str(sigma));\n",
    " "
   ]
  },
  {
   "cell_type": "code",
   "execution_count": null,
   "metadata": {},
   "outputs": [],
   "source": [
    "plt.figure(figsize = (12, 10))\n",
    "cm = daily_return_df.corr()\n",
    "sns.heatmap(cm, annot = True)"
   ]
  },
  {
   "cell_type": "code",
   "execution_count": null,
   "metadata": {},
   "outputs": [],
   "source": [
    "# Toolkits are collections of application-specific functions that extend Matplotlib.\n",
    "# mpl_toolkits.mplot3d provides tools for basic 3D plotting.\n",
    "# https://matplotlib.org/mpl_toolkits/index.html\n",
    "\n",
    "from mpl_toolkits.mplot3d import Axes3D\n",
    "\n",
    "fig = plt.figure(figsize=(20, 20))\n",
    "ax = fig.add_subplot(111, projection = '3d')\n",
    "\n",
    "x = daily_return_df['FB'].tolist()\n",
    "y = daily_return_df['TWTR'].tolist()\n",
    "z = daily_return_df['NFLX'].tolist()\n",
    "\n",
    "ax.scatter(x, y, z, c = 'r', marker = 'o', s = 1000)\n",
    "\n",
    "ax.set_xlabel('X Label')\n",
    "ax.set_ylabel('Y Label')\n",
    "ax.set_zlabel('Z Label')"
   ]
  },
  {
   "cell_type": "markdown",
   "metadata": {
    "id": "5dOInHG060wD"
   },
   "source": [
    "# APPENDIX"
   ]
  },
  {
   "cell_type": "code",
   "execution_count": null,
   "metadata": {
    "executionInfo": {
     "elapsed": 23432,
     "status": "aborted",
     "timestamp": 1621088178663,
     "user": {
      "displayName": "Stemplicity",
      "photoUrl": "https://lh3.googleusercontent.com/a-/AOh14Gj2vCFt-bD5mPBhUWX0QA6xiBgoXQXtwUm2jgjaCg=s64",
      "userId": "10668071569687886186"
     },
     "user_tz": 240
    },
    "id": "8bbCI59uHICY"
   },
   "outputs": [],
   "source": [
    "# np.C_ class object translates slice objects to concatenation along the second axis.\n",
    "\n",
    "x1 = np.array([1,2,3])\n",
    "x1.shape"
   ]
  },
  {
   "cell_type": "code",
   "execution_count": null,
   "metadata": {
    "executionInfo": {
     "elapsed": 23431,
     "status": "aborted",
     "timestamp": 1621088178664,
     "user": {
      "displayName": "Stemplicity",
      "photoUrl": "https://lh3.googleusercontent.com/a-/AOh14Gj2vCFt-bD5mPBhUWX0QA6xiBgoXQXtwUm2jgjaCg=s64",
      "userId": "10668071569687886186"
     },
     "user_tz": 240
    },
    "id": "B8cfhCibHS7A"
   },
   "outputs": [],
   "source": [
    "x2 = np.array([4,5,6])\n",
    "x2.shape"
   ]
  },
  {
   "cell_type": "code",
   "execution_count": null,
   "metadata": {
    "executionInfo": {
     "elapsed": 23429,
     "status": "aborted",
     "timestamp": 1621088178664,
     "user": {
      "displayName": "Stemplicity",
      "photoUrl": "https://lh3.googleusercontent.com/a-/AOh14Gj2vCFt-bD5mPBhUWX0QA6xiBgoXQXtwUm2jgjaCg=s64",
      "userId": "10668071569687886186"
     },
     "user_tz": 240
    },
    "id": "AnTgR6-OHRFK"
   },
   "outputs": [],
   "source": [
    "z = np.c_[x1, x2]\n",
    "print(z)\n",
    "print(z.shape)"
   ]
  }
 ],
 "metadata": {
  "colab": {
   "collapsed_sections": [],
   "name": "Data Visualization with matplotlib - Solution.ipynb",
   "provenance": [
    {
     "file_id": "1W_VTHmN0l8WJ1dgYfpY3lxkUZ6WF_dVY",
     "timestamp": 1606282870707
    }
   ]
  },
  "instance_type": "ml.t3.medium",
  "kernelspec": {
   "display_name": "Python 3",
   "language": "python",
   "name": "python3"
  },
  "language_info": {
   "codemirror_mode": {
    "name": "ipython",
    "version": 3
   },
   "file_extension": ".py",
   "mimetype": "text/x-python",
   "name": "python",
   "nbconvert_exporter": "python",
   "pygments_lexer": "ipython3",
   "version": "3.8.8"
  }
 },
 "nbformat": 4,
 "nbformat_minor": 4
}
