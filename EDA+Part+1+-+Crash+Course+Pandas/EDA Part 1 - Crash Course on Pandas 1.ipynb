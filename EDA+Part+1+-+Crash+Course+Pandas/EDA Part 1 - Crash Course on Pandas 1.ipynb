{
 "cells": [
  {
   "cell_type": "markdown",
   "metadata": {
    "id": "zrncFdJwNpL3"
   },
   "source": [
    "# CODING TASK #1. PANDAS DATAFRAME 101"
   ]
  },
  {
   "cell_type": "code",
   "execution_count": 3,
   "metadata": {
    "executionInfo": {
     "elapsed": 272,
     "status": "ok",
     "timestamp": 1618626157190,
     "user": {
      "displayName": "Stemplicity",
      "photoUrl": "https://lh3.googleusercontent.com/a-/AOh14Gj2vCFt-bD5mPBhUWX0QA6xiBgoXQXtwUm2jgjaCg=s64",
      "userId": "10668071569687886186"
     },
     "user_tz": 240
    },
    "id": "OQxUokJiXSHh"
   },
   "outputs": [],
   "source": [
    "# Pandas is a data manipulation and analysis tool that is built on Numpy.\n",
    "# Pandas uses a data structure known as DataFrame (think of it as Microsoft excel in Python). \n",
    "# DataFrames empower programmers to store and manipulate data in a tabular fashion (rows and columns).\n",
    "# Series Vs. DataFrame? Series is considered a single column of a DataFrame.\n",
    "\n",
    "import pandas as pd"
   ]
  },
  {
   "cell_type": "code",
   "execution_count": 4,
   "metadata": {
    "colab": {
     "base_uri": "https://localhost:8080/",
     "height": 166
    },
    "executionInfo": {
     "elapsed": 316,
     "status": "ok",
     "timestamp": 1618626170317,
     "user": {
      "displayName": "Stemplicity",
      "photoUrl": "https://lh3.googleusercontent.com/a-/AOh14Gj2vCFt-bD5mPBhUWX0QA6xiBgoXQXtwUm2jgjaCg=s64",
      "userId": "10668071569687886186"
     },
     "user_tz": 240
    },
    "id": "YnV7pFX0q3_C",
    "outputId": "9b0a998d-9ee6-4a0b-f996-c8caf4568761"
   },
   "outputs": [
    {
     "data": {
      "text/html": [
       "<div>\n",
       "<style scoped>\n",
       "    .dataframe tbody tr th:only-of-type {\n",
       "        vertical-align: middle;\n",
       "    }\n",
       "\n",
       "    .dataframe tbody tr th {\n",
       "        vertical-align: top;\n",
       "    }\n",
       "\n",
       "    .dataframe thead th {\n",
       "        text-align: right;\n",
       "    }\n",
       "</style>\n",
       "<table border=\"1\" class=\"dataframe\">\n",
       "  <thead>\n",
       "    <tr style=\"text-align: right;\">\n",
       "      <th></th>\n",
       "      <th>Employee ID</th>\n",
       "      <th>Employee Name</th>\n",
       "      <th>Annual Salary [$]</th>\n",
       "      <th>Years with Company</th>\n",
       "    </tr>\n",
       "  </thead>\n",
       "  <tbody>\n",
       "    <tr>\n",
       "      <th>0</th>\n",
       "      <td>1</td>\n",
       "      <td>Laila Aly</td>\n",
       "      <td>35000</td>\n",
       "      <td>5</td>\n",
       "    </tr>\n",
       "    <tr>\n",
       "      <th>1</th>\n",
       "      <td>2</td>\n",
       "      <td>Kate Steve</td>\n",
       "      <td>40000</td>\n",
       "      <td>7</td>\n",
       "    </tr>\n",
       "    <tr>\n",
       "      <th>2</th>\n",
       "      <td>3</td>\n",
       "      <td>Nicole Mitch</td>\n",
       "      <td>100000</td>\n",
       "      <td>10</td>\n",
       "    </tr>\n",
       "    <tr>\n",
       "      <th>3</th>\n",
       "      <td>4</td>\n",
       "      <td>Francis Morris</td>\n",
       "      <td>25000</td>\n",
       "      <td>1</td>\n",
       "    </tr>\n",
       "  </tbody>\n",
       "</table>\n",
       "</div>"
      ],
      "text/plain": [
       "   Employee ID   Employee Name  Annual Salary [$]  Years with Company\n",
       "0            1       Laila Aly              35000                   5\n",
       "1            2      Kate Steve              40000                   7\n",
       "2            3    Nicole Mitch             100000                  10\n",
       "3            4  Francis Morris              25000                   1"
      ]
     },
     "execution_count": 4,
     "metadata": {},
     "output_type": "execute_result"
    }
   ],
   "source": [
    "# Let's define a two-dimensional Pandas DataFrame\n",
    "# Note that you can create a pandas dataframe from a python dictionary\n",
    "employee_df = pd.DataFrame({'Employee ID':[1, 2, 3, 4], \n",
    "                            'Employee Name':['Laila Aly', 'Kate Steve', 'Nicole Mitch', 'Francis Morris'], \n",
    "                            'Annual Salary [$]':[35000, 40000, 100000, 25000], \n",
    "                            'Years with Company':[5, 7, 10, 1]})\n",
    "employee_df"
   ]
  },
  {
   "cell_type": "code",
   "execution_count": 5,
   "metadata": {
    "colab": {
     "base_uri": "https://localhost:8080/"
    },
    "executionInfo": {
     "elapsed": 286,
     "status": "ok",
     "timestamp": 1618626179783,
     "user": {
      "displayName": "Stemplicity",
      "photoUrl": "https://lh3.googleusercontent.com/a-/AOh14Gj2vCFt-bD5mPBhUWX0QA6xiBgoXQXtwUm2jgjaCg=s64",
      "userId": "10668071569687886186"
     },
     "user_tz": 240
    },
    "id": "9LXSKDSTq4Fb",
    "outputId": "57cc631d-75db-4e40-cdf9-8f3b11c7be09"
   },
   "outputs": [
    {
     "data": {
      "text/plain": [
       "pandas.core.frame.DataFrame"
      ]
     },
     "execution_count": 5,
     "metadata": {},
     "output_type": "execute_result"
    }
   ],
   "source": [
    "# Let's obtain the data type \n",
    "type(employee_df)"
   ]
  },
  {
   "cell_type": "code",
   "execution_count": 8,
   "metadata": {
    "colab": {
     "base_uri": "https://localhost:8080/",
     "height": 106
    },
    "executionInfo": {
     "elapsed": 237,
     "status": "ok",
     "timestamp": 1618626184264,
     "user": {
      "displayName": "Stemplicity",
      "photoUrl": "https://lh3.googleusercontent.com/a-/AOh14Gj2vCFt-bD5mPBhUWX0QA6xiBgoXQXtwUm2jgjaCg=s64",
      "userId": "10668071569687886186"
     },
     "user_tz": 240
    },
    "id": "h93nb1trtwhu",
    "outputId": "dd453796-84ba-4208-c2f2-209ce504ad0e"
   },
   "outputs": [
    {
     "data": {
      "text/html": [
       "<div>\n",
       "<style scoped>\n",
       "    .dataframe tbody tr th:only-of-type {\n",
       "        vertical-align: middle;\n",
       "    }\n",
       "\n",
       "    .dataframe tbody tr th {\n",
       "        vertical-align: top;\n",
       "    }\n",
       "\n",
       "    .dataframe thead th {\n",
       "        text-align: right;\n",
       "    }\n",
       "</style>\n",
       "<table border=\"1\" class=\"dataframe\">\n",
       "  <thead>\n",
       "    <tr style=\"text-align: right;\">\n",
       "      <th></th>\n",
       "      <th>Employee ID</th>\n",
       "      <th>Employee Name</th>\n",
       "      <th>Annual Salary [$]</th>\n",
       "      <th>Years with Company</th>\n",
       "    </tr>\n",
       "  </thead>\n",
       "  <tbody>\n",
       "    <tr>\n",
       "      <th>0</th>\n",
       "      <td>1</td>\n",
       "      <td>Laila Aly</td>\n",
       "      <td>35000</td>\n",
       "      <td>5</td>\n",
       "    </tr>\n",
       "    <tr>\n",
       "      <th>1</th>\n",
       "      <td>2</td>\n",
       "      <td>Kate Steve</td>\n",
       "      <td>40000</td>\n",
       "      <td>7</td>\n",
       "    </tr>\n",
       "    <tr>\n",
       "      <th>2</th>\n",
       "      <td>3</td>\n",
       "      <td>Nicole Mitch</td>\n",
       "      <td>100000</td>\n",
       "      <td>10</td>\n",
       "    </tr>\n",
       "  </tbody>\n",
       "</table>\n",
       "</div>"
      ],
      "text/plain": [
       "   Employee ID Employee Name  Annual Salary [$]  Years with Company\n",
       "0            1     Laila Aly              35000                   5\n",
       "1            2    Kate Steve              40000                   7\n",
       "2            3  Nicole Mitch             100000                  10"
      ]
     },
     "execution_count": 8,
     "metadata": {},
     "output_type": "execute_result"
    }
   ],
   "source": [
    "# you can only view the first couple of rows using .head()\n",
    "employee_df.head(3)"
   ]
  },
  {
   "cell_type": "code",
   "execution_count": 9,
   "metadata": {
    "colab": {
     "base_uri": "https://localhost:8080/",
     "height": 77
    },
    "executionInfo": {
     "elapsed": 302,
     "status": "ok",
     "timestamp": 1618626186623,
     "user": {
      "displayName": "Stemplicity",
      "photoUrl": "https://lh3.googleusercontent.com/a-/AOh14Gj2vCFt-bD5mPBhUWX0QA6xiBgoXQXtwUm2jgjaCg=s64",
      "userId": "10668071569687886186"
     },
     "user_tz": 240
    },
    "id": "7kkAAG0Ft2Q1",
    "outputId": "caa72138-517d-47de-e578-8c3a0db5cbb7"
   },
   "outputs": [
    {
     "data": {
      "text/html": [
       "<div>\n",
       "<style scoped>\n",
       "    .dataframe tbody tr th:only-of-type {\n",
       "        vertical-align: middle;\n",
       "    }\n",
       "\n",
       "    .dataframe tbody tr th {\n",
       "        vertical-align: top;\n",
       "    }\n",
       "\n",
       "    .dataframe thead th {\n",
       "        text-align: right;\n",
       "    }\n",
       "</style>\n",
       "<table border=\"1\" class=\"dataframe\">\n",
       "  <thead>\n",
       "    <tr style=\"text-align: right;\">\n",
       "      <th></th>\n",
       "      <th>Employee ID</th>\n",
       "      <th>Employee Name</th>\n",
       "      <th>Annual Salary [$]</th>\n",
       "      <th>Years with Company</th>\n",
       "    </tr>\n",
       "  </thead>\n",
       "  <tbody>\n",
       "    <tr>\n",
       "      <th>3</th>\n",
       "      <td>4</td>\n",
       "      <td>Francis Morris</td>\n",
       "      <td>25000</td>\n",
       "      <td>1</td>\n",
       "    </tr>\n",
       "  </tbody>\n",
       "</table>\n",
       "</div>"
      ],
      "text/plain": [
       "   Employee ID   Employee Name  Annual Salary [$]  Years with Company\n",
       "3            4  Francis Morris              25000                   1"
      ]
     },
     "execution_count": 9,
     "metadata": {},
     "output_type": "execute_result"
    }
   ],
   "source": [
    "# you can only view the last couple of rows using .tail()\n",
    "employee_df.tail(1)"
   ]
  },
  {
   "cell_type": "code",
   "execution_count": 10,
   "metadata": {
    "colab": {
     "base_uri": "https://localhost:8080/"
    },
    "executionInfo": {
     "elapsed": 307,
     "status": "ok",
     "timestamp": 1618626191784,
     "user": {
      "displayName": "Stemplicity",
      "photoUrl": "https://lh3.googleusercontent.com/a-/AOh14Gj2vCFt-bD5mPBhUWX0QA6xiBgoXQXtwUm2jgjaCg=s64",
      "userId": "10668071569687886186"
     },
     "user_tz": 240
    },
    "id": "cLPBbSvYhvG1",
    "outputId": "17112309-4c5e-4fef-defe-352eec73e84a"
   },
   "outputs": [
    {
     "data": {
      "text/plain": [
       "(4, 4)"
      ]
     },
     "execution_count": 10,
     "metadata": {},
     "output_type": "execute_result"
    }
   ],
   "source": [
    "# You can obtain the shape of the DataFrame (#rows, #columns)\n",
    "employee_df.shape"
   ]
  },
  {
   "cell_type": "markdown",
   "metadata": {
    "id": "Ro-OAYbsy_EA"
   },
   "source": [
    "**PRACTICE OPPORTUNITY #1 [OPTIONAL]:**\n",
    "- **A porfolio contains a collection of securities such as stocks, bonds and ETFs. Define a dataframe named 'portfolio_df' that holds 3 different stock ticker symbols, number of shares, and price per share (feel free to choose any stocks)**\n",
    "- **Calculate the total value of the porfolio including all stocks**"
   ]
  },
  {
   "cell_type": "code",
   "execution_count": null,
   "metadata": {},
   "outputs": [],
   "source": []
  },
  {
   "cell_type": "markdown",
   "metadata": {
    "id": "d06IyHT9uffC"
   },
   "source": [
    "# CODING TASK #2. READ CSV DATA USING PANDAS AND PERFORM STATISTICAL DATA ANALYSIS"
   ]
  },
  {
   "cell_type": "code",
   "execution_count": 18,
   "metadata": {
    "executionInfo": {
     "elapsed": 357,
     "status": "ok",
     "timestamp": 1618626337240,
     "user": {
      "displayName": "Stemplicity",
      "photoUrl": "https://lh3.googleusercontent.com/a-/AOh14Gj2vCFt-bD5mPBhUWX0QA6xiBgoXQXtwUm2jgjaCg=s64",
      "userId": "10668071569687886186"
     },
     "user_tz": 240
    },
    "id": "lHB4RP5luJwF"
   },
   "outputs": [],
   "source": [
    "# Pandas is used to read a csv file and store data in a DataFrame\n",
    "employee_df = pd.read_csv('employee_information.csv')"
   ]
  },
  {
   "cell_type": "code",
   "execution_count": 19,
   "metadata": {
    "colab": {
     "base_uri": "https://localhost:8080/",
     "height": 343
    },
    "executionInfo": {
     "elapsed": 284,
     "status": "ok",
     "timestamp": 1618626340314,
     "user": {
      "displayName": "Stemplicity",
      "photoUrl": "https://lh3.googleusercontent.com/a-/AOh14Gj2vCFt-bD5mPBhUWX0QA6xiBgoXQXtwUm2jgjaCg=s64",
      "userId": "10668071569687886186"
     },
     "user_tz": 240
    },
    "id": "OqdhTgIfuoTy",
    "outputId": "276a44d0-5889-4be0-ac31-a0ab99864b8a"
   },
   "outputs": [
    {
     "data": {
      "text/html": [
       "<div>\n",
       "<style scoped>\n",
       "    .dataframe tbody tr th:only-of-type {\n",
       "        vertical-align: middle;\n",
       "    }\n",
       "\n",
       "    .dataframe tbody tr th {\n",
       "        vertical-align: top;\n",
       "    }\n",
       "\n",
       "    .dataframe thead th {\n",
       "        text-align: right;\n",
       "    }\n",
       "</style>\n",
       "<table border=\"1\" class=\"dataframe\">\n",
       "  <thead>\n",
       "    <tr style=\"text-align: right;\">\n",
       "      <th></th>\n",
       "      <th>First Name</th>\n",
       "      <th>Last Name</th>\n",
       "      <th>Salary</th>\n",
       "      <th>Years with Company</th>\n",
       "      <th>Postal Code</th>\n",
       "      <th>Email</th>\n",
       "    </tr>\n",
       "  </thead>\n",
       "  <tbody>\n",
       "    <tr>\n",
       "      <th>0</th>\n",
       "      <td>Mike</td>\n",
       "      <td>Moe</td>\n",
       "      <td>5000.00</td>\n",
       "      <td>3</td>\n",
       "      <td>N94 3M0</td>\n",
       "      <td>bird@gmail.com</td>\n",
       "    </tr>\n",
       "    <tr>\n",
       "      <th>1</th>\n",
       "      <td>Noah</td>\n",
       "      <td>Ryan</td>\n",
       "      <td>10000.00</td>\n",
       "      <td>8</td>\n",
       "      <td>N8S 14K</td>\n",
       "      <td>nsmall@hotmail.com</td>\n",
       "    </tr>\n",
       "    <tr>\n",
       "      <th>2</th>\n",
       "      <td>Nina</td>\n",
       "      <td>Keller</td>\n",
       "      <td>9072.02</td>\n",
       "      <td>17</td>\n",
       "      <td>S1T 4E6</td>\n",
       "      <td>azikez@gahew.mr</td>\n",
       "    </tr>\n",
       "    <tr>\n",
       "      <th>3</th>\n",
       "      <td>Chanel</td>\n",
       "      <td>Steve</td>\n",
       "      <td>11072.02</td>\n",
       "      <td>12</td>\n",
       "      <td>N7T 3E6</td>\n",
       "      <td>chanel@gmail.com</td>\n",
       "    </tr>\n",
       "    <tr>\n",
       "      <th>4</th>\n",
       "      <td>Kate</td>\n",
       "      <td>Noor</td>\n",
       "      <td>5000.00</td>\n",
       "      <td>23</td>\n",
       "      <td>K8N 5H6</td>\n",
       "      <td>kate@hotmail.com</td>\n",
       "    </tr>\n",
       "    <tr>\n",
       "      <th>5</th>\n",
       "      <td>Samer</td>\n",
       "      <td>Mo</td>\n",
       "      <td>100000.00</td>\n",
       "      <td>13</td>\n",
       "      <td>J7H 3HY</td>\n",
       "      <td>samer@gmail.com</td>\n",
       "    </tr>\n",
       "    <tr>\n",
       "      <th>6</th>\n",
       "      <td>Heba</td>\n",
       "      <td>Steve</td>\n",
       "      <td>50000.00</td>\n",
       "      <td>7</td>\n",
       "      <td>K8Y 3M8</td>\n",
       "      <td>heba.ismail@hotmail.com</td>\n",
       "    </tr>\n",
       "    <tr>\n",
       "      <th>7</th>\n",
       "      <td>Laila</td>\n",
       "      <td>Aly</td>\n",
       "      <td>20000.00</td>\n",
       "      <td>5</td>\n",
       "      <td>J8Y 3M0</td>\n",
       "      <td>Laila.a@hotmail.com</td>\n",
       "    </tr>\n",
       "    <tr>\n",
       "      <th>8</th>\n",
       "      <td>Joseph</td>\n",
       "      <td>Patton</td>\n",
       "      <td>2629.13</td>\n",
       "      <td>2</td>\n",
       "      <td>M6U 5U7</td>\n",
       "      <td>daafeja@boh.jm</td>\n",
       "    </tr>\n",
       "    <tr>\n",
       "      <th>9</th>\n",
       "      <td>Noah</td>\n",
       "      <td>Moran</td>\n",
       "      <td>8626.96</td>\n",
       "      <td>11</td>\n",
       "      <td>K2D 4M9</td>\n",
       "      <td>guutodi@bigwoc.kw</td>\n",
       "    </tr>\n",
       "  </tbody>\n",
       "</table>\n",
       "</div>"
      ],
      "text/plain": [
       "  First Name Last Name     Salary  Years with Company Postal Code  \\\n",
       "0       Mike       Moe    5000.00                   3     N94 3M0   \n",
       "1       Noah      Ryan   10000.00                   8     N8S 14K   \n",
       "2       Nina    Keller    9072.02                  17     S1T 4E6   \n",
       "3    Chanel      Steve   11072.02                  12     N7T 3E6   \n",
       "4       Kate      Noor    5000.00                  23     K8N 5H6   \n",
       "5      Samer        Mo  100000.00                  13     J7H 3HY   \n",
       "6       Heba     Steve   50000.00                   7     K8Y 3M8   \n",
       "7      Laila       Aly   20000.00                   5     J8Y 3M0   \n",
       "8     Joseph    Patton    2629.13                   2     M6U 5U7   \n",
       "9       Noah     Moran    8626.96                  11     K2D 4M9   \n",
       "\n",
       "                     Email  \n",
       "0           bird@gmail.com  \n",
       "1       nsmall@hotmail.com  \n",
       "2          azikez@gahew.mr  \n",
       "3         chanel@gmail.com  \n",
       "4         kate@hotmail.com  \n",
       "5          samer@gmail.com  \n",
       "6  heba.ismail@hotmail.com  \n",
       "7      Laila.a@hotmail.com  \n",
       "8           daafeja@boh.jm  \n",
       "9        guutodi@bigwoc.kw  "
      ]
     },
     "execution_count": 19,
     "metadata": {},
     "output_type": "execute_result"
    }
   ],
   "source": [
    "employee_df"
   ]
  },
  {
   "cell_type": "code",
   "execution_count": 20,
   "metadata": {},
   "outputs": [
    {
     "data": {
      "text/html": [
       "<div>\n",
       "<style scoped>\n",
       "    .dataframe tbody tr th:only-of-type {\n",
       "        vertical-align: middle;\n",
       "    }\n",
       "\n",
       "    .dataframe tbody tr th {\n",
       "        vertical-align: top;\n",
       "    }\n",
       "\n",
       "    .dataframe thead th {\n",
       "        text-align: right;\n",
       "    }\n",
       "</style>\n",
       "<table border=\"1\" class=\"dataframe\">\n",
       "  <thead>\n",
       "    <tr style=\"text-align: right;\">\n",
       "      <th></th>\n",
       "      <th>Salary</th>\n",
       "      <th>Years with Company</th>\n",
       "    </tr>\n",
       "  </thead>\n",
       "  <tbody>\n",
       "    <tr>\n",
       "      <th>count</th>\n",
       "      <td>10.000000</td>\n",
       "      <td>10.00000</td>\n",
       "    </tr>\n",
       "    <tr>\n",
       "      <th>mean</th>\n",
       "      <td>22140.013000</td>\n",
       "      <td>10.10000</td>\n",
       "    </tr>\n",
       "    <tr>\n",
       "      <th>std</th>\n",
       "      <td>30613.044026</td>\n",
       "      <td>6.52261</td>\n",
       "    </tr>\n",
       "    <tr>\n",
       "      <th>min</th>\n",
       "      <td>2629.130000</td>\n",
       "      <td>2.00000</td>\n",
       "    </tr>\n",
       "    <tr>\n",
       "      <th>25%</th>\n",
       "      <td>5906.740000</td>\n",
       "      <td>5.50000</td>\n",
       "    </tr>\n",
       "    <tr>\n",
       "      <th>50%</th>\n",
       "      <td>9536.010000</td>\n",
       "      <td>9.50000</td>\n",
       "    </tr>\n",
       "    <tr>\n",
       "      <th>75%</th>\n",
       "      <td>17768.005000</td>\n",
       "      <td>12.75000</td>\n",
       "    </tr>\n",
       "    <tr>\n",
       "      <th>max</th>\n",
       "      <td>100000.000000</td>\n",
       "      <td>23.00000</td>\n",
       "    </tr>\n",
       "  </tbody>\n",
       "</table>\n",
       "</div>"
      ],
      "text/plain": [
       "              Salary  Years with Company\n",
       "count      10.000000            10.00000\n",
       "mean    22140.013000            10.10000\n",
       "std     30613.044026             6.52261\n",
       "min      2629.130000             2.00000\n",
       "25%      5906.740000             5.50000\n",
       "50%      9536.010000             9.50000\n",
       "75%     17768.005000            12.75000\n",
       "max    100000.000000            23.00000"
      ]
     },
     "execution_count": 20,
     "metadata": {},
     "output_type": "execute_result"
    }
   ],
   "source": [
    "employee_df.describe()"
   ]
  },
  {
   "cell_type": "markdown",
   "metadata": {},
   "source": [
    "**PRACTICE OPPORTUNITY #2 [OPTIONAL]:**\n",
    "- **Calculate the average salary and years with company using two different methods**"
   ]
  },
  {
   "cell_type": "code",
   "execution_count": null,
   "metadata": {},
   "outputs": [],
   "source": []
  },
  {
   "cell_type": "markdown",
   "metadata": {
    "id": "UAYWMvHpR7eI"
   },
   "source": [
    "# CODING TASK #3. SETTING/RESETTING PANDAS DATAFRAME INDEX"
   ]
  },
  {
   "cell_type": "code",
   "execution_count": 31,
   "metadata": {
    "colab": {
     "base_uri": "https://localhost:8080/",
     "height": 343
    },
    "executionInfo": {
     "elapsed": 321,
     "status": "ok",
     "timestamp": 1618627041980,
     "user": {
      "displayName": "Stemplicity",
      "photoUrl": "https://lh3.googleusercontent.com/a-/AOh14Gj2vCFt-bD5mPBhUWX0QA6xiBgoXQXtwUm2jgjaCg=s64",
      "userId": "10668071569687886186"
     },
     "user_tz": 240
    },
    "id": "7EPZ4Oj3SAgo",
    "outputId": "cc9ffde9-ea0f-4f1e-97b5-0ff57791cc0f"
   },
   "outputs": [
    {
     "data": {
      "text/html": [
       "<div>\n",
       "<style scoped>\n",
       "    .dataframe tbody tr th:only-of-type {\n",
       "        vertical-align: middle;\n",
       "    }\n",
       "\n",
       "    .dataframe tbody tr th {\n",
       "        vertical-align: top;\n",
       "    }\n",
       "\n",
       "    .dataframe thead th {\n",
       "        text-align: right;\n",
       "    }\n",
       "</style>\n",
       "<table border=\"1\" class=\"dataframe\">\n",
       "  <thead>\n",
       "    <tr style=\"text-align: right;\">\n",
       "      <th></th>\n",
       "      <th>First Name</th>\n",
       "      <th>Last Name</th>\n",
       "      <th>Salary</th>\n",
       "      <th>Years with Company</th>\n",
       "      <th>Postal Code</th>\n",
       "      <th>Email</th>\n",
       "    </tr>\n",
       "  </thead>\n",
       "  <tbody>\n",
       "    <tr>\n",
       "      <th>0</th>\n",
       "      <td>Mike</td>\n",
       "      <td>Moe</td>\n",
       "      <td>5000.00</td>\n",
       "      <td>3</td>\n",
       "      <td>N94 3M0</td>\n",
       "      <td>bird@gmail.com</td>\n",
       "    </tr>\n",
       "    <tr>\n",
       "      <th>1</th>\n",
       "      <td>Noah</td>\n",
       "      <td>Ryan</td>\n",
       "      <td>10000.00</td>\n",
       "      <td>8</td>\n",
       "      <td>N8S 14K</td>\n",
       "      <td>nsmall@hotmail.com</td>\n",
       "    </tr>\n",
       "    <tr>\n",
       "      <th>2</th>\n",
       "      <td>Nina</td>\n",
       "      <td>Keller</td>\n",
       "      <td>9072.02</td>\n",
       "      <td>17</td>\n",
       "      <td>S1T 4E6</td>\n",
       "      <td>azikez@gahew.mr</td>\n",
       "    </tr>\n",
       "    <tr>\n",
       "      <th>3</th>\n",
       "      <td>Chanel</td>\n",
       "      <td>Steve</td>\n",
       "      <td>11072.02</td>\n",
       "      <td>12</td>\n",
       "      <td>N7T 3E6</td>\n",
       "      <td>chanel@gmail.com</td>\n",
       "    </tr>\n",
       "    <tr>\n",
       "      <th>4</th>\n",
       "      <td>Kate</td>\n",
       "      <td>Noor</td>\n",
       "      <td>5000.00</td>\n",
       "      <td>23</td>\n",
       "      <td>K8N 5H6</td>\n",
       "      <td>kate@hotmail.com</td>\n",
       "    </tr>\n",
       "    <tr>\n",
       "      <th>5</th>\n",
       "      <td>Samer</td>\n",
       "      <td>Mo</td>\n",
       "      <td>100000.00</td>\n",
       "      <td>13</td>\n",
       "      <td>J7H 3HY</td>\n",
       "      <td>samer@gmail.com</td>\n",
       "    </tr>\n",
       "    <tr>\n",
       "      <th>6</th>\n",
       "      <td>Heba</td>\n",
       "      <td>Steve</td>\n",
       "      <td>50000.00</td>\n",
       "      <td>7</td>\n",
       "      <td>K8Y 3M8</td>\n",
       "      <td>heba.ismail@hotmail.com</td>\n",
       "    </tr>\n",
       "    <tr>\n",
       "      <th>7</th>\n",
       "      <td>Laila</td>\n",
       "      <td>Aly</td>\n",
       "      <td>20000.00</td>\n",
       "      <td>5</td>\n",
       "      <td>J8Y 3M0</td>\n",
       "      <td>Laila.a@hotmail.com</td>\n",
       "    </tr>\n",
       "    <tr>\n",
       "      <th>8</th>\n",
       "      <td>Joseph</td>\n",
       "      <td>Patton</td>\n",
       "      <td>2629.13</td>\n",
       "      <td>2</td>\n",
       "      <td>M6U 5U7</td>\n",
       "      <td>daafeja@boh.jm</td>\n",
       "    </tr>\n",
       "    <tr>\n",
       "      <th>9</th>\n",
       "      <td>Noah</td>\n",
       "      <td>Moran</td>\n",
       "      <td>8626.96</td>\n",
       "      <td>11</td>\n",
       "      <td>K2D 4M9</td>\n",
       "      <td>guutodi@bigwoc.kw</td>\n",
       "    </tr>\n",
       "  </tbody>\n",
       "</table>\n",
       "</div>"
      ],
      "text/plain": [
       "  First Name Last Name     Salary  Years with Company Postal Code  \\\n",
       "0       Mike       Moe    5000.00                   3     N94 3M0   \n",
       "1       Noah      Ryan   10000.00                   8     N8S 14K   \n",
       "2       Nina    Keller    9072.02                  17     S1T 4E6   \n",
       "3    Chanel      Steve   11072.02                  12     N7T 3E6   \n",
       "4       Kate      Noor    5000.00                  23     K8N 5H6   \n",
       "5      Samer        Mo  100000.00                  13     J7H 3HY   \n",
       "6       Heba     Steve   50000.00                   7     K8Y 3M8   \n",
       "7      Laila       Aly   20000.00                   5     J8Y 3M0   \n",
       "8     Joseph    Patton    2629.13                   2     M6U 5U7   \n",
       "9       Noah     Moran    8626.96                  11     K2D 4M9   \n",
       "\n",
       "                     Email  \n",
       "0           bird@gmail.com  \n",
       "1       nsmall@hotmail.com  \n",
       "2          azikez@gahew.mr  \n",
       "3         chanel@gmail.com  \n",
       "4         kate@hotmail.com  \n",
       "5          samer@gmail.com  \n",
       "6  heba.ismail@hotmail.com  \n",
       "7      Laila.a@hotmail.com  \n",
       "8           daafeja@boh.jm  \n",
       "9        guutodi@bigwoc.kw  "
      ]
     },
     "execution_count": 31,
     "metadata": {},
     "output_type": "execute_result"
    }
   ],
   "source": [
    "# Pandas is used to read a csv file and store data in a DataFrame\n",
    "# Note that a numeric index is being set by default\n",
    "employee_df = pd.read_csv('employee_information.csv')\n",
    "employee_df"
   ]
  },
  {
   "cell_type": "code",
   "execution_count": 34,
   "metadata": {
    "colab": {
     "base_uri": "https://localhost:8080/",
     "height": 373
    },
    "executionInfo": {
     "elapsed": 267,
     "status": "ok",
     "timestamp": 1618627050292,
     "user": {
      "displayName": "Stemplicity",
      "photoUrl": "https://lh3.googleusercontent.com/a-/AOh14Gj2vCFt-bD5mPBhUWX0QA6xiBgoXQXtwUm2jgjaCg=s64",
      "userId": "10668071569687886186"
     },
     "user_tz": 240
    },
    "id": "xCTDeFjjSAjW",
    "outputId": "b336dc03-63f6-47aa-db80-5d0de6fb004e"
   },
   "outputs": [],
   "source": [
    "# You can assign a specific column to be the index as follows\n",
    "employee_df.set_index(\"First Name\", inplace = True)\n"
   ]
  },
  {
   "cell_type": "code",
   "execution_count": 35,
   "metadata": {},
   "outputs": [
    {
     "data": {
      "text/html": [
       "<div>\n",
       "<style scoped>\n",
       "    .dataframe tbody tr th:only-of-type {\n",
       "        vertical-align: middle;\n",
       "    }\n",
       "\n",
       "    .dataframe tbody tr th {\n",
       "        vertical-align: top;\n",
       "    }\n",
       "\n",
       "    .dataframe thead th {\n",
       "        text-align: right;\n",
       "    }\n",
       "</style>\n",
       "<table border=\"1\" class=\"dataframe\">\n",
       "  <thead>\n",
       "    <tr style=\"text-align: right;\">\n",
       "      <th></th>\n",
       "      <th>Last Name</th>\n",
       "      <th>Salary</th>\n",
       "      <th>Years with Company</th>\n",
       "      <th>Postal Code</th>\n",
       "      <th>Email</th>\n",
       "    </tr>\n",
       "    <tr>\n",
       "      <th>First Name</th>\n",
       "      <th></th>\n",
       "      <th></th>\n",
       "      <th></th>\n",
       "      <th></th>\n",
       "      <th></th>\n",
       "    </tr>\n",
       "  </thead>\n",
       "  <tbody>\n",
       "    <tr>\n",
       "      <th>Mike</th>\n",
       "      <td>Moe</td>\n",
       "      <td>5000.00</td>\n",
       "      <td>3</td>\n",
       "      <td>N94 3M0</td>\n",
       "      <td>bird@gmail.com</td>\n",
       "    </tr>\n",
       "    <tr>\n",
       "      <th>Noah</th>\n",
       "      <td>Ryan</td>\n",
       "      <td>10000.00</td>\n",
       "      <td>8</td>\n",
       "      <td>N8S 14K</td>\n",
       "      <td>nsmall@hotmail.com</td>\n",
       "    </tr>\n",
       "    <tr>\n",
       "      <th>Nina</th>\n",
       "      <td>Keller</td>\n",
       "      <td>9072.02</td>\n",
       "      <td>17</td>\n",
       "      <td>S1T 4E6</td>\n",
       "      <td>azikez@gahew.mr</td>\n",
       "    </tr>\n",
       "    <tr>\n",
       "      <th>Chanel</th>\n",
       "      <td>Steve</td>\n",
       "      <td>11072.02</td>\n",
       "      <td>12</td>\n",
       "      <td>N7T 3E6</td>\n",
       "      <td>chanel@gmail.com</td>\n",
       "    </tr>\n",
       "    <tr>\n",
       "      <th>Kate</th>\n",
       "      <td>Noor</td>\n",
       "      <td>5000.00</td>\n",
       "      <td>23</td>\n",
       "      <td>K8N 5H6</td>\n",
       "      <td>kate@hotmail.com</td>\n",
       "    </tr>\n",
       "    <tr>\n",
       "      <th>Samer</th>\n",
       "      <td>Mo</td>\n",
       "      <td>100000.00</td>\n",
       "      <td>13</td>\n",
       "      <td>J7H 3HY</td>\n",
       "      <td>samer@gmail.com</td>\n",
       "    </tr>\n",
       "    <tr>\n",
       "      <th>Heba</th>\n",
       "      <td>Steve</td>\n",
       "      <td>50000.00</td>\n",
       "      <td>7</td>\n",
       "      <td>K8Y 3M8</td>\n",
       "      <td>heba.ismail@hotmail.com</td>\n",
       "    </tr>\n",
       "    <tr>\n",
       "      <th>Laila</th>\n",
       "      <td>Aly</td>\n",
       "      <td>20000.00</td>\n",
       "      <td>5</td>\n",
       "      <td>J8Y 3M0</td>\n",
       "      <td>Laila.a@hotmail.com</td>\n",
       "    </tr>\n",
       "    <tr>\n",
       "      <th>Joseph</th>\n",
       "      <td>Patton</td>\n",
       "      <td>2629.13</td>\n",
       "      <td>2</td>\n",
       "      <td>M6U 5U7</td>\n",
       "      <td>daafeja@boh.jm</td>\n",
       "    </tr>\n",
       "    <tr>\n",
       "      <th>Noah</th>\n",
       "      <td>Moran</td>\n",
       "      <td>8626.96</td>\n",
       "      <td>11</td>\n",
       "      <td>K2D 4M9</td>\n",
       "      <td>guutodi@bigwoc.kw</td>\n",
       "    </tr>\n",
       "  </tbody>\n",
       "</table>\n",
       "</div>"
      ],
      "text/plain": [
       "           Last Name     Salary  Years with Company Postal Code  \\\n",
       "First Name                                                        \n",
       "Mike             Moe    5000.00                   3     N94 3M0   \n",
       "Noah            Ryan   10000.00                   8     N8S 14K   \n",
       "Nina          Keller    9072.02                  17     S1T 4E6   \n",
       "Chanel         Steve   11072.02                  12     N7T 3E6   \n",
       "Kate            Noor    5000.00                  23     K8N 5H6   \n",
       "Samer             Mo  100000.00                  13     J7H 3HY   \n",
       "Heba           Steve   50000.00                   7     K8Y 3M8   \n",
       "Laila            Aly   20000.00                   5     J8Y 3M0   \n",
       "Joseph        Patton    2629.13                   2     M6U 5U7   \n",
       "Noah           Moran    8626.96                  11     K2D 4M9   \n",
       "\n",
       "                              Email  \n",
       "First Name                           \n",
       "Mike                 bird@gmail.com  \n",
       "Noah             nsmall@hotmail.com  \n",
       "Nina                azikez@gahew.mr  \n",
       "Chanel             chanel@gmail.com  \n",
       "Kate               kate@hotmail.com  \n",
       "Samer               samer@gmail.com  \n",
       "Heba        heba.ismail@hotmail.com  \n",
       "Laila           Laila.a@hotmail.com  \n",
       "Joseph               daafeja@boh.jm  \n",
       "Noah              guutodi@bigwoc.kw  "
      ]
     },
     "execution_count": 35,
     "metadata": {},
     "output_type": "execute_result"
    }
   ],
   "source": [
    "employee_df"
   ]
  },
  {
   "cell_type": "code",
   "execution_count": 36,
   "metadata": {
    "colab": {
     "base_uri": "https://localhost:8080/",
     "height": 343
    },
    "executionInfo": {
     "elapsed": 352,
     "status": "ok",
     "timestamp": 1618627056011,
     "user": {
      "displayName": "Stemplicity",
      "photoUrl": "https://lh3.googleusercontent.com/a-/AOh14Gj2vCFt-bD5mPBhUWX0QA6xiBgoXQXtwUm2jgjaCg=s64",
      "userId": "10668071569687886186"
     },
     "user_tz": 240
    },
    "id": "11deXy0-SAmJ",
    "outputId": "d98111aa-e3b0-486d-9a8d-4310cc97abde"
   },
   "outputs": [
    {
     "data": {
      "text/html": [
       "<div>\n",
       "<style scoped>\n",
       "    .dataframe tbody tr th:only-of-type {\n",
       "        vertical-align: middle;\n",
       "    }\n",
       "\n",
       "    .dataframe tbody tr th {\n",
       "        vertical-align: top;\n",
       "    }\n",
       "\n",
       "    .dataframe thead th {\n",
       "        text-align: right;\n",
       "    }\n",
       "</style>\n",
       "<table border=\"1\" class=\"dataframe\">\n",
       "  <thead>\n",
       "    <tr style=\"text-align: right;\">\n",
       "      <th></th>\n",
       "      <th>First Name</th>\n",
       "      <th>Last Name</th>\n",
       "      <th>Salary</th>\n",
       "      <th>Years with Company</th>\n",
       "      <th>Postal Code</th>\n",
       "      <th>Email</th>\n",
       "    </tr>\n",
       "  </thead>\n",
       "  <tbody>\n",
       "    <tr>\n",
       "      <th>0</th>\n",
       "      <td>Mike</td>\n",
       "      <td>Moe</td>\n",
       "      <td>5000.00</td>\n",
       "      <td>3</td>\n",
       "      <td>N94 3M0</td>\n",
       "      <td>bird@gmail.com</td>\n",
       "    </tr>\n",
       "    <tr>\n",
       "      <th>1</th>\n",
       "      <td>Noah</td>\n",
       "      <td>Ryan</td>\n",
       "      <td>10000.00</td>\n",
       "      <td>8</td>\n",
       "      <td>N8S 14K</td>\n",
       "      <td>nsmall@hotmail.com</td>\n",
       "    </tr>\n",
       "    <tr>\n",
       "      <th>2</th>\n",
       "      <td>Nina</td>\n",
       "      <td>Keller</td>\n",
       "      <td>9072.02</td>\n",
       "      <td>17</td>\n",
       "      <td>S1T 4E6</td>\n",
       "      <td>azikez@gahew.mr</td>\n",
       "    </tr>\n",
       "    <tr>\n",
       "      <th>3</th>\n",
       "      <td>Chanel</td>\n",
       "      <td>Steve</td>\n",
       "      <td>11072.02</td>\n",
       "      <td>12</td>\n",
       "      <td>N7T 3E6</td>\n",
       "      <td>chanel@gmail.com</td>\n",
       "    </tr>\n",
       "    <tr>\n",
       "      <th>4</th>\n",
       "      <td>Kate</td>\n",
       "      <td>Noor</td>\n",
       "      <td>5000.00</td>\n",
       "      <td>23</td>\n",
       "      <td>K8N 5H6</td>\n",
       "      <td>kate@hotmail.com</td>\n",
       "    </tr>\n",
       "    <tr>\n",
       "      <th>5</th>\n",
       "      <td>Samer</td>\n",
       "      <td>Mo</td>\n",
       "      <td>100000.00</td>\n",
       "      <td>13</td>\n",
       "      <td>J7H 3HY</td>\n",
       "      <td>samer@gmail.com</td>\n",
       "    </tr>\n",
       "    <tr>\n",
       "      <th>6</th>\n",
       "      <td>Heba</td>\n",
       "      <td>Steve</td>\n",
       "      <td>50000.00</td>\n",
       "      <td>7</td>\n",
       "      <td>K8Y 3M8</td>\n",
       "      <td>heba.ismail@hotmail.com</td>\n",
       "    </tr>\n",
       "    <tr>\n",
       "      <th>7</th>\n",
       "      <td>Laila</td>\n",
       "      <td>Aly</td>\n",
       "      <td>20000.00</td>\n",
       "      <td>5</td>\n",
       "      <td>J8Y 3M0</td>\n",
       "      <td>Laila.a@hotmail.com</td>\n",
       "    </tr>\n",
       "    <tr>\n",
       "      <th>8</th>\n",
       "      <td>Joseph</td>\n",
       "      <td>Patton</td>\n",
       "      <td>2629.13</td>\n",
       "      <td>2</td>\n",
       "      <td>M6U 5U7</td>\n",
       "      <td>daafeja@boh.jm</td>\n",
       "    </tr>\n",
       "    <tr>\n",
       "      <th>9</th>\n",
       "      <td>Noah</td>\n",
       "      <td>Moran</td>\n",
       "      <td>8626.96</td>\n",
       "      <td>11</td>\n",
       "      <td>K2D 4M9</td>\n",
       "      <td>guutodi@bigwoc.kw</td>\n",
       "    </tr>\n",
       "  </tbody>\n",
       "</table>\n",
       "</div>"
      ],
      "text/plain": [
       "  First Name Last Name     Salary  Years with Company Postal Code  \\\n",
       "0       Mike       Moe    5000.00                   3     N94 3M0   \n",
       "1       Noah      Ryan   10000.00                   8     N8S 14K   \n",
       "2       Nina    Keller    9072.02                  17     S1T 4E6   \n",
       "3    Chanel      Steve   11072.02                  12     N7T 3E6   \n",
       "4       Kate      Noor    5000.00                  23     K8N 5H6   \n",
       "5      Samer        Mo  100000.00                  13     J7H 3HY   \n",
       "6       Heba     Steve   50000.00                   7     K8Y 3M8   \n",
       "7      Laila       Aly   20000.00                   5     J8Y 3M0   \n",
       "8     Joseph    Patton    2629.13                   2     M6U 5U7   \n",
       "9       Noah     Moran    8626.96                  11     K2D 4M9   \n",
       "\n",
       "                     Email  \n",
       "0           bird@gmail.com  \n",
       "1       nsmall@hotmail.com  \n",
       "2          azikez@gahew.mr  \n",
       "3         chanel@gmail.com  \n",
       "4         kate@hotmail.com  \n",
       "5          samer@gmail.com  \n",
       "6  heba.ismail@hotmail.com  \n",
       "7      Laila.a@hotmail.com  \n",
       "8           daafeja@boh.jm  \n",
       "9        guutodi@bigwoc.kw  "
      ]
     },
     "execution_count": 36,
     "metadata": {},
     "output_type": "execute_result"
    }
   ],
   "source": [
    "# You can go back and use numeric index using reset_index\n",
    "employee_df.reset_index(inplace = True)\n",
    "employee_df\n"
   ]
  },
  {
   "cell_type": "code",
   "execution_count": 37,
   "metadata": {
    "colab": {
     "base_uri": "https://localhost:8080/",
     "height": 373
    },
    "executionInfo": {
     "elapsed": 322,
     "status": "ok",
     "timestamp": 1618627069706,
     "user": {
      "displayName": "Stemplicity",
      "photoUrl": "https://lh3.googleusercontent.com/a-/AOh14Gj2vCFt-bD5mPBhUWX0QA6xiBgoXQXtwUm2jgjaCg=s64",
      "userId": "10668071569687886186"
     },
     "user_tz": 240
    },
    "id": "BtZlbIvJSArX",
    "outputId": "8fda3c23-2374-4412-e70e-cb6ebeda15a7"
   },
   "outputs": [
    {
     "data": {
      "text/html": [
       "<div>\n",
       "<style scoped>\n",
       "    .dataframe tbody tr th:only-of-type {\n",
       "        vertical-align: middle;\n",
       "    }\n",
       "\n",
       "    .dataframe tbody tr th {\n",
       "        vertical-align: top;\n",
       "    }\n",
       "\n",
       "    .dataframe thead th {\n",
       "        text-align: right;\n",
       "    }\n",
       "</style>\n",
       "<table border=\"1\" class=\"dataframe\">\n",
       "  <thead>\n",
       "    <tr style=\"text-align: right;\">\n",
       "      <th></th>\n",
       "      <th>Last Name</th>\n",
       "      <th>Salary</th>\n",
       "      <th>Years with Company</th>\n",
       "      <th>Postal Code</th>\n",
       "      <th>Email</th>\n",
       "    </tr>\n",
       "    <tr>\n",
       "      <th>First Name</th>\n",
       "      <th></th>\n",
       "      <th></th>\n",
       "      <th></th>\n",
       "      <th></th>\n",
       "      <th></th>\n",
       "    </tr>\n",
       "  </thead>\n",
       "  <tbody>\n",
       "    <tr>\n",
       "      <th>Mike</th>\n",
       "      <td>Moe</td>\n",
       "      <td>5000.00</td>\n",
       "      <td>3</td>\n",
       "      <td>N94 3M0</td>\n",
       "      <td>bird@gmail.com</td>\n",
       "    </tr>\n",
       "    <tr>\n",
       "      <th>Noah</th>\n",
       "      <td>Ryan</td>\n",
       "      <td>10000.00</td>\n",
       "      <td>8</td>\n",
       "      <td>N8S 14K</td>\n",
       "      <td>nsmall@hotmail.com</td>\n",
       "    </tr>\n",
       "    <tr>\n",
       "      <th>Nina</th>\n",
       "      <td>Keller</td>\n",
       "      <td>9072.02</td>\n",
       "      <td>17</td>\n",
       "      <td>S1T 4E6</td>\n",
       "      <td>azikez@gahew.mr</td>\n",
       "    </tr>\n",
       "    <tr>\n",
       "      <th>Chanel</th>\n",
       "      <td>Steve</td>\n",
       "      <td>11072.02</td>\n",
       "      <td>12</td>\n",
       "      <td>N7T 3E6</td>\n",
       "      <td>chanel@gmail.com</td>\n",
       "    </tr>\n",
       "    <tr>\n",
       "      <th>Kate</th>\n",
       "      <td>Noor</td>\n",
       "      <td>5000.00</td>\n",
       "      <td>23</td>\n",
       "      <td>K8N 5H6</td>\n",
       "      <td>kate@hotmail.com</td>\n",
       "    </tr>\n",
       "    <tr>\n",
       "      <th>Samer</th>\n",
       "      <td>Mo</td>\n",
       "      <td>100000.00</td>\n",
       "      <td>13</td>\n",
       "      <td>J7H 3HY</td>\n",
       "      <td>samer@gmail.com</td>\n",
       "    </tr>\n",
       "    <tr>\n",
       "      <th>Heba</th>\n",
       "      <td>Steve</td>\n",
       "      <td>50000.00</td>\n",
       "      <td>7</td>\n",
       "      <td>K8Y 3M8</td>\n",
       "      <td>heba.ismail@hotmail.com</td>\n",
       "    </tr>\n",
       "    <tr>\n",
       "      <th>Laila</th>\n",
       "      <td>Aly</td>\n",
       "      <td>20000.00</td>\n",
       "      <td>5</td>\n",
       "      <td>J8Y 3M0</td>\n",
       "      <td>Laila.a@hotmail.com</td>\n",
       "    </tr>\n",
       "    <tr>\n",
       "      <th>Joseph</th>\n",
       "      <td>Patton</td>\n",
       "      <td>2629.13</td>\n",
       "      <td>2</td>\n",
       "      <td>M6U 5U7</td>\n",
       "      <td>daafeja@boh.jm</td>\n",
       "    </tr>\n",
       "    <tr>\n",
       "      <th>Noah</th>\n",
       "      <td>Moran</td>\n",
       "      <td>8626.96</td>\n",
       "      <td>11</td>\n",
       "      <td>K2D 4M9</td>\n",
       "      <td>guutodi@bigwoc.kw</td>\n",
       "    </tr>\n",
       "  </tbody>\n",
       "</table>\n",
       "</div>"
      ],
      "text/plain": [
       "           Last Name     Salary  Years with Company Postal Code  \\\n",
       "First Name                                                        \n",
       "Mike             Moe    5000.00                   3     N94 3M0   \n",
       "Noah            Ryan   10000.00                   8     N8S 14K   \n",
       "Nina          Keller    9072.02                  17     S1T 4E6   \n",
       "Chanel         Steve   11072.02                  12     N7T 3E6   \n",
       "Kate            Noor    5000.00                  23     K8N 5H6   \n",
       "Samer             Mo  100000.00                  13     J7H 3HY   \n",
       "Heba           Steve   50000.00                   7     K8Y 3M8   \n",
       "Laila            Aly   20000.00                   5     J8Y 3M0   \n",
       "Joseph        Patton    2629.13                   2     M6U 5U7   \n",
       "Noah           Moran    8626.96                  11     K2D 4M9   \n",
       "\n",
       "                              Email  \n",
       "First Name                           \n",
       "Mike                 bird@gmail.com  \n",
       "Noah             nsmall@hotmail.com  \n",
       "Nina                azikez@gahew.mr  \n",
       "Chanel             chanel@gmail.com  \n",
       "Kate               kate@hotmail.com  \n",
       "Samer               samer@gmail.com  \n",
       "Heba        heba.ismail@hotmail.com  \n",
       "Laila           Laila.a@hotmail.com  \n",
       "Joseph               daafeja@boh.jm  \n",
       "Noah              guutodi@bigwoc.kw  "
      ]
     },
     "execution_count": 37,
     "metadata": {},
     "output_type": "execute_result"
    }
   ],
   "source": [
    "# Alternatively, you can set the index name when you read the csv file as follows\n",
    "employee_df = pd.read_csv('employee_information.csv', index_col = 'First Name')\n",
    "employee_df"
   ]
  },
  {
   "cell_type": "markdown",
   "metadata": {
    "id": "7PyJ3Xpgs_Bv"
   },
   "source": [
    "**PRACTICE OPPORTUNITY #3 [OPTIONAL]:**\n",
    "- **Load the employee_information.csv and then set the \"Last Name\" column as the index**"
   ]
  },
  {
   "cell_type": "code",
   "execution_count": null,
   "metadata": {},
   "outputs": [],
   "source": []
  },
  {
   "cell_type": "markdown",
   "metadata": {
    "executionInfo": {
     "elapsed": 3342,
     "status": "aborted",
     "timestamp": 1618625934397,
     "user": {
      "displayName": "Stemplicity",
      "photoUrl": "https://lh3.googleusercontent.com/a-/AOh14Gj2vCFt-bD5mPBhUWX0QA6xiBgoXQXtwUm2jgjaCg=s64",
      "userId": "10668071569687886186"
     },
     "user_tz": 240
    },
    "id": "wLyH7CnC4Vjj"
   },
   "source": [
    "# FINAL CAPSTONE PROJECT"
   ]
  },
  {
   "cell_type": "markdown",
   "metadata": {},
   "source": [
    "- **In this project, we will perform basic Exploratory Data Analysis (EDA) on the University Admissions Dataset**\n",
    "- **Using the \"university_admision.csv\" included in the course package, write a python script to perform the following tasks:**\n",
    "    - **1. Import the \"university_admission.csv\" file using Pandas** \n",
    "    - **2. Display the first and last 8 rows in the DataFrame**\n",
    "    - **3. Obtain the shape of the DataFrame**\n",
    "    - **4. Calculate the average, min and max values for the LOR and SOP Columns**\n",
    "    - **5. Use the GRE Score as the pandas dataframe index**\n",
    "- **Columns definitions are as listed below:**\n",
    "    - GRE Scores (out of 340)\n",
    "    - TOEFL Scores (out of 120)\n",
    "    - University Rating (out of 5)\n",
    "    - Statement of Purpose (SOP) \n",
    "    - Letter of Recommendation (LOR) Strength (out of 5)\n",
    "    - Undergraduate GPA (out of 10)\n",
    "    - Research Experience (either 0 or 1)\n",
    "    - Chance of admission (ranging from 0 to 1)\n",
    "\n"
   ]
  },
  {
   "cell_type": "code",
   "execution_count": null,
   "metadata": {},
   "outputs": [],
   "source": []
  },
  {
   "cell_type": "markdown",
   "metadata": {
    "id": "i1gJS3K7vlxd"
   },
   "source": [
    "# EXCELLENT JOB!"
   ]
  },
  {
   "cell_type": "markdown",
   "metadata": {
    "id": "MF2SdJZ_vn4z"
   },
   "source": [
    "# PRACTICE OPPORTUNITIES SOLUTIONS"
   ]
  },
  {
   "cell_type": "markdown",
   "metadata": {
    "id": "Y6fUsXPv1Wom"
   },
   "source": [
    "**PRACTICE OPPORTUNITY #1 SOLUTION:**\n",
    "- **A porfolio contains a collection of securities such as stocks, bonds and ETFs. Define a dataframe named 'portfolio_df' that holds 3 different stock ticker symbols, number of shares, and price per share (feel free to choose any stocks)**\n",
    "- **Calculate the total value of the porfolio including all stocks**"
   ]
  },
  {
   "cell_type": "code",
   "execution_count": null,
   "metadata": {
    "colab": {
     "base_uri": "https://localhost:8080/",
     "height": 136
    },
    "executionInfo": {
     "elapsed": 278,
     "status": "ok",
     "timestamp": 1618626244107,
     "user": {
      "displayName": "Stemplicity",
      "photoUrl": "https://lh3.googleusercontent.com/a-/AOh14Gj2vCFt-bD5mPBhUWX0QA6xiBgoXQXtwUm2jgjaCg=s64",
      "userId": "10668071569687886186"
     },
     "user_tz": 240
    },
    "id": "8pftwyY81Wos",
    "outputId": "1b4f2af7-cc36-4648-b622-f3d6556798d2"
   },
   "outputs": [],
   "source": [
    "portfolio_df = pd.DataFrame({'stock ticker symbols':['FB', 'TSLA', 'T'],\n",
    "                             'price per share [$]':[3800, 300, 400], \n",
    "                             'Number of stocks':[4, 7, 10]})\n",
    "portfolio_df"
   ]
  },
  {
   "cell_type": "code",
   "execution_count": null,
   "metadata": {
    "colab": {
     "base_uri": "https://localhost:8080/"
    },
    "executionInfo": {
     "elapsed": 282,
     "status": "ok",
     "timestamp": 1618626276371,
     "user": {
      "displayName": "Stemplicity",
      "photoUrl": "https://lh3.googleusercontent.com/a-/AOh14Gj2vCFt-bD5mPBhUWX0QA6xiBgoXQXtwUm2jgjaCg=s64",
      "userId": "10668071569687886186"
     },
     "user_tz": 240
    },
    "id": "zTgj_BoE1Woy",
    "outputId": "f1c5899d-377d-4934-d4f7-969ffa89f0e7"
   },
   "outputs": [],
   "source": [
    "stocks_dollar_value = portfolio_df['price per share [$]'] * portfolio_df['Number of stocks']\n",
    "print(stocks_dollar_value)"
   ]
  },
  {
   "cell_type": "code",
   "execution_count": null,
   "metadata": {
    "colab": {
     "base_uri": "https://localhost:8080/"
    },
    "executionInfo": {
     "elapsed": 303,
     "status": "ok",
     "timestamp": 1618626287027,
     "user": {
      "displayName": "Stemplicity",
      "photoUrl": "https://lh3.googleusercontent.com/a-/AOh14Gj2vCFt-bD5mPBhUWX0QA6xiBgoXQXtwUm2jgjaCg=s64",
      "userId": "10668071569687886186"
     },
     "user_tz": 240
    },
    "id": "bzC7aM1EpMoy",
    "outputId": "5517c715-1bc5-4f3e-af32-ca9a16a9670a"
   },
   "outputs": [],
   "source": [
    "print('Total portfolio value = {}'.format(stocks_dollar_value.sum()))"
   ]
  },
  {
   "cell_type": "markdown",
   "metadata": {
    "id": "5YQ1rFW723fN"
   },
   "source": [
    "**PRACTICE OPPORTUNITY #2 SOLUTION:**\n",
    "- **Calculate the average salary and years with company using a different method**"
   ]
  },
  {
   "cell_type": "code",
   "execution_count": 22,
   "metadata": {},
   "outputs": [
    {
     "data": {
      "text/plain": [
       "22140.013"
      ]
     },
     "execution_count": 22,
     "metadata": {},
     "output_type": "execute_result"
    }
   ],
   "source": [
    "employee_df['Salary'].mean()"
   ]
  },
  {
   "cell_type": "code",
   "execution_count": null,
   "metadata": {},
   "outputs": [],
   "source": [
    "employee_df['Years with Company'].mean()"
   ]
  },
  {
   "cell_type": "code",
   "execution_count": 21,
   "metadata": {},
   "outputs": [
    {
     "data": {
      "text/plain": [
       "22140.013"
      ]
     },
     "execution_count": 21,
     "metadata": {},
     "output_type": "execute_result"
    }
   ],
   "source": [
    "employee_df['Salary'].sum()/employee_df['Salary'].count()"
   ]
  },
  {
   "cell_type": "code",
   "execution_count": null,
   "metadata": {},
   "outputs": [],
   "source": [
    "employee_df['Years with Company'].sum()/employee_df['Years with Company'].count()"
   ]
  },
  {
   "cell_type": "markdown",
   "metadata": {
    "id": "VS454-0PsTMj"
   },
   "source": [
    "**PRACTICE OPPORTUNITY #3 SOLUTION:**\n",
    "- **Load the employee_information.csv and then set the \"Last Name\" column as the index**"
   ]
  },
  {
   "cell_type": "code",
   "execution_count": null,
   "metadata": {
    "colab": {
     "base_uri": "https://localhost:8080/",
     "height": 343
    },
    "executionInfo": {
     "elapsed": 291,
     "status": "ok",
     "timestamp": 1618627228414,
     "user": {
      "displayName": "Stemplicity",
      "photoUrl": "https://lh3.googleusercontent.com/a-/AOh14Gj2vCFt-bD5mPBhUWX0QA6xiBgoXQXtwUm2jgjaCg=s64",
      "userId": "10668071569687886186"
     },
     "user_tz": 240
    },
    "id": "-h9TefREskjH",
    "outputId": "ca40d02a-23f7-48cf-e8c2-bf1035c48c84"
   },
   "outputs": [],
   "source": [
    "employee_df = pd.read_csv('employee_information.csv')\n",
    "employee_df"
   ]
  },
  {
   "cell_type": "code",
   "execution_count": null,
   "metadata": {
    "colab": {
     "base_uri": "https://localhost:8080/",
     "height": 373
    },
    "executionInfo": {
     "elapsed": 327,
     "status": "ok",
     "timestamp": 1618627239849,
     "user": {
      "displayName": "Stemplicity",
      "photoUrl": "https://lh3.googleusercontent.com/a-/AOh14Gj2vCFt-bD5mPBhUWX0QA6xiBgoXQXtwUm2jgjaCg=s64",
      "userId": "10668071569687886186"
     },
     "user_tz": 240
    },
    "id": "OFERUpzYshCR",
    "outputId": "7fa69d37-68fa-459a-c7b9-21e5122793ac"
   },
   "outputs": [],
   "source": [
    "# You can assign a specific column to be the index as follows\n",
    "employee_df.set_index(\"Last Name\", inplace = True)\n",
    "employee_df"
   ]
  },
  {
   "cell_type": "markdown",
   "metadata": {},
   "source": [
    "# PROJECT SOLUTION"
   ]
  },
  {
   "cell_type": "markdown",
   "metadata": {
    "id": "ROKmCA7ntFB4"
   },
   "source": [
    "- **In this project, we will perform basic Exploratory Data Analysis (EDA) on the University Admissions Dataset**\n",
    "- **Using the \"university_admision.csv\" included in the course package, write a python script to perform the following tasks:**\n",
    "    - **1. Import the \"university_admission.csv\" file using Pandas** \n",
    "    - **2. Display the first and last 8 rows in the DataFrame**\n",
    "    - **3. Obtain the shape of the DataFrame**\n",
    "    - **4. Calculate the average, min and max values for the LOR and SOP Columns**\n",
    "    - **5. Use the GRE Score as the pandas dataframe index**\n",
    "- **Columns definitions are as listed below:**\n",
    "    - GRE Scores (out of 340)\n",
    "    - TOEFL Scores (out of 120)\n",
    "    - University Rating (out of 5)\n",
    "    - Statement of Purpose (SOP) \n",
    "    - Letter of Recommendation (LOR) Strength (out of 5)\n",
    "    - Undergraduate GPA (out of 10)\n",
    "    - Research Experience (either 0 or 1)\n",
    "    - Chance of admission (ranging from 0 to 1)\n"
   ]
  },
  {
   "cell_type": "code",
   "execution_count": 40,
   "metadata": {},
   "outputs": [],
   "source": [
    "import pandas as pd "
   ]
  },
  {
   "cell_type": "code",
   "execution_count": 41,
   "metadata": {},
   "outputs": [],
   "source": [
    "# Read the CSV file \n",
    "university_df = pd.read_csv(\"university_admission.csv\")"
   ]
  },
  {
   "cell_type": "code",
   "execution_count": 42,
   "metadata": {},
   "outputs": [
    {
     "data": {
      "text/html": [
       "<div>\n",
       "<style scoped>\n",
       "    .dataframe tbody tr th:only-of-type {\n",
       "        vertical-align: middle;\n",
       "    }\n",
       "\n",
       "    .dataframe tbody tr th {\n",
       "        vertical-align: top;\n",
       "    }\n",
       "\n",
       "    .dataframe thead th {\n",
       "        text-align: right;\n",
       "    }\n",
       "</style>\n",
       "<table border=\"1\" class=\"dataframe\">\n",
       "  <thead>\n",
       "    <tr style=\"text-align: right;\">\n",
       "      <th></th>\n",
       "      <th>GRE_Score</th>\n",
       "      <th>TOEFL_Score</th>\n",
       "      <th>University_Rating</th>\n",
       "      <th>SOP</th>\n",
       "      <th>LOR</th>\n",
       "      <th>CGPA</th>\n",
       "      <th>Research</th>\n",
       "      <th>Chance_of_Admission</th>\n",
       "    </tr>\n",
       "  </thead>\n",
       "  <tbody>\n",
       "    <tr>\n",
       "      <th>0</th>\n",
       "      <td>337</td>\n",
       "      <td>118</td>\n",
       "      <td>4</td>\n",
       "      <td>4.5</td>\n",
       "      <td>4.5</td>\n",
       "      <td>9.65</td>\n",
       "      <td>1</td>\n",
       "      <td>0.92</td>\n",
       "    </tr>\n",
       "    <tr>\n",
       "      <th>1</th>\n",
       "      <td>324</td>\n",
       "      <td>107</td>\n",
       "      <td>4</td>\n",
       "      <td>4.0</td>\n",
       "      <td>4.5</td>\n",
       "      <td>8.87</td>\n",
       "      <td>1</td>\n",
       "      <td>0.76</td>\n",
       "    </tr>\n",
       "    <tr>\n",
       "      <th>2</th>\n",
       "      <td>316</td>\n",
       "      <td>104</td>\n",
       "      <td>3</td>\n",
       "      <td>3.0</td>\n",
       "      <td>3.5</td>\n",
       "      <td>8.00</td>\n",
       "      <td>1</td>\n",
       "      <td>0.72</td>\n",
       "    </tr>\n",
       "    <tr>\n",
       "      <th>3</th>\n",
       "      <td>322</td>\n",
       "      <td>110</td>\n",
       "      <td>3</td>\n",
       "      <td>3.5</td>\n",
       "      <td>2.5</td>\n",
       "      <td>8.67</td>\n",
       "      <td>1</td>\n",
       "      <td>0.80</td>\n",
       "    </tr>\n",
       "    <tr>\n",
       "      <th>4</th>\n",
       "      <td>314</td>\n",
       "      <td>103</td>\n",
       "      <td>2</td>\n",
       "      <td>2.0</td>\n",
       "      <td>3.0</td>\n",
       "      <td>8.21</td>\n",
       "      <td>0</td>\n",
       "      <td>0.65</td>\n",
       "    </tr>\n",
       "    <tr>\n",
       "      <th>5</th>\n",
       "      <td>330</td>\n",
       "      <td>115</td>\n",
       "      <td>5</td>\n",
       "      <td>4.5</td>\n",
       "      <td>3.0</td>\n",
       "      <td>9.34</td>\n",
       "      <td>1</td>\n",
       "      <td>0.90</td>\n",
       "    </tr>\n",
       "    <tr>\n",
       "      <th>6</th>\n",
       "      <td>321</td>\n",
       "      <td>109</td>\n",
       "      <td>3</td>\n",
       "      <td>3.0</td>\n",
       "      <td>4.0</td>\n",
       "      <td>8.20</td>\n",
       "      <td>1</td>\n",
       "      <td>0.75</td>\n",
       "    </tr>\n",
       "    <tr>\n",
       "      <th>7</th>\n",
       "      <td>308</td>\n",
       "      <td>101</td>\n",
       "      <td>2</td>\n",
       "      <td>3.0</td>\n",
       "      <td>4.0</td>\n",
       "      <td>7.90</td>\n",
       "      <td>0</td>\n",
       "      <td>0.68</td>\n",
       "    </tr>\n",
       "  </tbody>\n",
       "</table>\n",
       "</div>"
      ],
      "text/plain": [
       "   GRE_Score  TOEFL_Score  University_Rating  SOP  LOR  CGPA  Research  \\\n",
       "0        337          118                  4  4.5  4.5  9.65         1   \n",
       "1        324          107                  4  4.0  4.5  8.87         1   \n",
       "2        316          104                  3  3.0  3.5  8.00         1   \n",
       "3        322          110                  3  3.5  2.5  8.67         1   \n",
       "4        314          103                  2  2.0  3.0  8.21         0   \n",
       "5        330          115                  5  4.5  3.0  9.34         1   \n",
       "6        321          109                  3  3.0  4.0  8.20         1   \n",
       "7        308          101                  2  3.0  4.0  7.90         0   \n",
       "\n",
       "   Chance_of_Admission  \n",
       "0                 0.92  \n",
       "1                 0.76  \n",
       "2                 0.72  \n",
       "3                 0.80  \n",
       "4                 0.65  \n",
       "5                 0.90  \n",
       "6                 0.75  \n",
       "7                 0.68  "
      ]
     },
     "execution_count": 42,
     "metadata": {},
     "output_type": "execute_result"
    }
   ],
   "source": [
    "# Load the top 8 instances\n",
    "university_df.head(8)"
   ]
  },
  {
   "cell_type": "code",
   "execution_count": 43,
   "metadata": {},
   "outputs": [
    {
     "data": {
      "text/html": [
       "<div>\n",
       "<style scoped>\n",
       "    .dataframe tbody tr th:only-of-type {\n",
       "        vertical-align: middle;\n",
       "    }\n",
       "\n",
       "    .dataframe tbody tr th {\n",
       "        vertical-align: top;\n",
       "    }\n",
       "\n",
       "    .dataframe thead th {\n",
       "        text-align: right;\n",
       "    }\n",
       "</style>\n",
       "<table border=\"1\" class=\"dataframe\">\n",
       "  <thead>\n",
       "    <tr style=\"text-align: right;\">\n",
       "      <th></th>\n",
       "      <th>GRE_Score</th>\n",
       "      <th>TOEFL_Score</th>\n",
       "      <th>University_Rating</th>\n",
       "      <th>SOP</th>\n",
       "      <th>LOR</th>\n",
       "      <th>CGPA</th>\n",
       "      <th>Research</th>\n",
       "      <th>Chance_of_Admission</th>\n",
       "    </tr>\n",
       "  </thead>\n",
       "  <tbody>\n",
       "    <tr>\n",
       "      <th>992</th>\n",
       "      <td>298</td>\n",
       "      <td>101</td>\n",
       "      <td>4</td>\n",
       "      <td>2.5</td>\n",
       "      <td>4.5</td>\n",
       "      <td>7.69</td>\n",
       "      <td>1</td>\n",
       "      <td>0.53</td>\n",
       "    </tr>\n",
       "    <tr>\n",
       "      <th>993</th>\n",
       "      <td>300</td>\n",
       "      <td>95</td>\n",
       "      <td>2</td>\n",
       "      <td>3.0</td>\n",
       "      <td>1.5</td>\n",
       "      <td>8.22</td>\n",
       "      <td>1</td>\n",
       "      <td>0.62</td>\n",
       "    </tr>\n",
       "    <tr>\n",
       "      <th>994</th>\n",
       "      <td>301</td>\n",
       "      <td>99</td>\n",
       "      <td>3</td>\n",
       "      <td>2.5</td>\n",
       "      <td>2.0</td>\n",
       "      <td>8.45</td>\n",
       "      <td>1</td>\n",
       "      <td>0.68</td>\n",
       "    </tr>\n",
       "    <tr>\n",
       "      <th>995</th>\n",
       "      <td>332</td>\n",
       "      <td>108</td>\n",
       "      <td>5</td>\n",
       "      <td>4.5</td>\n",
       "      <td>4.0</td>\n",
       "      <td>9.02</td>\n",
       "      <td>1</td>\n",
       "      <td>0.87</td>\n",
       "    </tr>\n",
       "    <tr>\n",
       "      <th>996</th>\n",
       "      <td>337</td>\n",
       "      <td>117</td>\n",
       "      <td>5</td>\n",
       "      <td>5.0</td>\n",
       "      <td>5.0</td>\n",
       "      <td>9.87</td>\n",
       "      <td>1</td>\n",
       "      <td>0.96</td>\n",
       "    </tr>\n",
       "    <tr>\n",
       "      <th>997</th>\n",
       "      <td>330</td>\n",
       "      <td>120</td>\n",
       "      <td>5</td>\n",
       "      <td>4.5</td>\n",
       "      <td>5.0</td>\n",
       "      <td>9.56</td>\n",
       "      <td>1</td>\n",
       "      <td>0.93</td>\n",
       "    </tr>\n",
       "    <tr>\n",
       "      <th>998</th>\n",
       "      <td>312</td>\n",
       "      <td>103</td>\n",
       "      <td>4</td>\n",
       "      <td>4.0</td>\n",
       "      <td>5.0</td>\n",
       "      <td>8.43</td>\n",
       "      <td>0</td>\n",
       "      <td>0.73</td>\n",
       "    </tr>\n",
       "    <tr>\n",
       "      <th>999</th>\n",
       "      <td>327</td>\n",
       "      <td>113</td>\n",
       "      <td>4</td>\n",
       "      <td>4.5</td>\n",
       "      <td>4.5</td>\n",
       "      <td>9.04</td>\n",
       "      <td>0</td>\n",
       "      <td>0.84</td>\n",
       "    </tr>\n",
       "  </tbody>\n",
       "</table>\n",
       "</div>"
      ],
      "text/plain": [
       "     GRE_Score  TOEFL_Score  University_Rating  SOP  LOR  CGPA  Research  \\\n",
       "992        298          101                  4  2.5  4.5  7.69         1   \n",
       "993        300           95                  2  3.0  1.5  8.22         1   \n",
       "994        301           99                  3  2.5  2.0  8.45         1   \n",
       "995        332          108                  5  4.5  4.0  9.02         1   \n",
       "996        337          117                  5  5.0  5.0  9.87         1   \n",
       "997        330          120                  5  4.5  5.0  9.56         1   \n",
       "998        312          103                  4  4.0  5.0  8.43         0   \n",
       "999        327          113                  4  4.5  4.5  9.04         0   \n",
       "\n",
       "     Chance_of_Admission  \n",
       "992                 0.53  \n",
       "993                 0.62  \n",
       "994                 0.68  \n",
       "995                 0.87  \n",
       "996                 0.96  \n",
       "997                 0.93  \n",
       "998                 0.73  \n",
       "999                 0.84  "
      ]
     },
     "execution_count": 43,
     "metadata": {},
     "output_type": "execute_result"
    }
   ],
   "source": [
    "# Load the bottom 8 instances \n",
    "university_df.tail(8)"
   ]
  },
  {
   "cell_type": "code",
   "execution_count": 44,
   "metadata": {},
   "outputs": [
    {
     "data": {
      "text/plain": [
       "Index(['GRE_Score', 'TOEFL_Score', 'University_Rating', 'SOP', 'LOR', 'CGPA',\n",
       "       'Research', 'Chance_of_Admission'],\n",
       "      dtype='object')"
      ]
     },
     "execution_count": 44,
     "metadata": {},
     "output_type": "execute_result"
    }
   ],
   "source": [
    "# Display the feature columns\n",
    "university_df.columns"
   ]
  },
  {
   "cell_type": "code",
   "execution_count": 45,
   "metadata": {},
   "outputs": [
    {
     "data": {
      "text/plain": [
       "(1000, 8)"
      ]
     },
     "execution_count": 45,
     "metadata": {},
     "output_type": "execute_result"
    }
   ],
   "source": [
    "# Check the shape of the dataframe\n",
    "university_df.shape"
   ]
  },
  {
   "cell_type": "code",
   "execution_count": 46,
   "metadata": {},
   "outputs": [
    {
     "data": {
      "text/plain": [
       "GRE_Score              0\n",
       "TOEFL_Score            0\n",
       "University_Rating      0\n",
       "SOP                    0\n",
       "LOR                    0\n",
       "CGPA                   0\n",
       "Research               0\n",
       "Chance_of_Admission    0\n",
       "dtype: int64"
      ]
     },
     "execution_count": 46,
     "metadata": {},
     "output_type": "execute_result"
    }
   ],
   "source": [
    "# Check if any missing values are present in the dataframe\n",
    "university_df.isnull().sum()"
   ]
  },
  {
   "cell_type": "code",
   "execution_count": 47,
   "metadata": {},
   "outputs": [
    {
     "data": {
      "text/html": [
       "<div>\n",
       "<style scoped>\n",
       "    .dataframe tbody tr th:only-of-type {\n",
       "        vertical-align: middle;\n",
       "    }\n",
       "\n",
       "    .dataframe tbody tr th {\n",
       "        vertical-align: top;\n",
       "    }\n",
       "\n",
       "    .dataframe thead th {\n",
       "        text-align: right;\n",
       "    }\n",
       "</style>\n",
       "<table border=\"1\" class=\"dataframe\">\n",
       "  <thead>\n",
       "    <tr style=\"text-align: right;\">\n",
       "      <th></th>\n",
       "      <th>GRE_Score</th>\n",
       "      <th>TOEFL_Score</th>\n",
       "      <th>University_Rating</th>\n",
       "      <th>SOP</th>\n",
       "      <th>LOR</th>\n",
       "      <th>CGPA</th>\n",
       "      <th>Research</th>\n",
       "      <th>Chance_of_Admission</th>\n",
       "    </tr>\n",
       "  </thead>\n",
       "  <tbody>\n",
       "    <tr>\n",
       "      <th>count</th>\n",
       "      <td>1000.000000</td>\n",
       "      <td>1000.000000</td>\n",
       "      <td>1000.000000</td>\n",
       "      <td>1000.000000</td>\n",
       "      <td>1000.000000</td>\n",
       "      <td>1000.00000</td>\n",
       "      <td>1000.000000</td>\n",
       "      <td>1000.00000</td>\n",
       "    </tr>\n",
       "    <tr>\n",
       "      <th>mean</th>\n",
       "      <td>316.472000</td>\n",
       "      <td>107.193000</td>\n",
       "      <td>3.114000</td>\n",
       "      <td>3.374000</td>\n",
       "      <td>3.484000</td>\n",
       "      <td>8.57644</td>\n",
       "      <td>0.560000</td>\n",
       "      <td>0.72174</td>\n",
       "    </tr>\n",
       "    <tr>\n",
       "      <th>std</th>\n",
       "      <td>11.289494</td>\n",
       "      <td>6.079368</td>\n",
       "      <td>1.142939</td>\n",
       "      <td>0.990507</td>\n",
       "      <td>0.924986</td>\n",
       "      <td>0.60451</td>\n",
       "      <td>0.496635</td>\n",
       "      <td>0.14107</td>\n",
       "    </tr>\n",
       "    <tr>\n",
       "      <th>min</th>\n",
       "      <td>290.000000</td>\n",
       "      <td>92.000000</td>\n",
       "      <td>1.000000</td>\n",
       "      <td>1.000000</td>\n",
       "      <td>1.000000</td>\n",
       "      <td>6.80000</td>\n",
       "      <td>0.000000</td>\n",
       "      <td>0.34000</td>\n",
       "    </tr>\n",
       "    <tr>\n",
       "      <th>25%</th>\n",
       "      <td>308.000000</td>\n",
       "      <td>103.000000</td>\n",
       "      <td>2.000000</td>\n",
       "      <td>2.500000</td>\n",
       "      <td>3.000000</td>\n",
       "      <td>8.12750</td>\n",
       "      <td>0.000000</td>\n",
       "      <td>0.63000</td>\n",
       "    </tr>\n",
       "    <tr>\n",
       "      <th>50%</th>\n",
       "      <td>317.000000</td>\n",
       "      <td>107.000000</td>\n",
       "      <td>3.000000</td>\n",
       "      <td>3.500000</td>\n",
       "      <td>3.500000</td>\n",
       "      <td>8.56000</td>\n",
       "      <td>1.000000</td>\n",
       "      <td>0.72000</td>\n",
       "    </tr>\n",
       "    <tr>\n",
       "      <th>75%</th>\n",
       "      <td>325.000000</td>\n",
       "      <td>112.000000</td>\n",
       "      <td>4.000000</td>\n",
       "      <td>4.000000</td>\n",
       "      <td>4.000000</td>\n",
       "      <td>9.04000</td>\n",
       "      <td>1.000000</td>\n",
       "      <td>0.82000</td>\n",
       "    </tr>\n",
       "    <tr>\n",
       "      <th>max</th>\n",
       "      <td>340.000000</td>\n",
       "      <td>120.000000</td>\n",
       "      <td>5.000000</td>\n",
       "      <td>5.000000</td>\n",
       "      <td>5.000000</td>\n",
       "      <td>9.92000</td>\n",
       "      <td>1.000000</td>\n",
       "      <td>0.97000</td>\n",
       "    </tr>\n",
       "  </tbody>\n",
       "</table>\n",
       "</div>"
      ],
      "text/plain": [
       "         GRE_Score  TOEFL_Score  University_Rating          SOP          LOR  \\\n",
       "count  1000.000000  1000.000000        1000.000000  1000.000000  1000.000000   \n",
       "mean    316.472000   107.193000           3.114000     3.374000     3.484000   \n",
       "std      11.289494     6.079368           1.142939     0.990507     0.924986   \n",
       "min     290.000000    92.000000           1.000000     1.000000     1.000000   \n",
       "25%     308.000000   103.000000           2.000000     2.500000     3.000000   \n",
       "50%     317.000000   107.000000           3.000000     3.500000     3.500000   \n",
       "75%     325.000000   112.000000           4.000000     4.000000     4.000000   \n",
       "max     340.000000   120.000000           5.000000     5.000000     5.000000   \n",
       "\n",
       "             CGPA     Research  Chance_of_Admission  \n",
       "count  1000.00000  1000.000000           1000.00000  \n",
       "mean      8.57644     0.560000              0.72174  \n",
       "std       0.60451     0.496635              0.14107  \n",
       "min       6.80000     0.000000              0.34000  \n",
       "25%       8.12750     0.000000              0.63000  \n",
       "50%       8.56000     1.000000              0.72000  \n",
       "75%       9.04000     1.000000              0.82000  \n",
       "max       9.92000     1.000000              0.97000  "
      ]
     },
     "execution_count": 47,
     "metadata": {},
     "output_type": "execute_result"
    }
   ],
   "source": [
    "university_df.describe()"
   ]
  },
  {
   "cell_type": "code",
   "execution_count": 48,
   "metadata": {},
   "outputs": [
    {
     "data": {
      "text/html": [
       "<div>\n",
       "<style scoped>\n",
       "    .dataframe tbody tr th:only-of-type {\n",
       "        vertical-align: middle;\n",
       "    }\n",
       "\n",
       "    .dataframe tbody tr th {\n",
       "        vertical-align: top;\n",
       "    }\n",
       "\n",
       "    .dataframe thead th {\n",
       "        text-align: right;\n",
       "    }\n",
       "</style>\n",
       "<table border=\"1\" class=\"dataframe\">\n",
       "  <thead>\n",
       "    <tr style=\"text-align: right;\">\n",
       "      <th></th>\n",
       "      <th>TOEFL_Score</th>\n",
       "      <th>University_Rating</th>\n",
       "      <th>SOP</th>\n",
       "      <th>LOR</th>\n",
       "      <th>CGPA</th>\n",
       "      <th>Research</th>\n",
       "      <th>Chance_of_Admission</th>\n",
       "    </tr>\n",
       "    <tr>\n",
       "      <th>GRE_Score</th>\n",
       "      <th></th>\n",
       "      <th></th>\n",
       "      <th></th>\n",
       "      <th></th>\n",
       "      <th></th>\n",
       "      <th></th>\n",
       "      <th></th>\n",
       "    </tr>\n",
       "  </thead>\n",
       "  <tbody>\n",
       "    <tr>\n",
       "      <th>337</th>\n",
       "      <td>118</td>\n",
       "      <td>4</td>\n",
       "      <td>4.5</td>\n",
       "      <td>4.5</td>\n",
       "      <td>9.65</td>\n",
       "      <td>1</td>\n",
       "      <td>0.92</td>\n",
       "    </tr>\n",
       "    <tr>\n",
       "      <th>324</th>\n",
       "      <td>107</td>\n",
       "      <td>4</td>\n",
       "      <td>4.0</td>\n",
       "      <td>4.5</td>\n",
       "      <td>8.87</td>\n",
       "      <td>1</td>\n",
       "      <td>0.76</td>\n",
       "    </tr>\n",
       "    <tr>\n",
       "      <th>316</th>\n",
       "      <td>104</td>\n",
       "      <td>3</td>\n",
       "      <td>3.0</td>\n",
       "      <td>3.5</td>\n",
       "      <td>8.00</td>\n",
       "      <td>1</td>\n",
       "      <td>0.72</td>\n",
       "    </tr>\n",
       "    <tr>\n",
       "      <th>322</th>\n",
       "      <td>110</td>\n",
       "      <td>3</td>\n",
       "      <td>3.5</td>\n",
       "      <td>2.5</td>\n",
       "      <td>8.67</td>\n",
       "      <td>1</td>\n",
       "      <td>0.80</td>\n",
       "    </tr>\n",
       "    <tr>\n",
       "      <th>314</th>\n",
       "      <td>103</td>\n",
       "      <td>2</td>\n",
       "      <td>2.0</td>\n",
       "      <td>3.0</td>\n",
       "      <td>8.21</td>\n",
       "      <td>0</td>\n",
       "      <td>0.65</td>\n",
       "    </tr>\n",
       "    <tr>\n",
       "      <th>...</th>\n",
       "      <td>...</td>\n",
       "      <td>...</td>\n",
       "      <td>...</td>\n",
       "      <td>...</td>\n",
       "      <td>...</td>\n",
       "      <td>...</td>\n",
       "      <td>...</td>\n",
       "    </tr>\n",
       "    <tr>\n",
       "      <th>332</th>\n",
       "      <td>108</td>\n",
       "      <td>5</td>\n",
       "      <td>4.5</td>\n",
       "      <td>4.0</td>\n",
       "      <td>9.02</td>\n",
       "      <td>1</td>\n",
       "      <td>0.87</td>\n",
       "    </tr>\n",
       "    <tr>\n",
       "      <th>337</th>\n",
       "      <td>117</td>\n",
       "      <td>5</td>\n",
       "      <td>5.0</td>\n",
       "      <td>5.0</td>\n",
       "      <td>9.87</td>\n",
       "      <td>1</td>\n",
       "      <td>0.96</td>\n",
       "    </tr>\n",
       "    <tr>\n",
       "      <th>330</th>\n",
       "      <td>120</td>\n",
       "      <td>5</td>\n",
       "      <td>4.5</td>\n",
       "      <td>5.0</td>\n",
       "      <td>9.56</td>\n",
       "      <td>1</td>\n",
       "      <td>0.93</td>\n",
       "    </tr>\n",
       "    <tr>\n",
       "      <th>312</th>\n",
       "      <td>103</td>\n",
       "      <td>4</td>\n",
       "      <td>4.0</td>\n",
       "      <td>5.0</td>\n",
       "      <td>8.43</td>\n",
       "      <td>0</td>\n",
       "      <td>0.73</td>\n",
       "    </tr>\n",
       "    <tr>\n",
       "      <th>327</th>\n",
       "      <td>113</td>\n",
       "      <td>4</td>\n",
       "      <td>4.5</td>\n",
       "      <td>4.5</td>\n",
       "      <td>9.04</td>\n",
       "      <td>0</td>\n",
       "      <td>0.84</td>\n",
       "    </tr>\n",
       "  </tbody>\n",
       "</table>\n",
       "<p>1000 rows × 7 columns</p>\n",
       "</div>"
      ],
      "text/plain": [
       "           TOEFL_Score  University_Rating  SOP  LOR  CGPA  Research  \\\n",
       "GRE_Score                                                             \n",
       "337                118                  4  4.5  4.5  9.65         1   \n",
       "324                107                  4  4.0  4.5  8.87         1   \n",
       "316                104                  3  3.0  3.5  8.00         1   \n",
       "322                110                  3  3.5  2.5  8.67         1   \n",
       "314                103                  2  2.0  3.0  8.21         0   \n",
       "...                ...                ...  ...  ...   ...       ...   \n",
       "332                108                  5  4.5  4.0  9.02         1   \n",
       "337                117                  5  5.0  5.0  9.87         1   \n",
       "330                120                  5  4.5  5.0  9.56         1   \n",
       "312                103                  4  4.0  5.0  8.43         0   \n",
       "327                113                  4  4.5  4.5  9.04         0   \n",
       "\n",
       "           Chance_of_Admission  \n",
       "GRE_Score                       \n",
       "337                       0.92  \n",
       "324                       0.76  \n",
       "316                       0.72  \n",
       "322                       0.80  \n",
       "314                       0.65  \n",
       "...                        ...  \n",
       "332                       0.87  \n",
       "337                       0.96  \n",
       "330                       0.93  \n",
       "312                       0.73  \n",
       "327                       0.84  \n",
       "\n",
       "[1000 rows x 7 columns]"
      ]
     },
     "execution_count": 48,
     "metadata": {},
     "output_type": "execute_result"
    }
   ],
   "source": [
    "university_df = pd.read_csv('university_admission.csv', index_col = 'GRE_Score')\n",
    "university_df"
   ]
  },
  {
   "cell_type": "markdown",
   "metadata": {},
   "source": [
    "# EXCELLENT JOB! "
   ]
  }
 ],
 "metadata": {
  "colab": {
   "authorship_tag": "ABX9TyOhB/EtaVdxmF8OCwGSA3zM",
   "collapsed_sections": [],
   "name": "2. Pandas Fundamentals - DataFrames.ipynb",
   "provenance": [],
   "toc_visible": true
  },
  "instance_type": "ml.t3.medium",
  "kernelspec": {
   "display_name": "Python 3 (Data Science)",
   "language": "python",
   "name": "python3__SAGEMAKER_INTERNAL__arn:aws:sagemaker:us-east-1:081325390199:image/datascience-1.0"
  },
  "language_info": {
   "codemirror_mode": {
    "name": "ipython",
    "version": 3
   },
   "file_extension": ".py",
   "mimetype": "text/x-python",
   "name": "python",
   "nbconvert_exporter": "python",
   "pygments_lexer": "ipython3",
   "version": "3.7.10"
  }
 },
 "nbformat": 4,
 "nbformat_minor": 4
}
